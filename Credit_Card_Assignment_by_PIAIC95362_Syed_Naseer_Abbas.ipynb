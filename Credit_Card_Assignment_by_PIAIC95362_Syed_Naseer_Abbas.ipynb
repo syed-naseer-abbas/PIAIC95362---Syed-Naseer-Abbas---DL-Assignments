{
  "nbformat": 4,
  "nbformat_minor": 0,
  "metadata": {
    "colab": {
      "name": "Credit Card Assignment by PIAIC95362 Syed Naseer Abbas.ipynb",
      "provenance": [],
      "collapsed_sections": []
    },
    "kernelspec": {
      "name": "python3",
      "display_name": "Python 3"
    },
    "language_info": {
      "name": "python"
    },
    "accelerator": "TPU"
  },
  "cells": [
    {
      "cell_type": "code",
      "metadata": {
        "id": "MbgD6W7HgZMt"
      },
      "source": [
        "# Colab library to upload files to notebook\n",
        "from google.colab import files\n",
        "\n",
        "# Install Kaggle library\n",
        "!pip install -q kaggle\n",
        "\n",
        "# Imports\n",
        "\n",
        "import matplotlib.pyplot as plt\n",
        "import seaborn as sns\n",
        "\n",
        "import pandas as pd\n",
        "import numpy as np\n",
        "\n",
        "\n",
        "from keras import models\n",
        "from keras import layers\n",
        "from keras import callbacks"
      ],
      "execution_count": 1,
      "outputs": []
    },
    {
      "cell_type": "code",
      "metadata": {
        "colab": {
          "resources": {
            "http://localhost:8080/nbextensions/google.colab/files.js": {
              "data": "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",
              "ok": true,
              "headers": [
                [
                  "content-type",
                  "application/javascript"
                ]
              ],
              "status": 200,
              "status_text": ""
            }
          },
          "base_uri": "https://localhost:8080/",
          "height": 72
        },
        "id": "_81jjjXngqrp",
        "outputId": "021e4ebf-9426-470d-e1df-3eb932e6ff0b"
      },
      "source": [
        "# Upload kaggle API key file\n",
        "uploaded = files.upload()"
      ],
      "execution_count": 3,
      "outputs": [
        {
          "output_type": "display_data",
          "data": {
            "text/html": [
              "\n",
              "     <input type=\"file\" id=\"files-795999c3-dd51-4c44-a0ce-5dffbea7cbac\" name=\"files[]\" multiple disabled\n",
              "        style=\"border:none\" />\n",
              "     <output id=\"result-795999c3-dd51-4c44-a0ce-5dffbea7cbac\">\n",
              "      Upload widget is only available when the cell has been executed in the\n",
              "      current browser session. Please rerun this cell to enable.\n",
              "      </output>\n",
              "      <script src=\"/nbextensions/google.colab/files.js\"></script> "
            ],
            "text/plain": [
              "<IPython.core.display.HTML object>"
            ]
          },
          "metadata": {
            "tags": []
          }
        },
        {
          "output_type": "stream",
          "text": [
            "Saving kaggle.json to kaggle.json\n"
          ],
          "name": "stdout"
        }
      ]
    },
    {
      "cell_type": "code",
      "metadata": {
        "colab": {
          "base_uri": "https://localhost:8080/"
        },
        "id": "5KwXc64Qgvd9",
        "outputId": "0ddabbc4-27a1-41dd-ab7d-c94ef52ede22"
      },
      "source": [
        "!ls -l"
      ],
      "execution_count": 4,
      "outputs": [
        {
          "output_type": "stream",
          "text": [
            "total 12\n",
            "drwx------ 5 root root 4096 Apr  3 09:36 drive\n",
            "-rw-r--r-- 1 root root   63 Apr  3 09:37 kaggle.json\n",
            "drwxr-xr-x 1 root root 4096 Mar 25 13:38 sample_data\n"
          ],
          "name": "stdout"
        }
      ]
    },
    {
      "cell_type": "code",
      "metadata": {
        "id": "wfXvzndQhDPn"
      },
      "source": [
        "!mkdir ~/.kaggle"
      ],
      "execution_count": 5,
      "outputs": []
    },
    {
      "cell_type": "code",
      "metadata": {
        "id": "hW1IfFU4hDUP"
      },
      "source": [
        "!cp kaggle.json ~/.kaggle/kaggle.json"
      ],
      "execution_count": 6,
      "outputs": []
    },
    {
      "cell_type": "code",
      "metadata": {
        "colab": {
          "base_uri": "https://localhost:8080/"
        },
        "id": "h_XwOVschDZz",
        "outputId": "f3a4570c-7a86-49c1-dba5-d16ebc14f558"
      },
      "source": [
        "!ls -l"
      ],
      "execution_count": 7,
      "outputs": [
        {
          "output_type": "stream",
          "text": [
            "total 12\n",
            "drwx------ 5 root root 4096 Apr  3 09:36 drive\n",
            "-rw-r--r-- 1 root root   63 Apr  3 09:37 kaggle.json\n",
            "drwxr-xr-x 1 root root 4096 Mar 25 13:38 sample_data\n"
          ],
          "name": "stdout"
        }
      ]
    },
    {
      "cell_type": "code",
      "metadata": {
        "colab": {
          "base_uri": "https://localhost:8080/"
        },
        "id": "WYn4I5kChKdJ",
        "outputId": "abffb3d5-ab8c-4259-855f-4a03d2df7aa1"
      },
      "source": [
        "!kaggle datasets download -d mlg-ulb/creditcardfraud"
      ],
      "execution_count": 8,
      "outputs": [
        {
          "output_type": "stream",
          "text": [
            "Warning: Your Kaggle API key is readable by other users on this system! To fix this, you can run 'chmod 600 /root/.kaggle/kaggle.json'\n",
            "Downloading creditcardfraud.zip to /content\n",
            "100% 66.0M/66.0M [00:00<00:00, 78.5MB/s]\n",
            "\n"
          ],
          "name": "stdout"
        }
      ]
    },
    {
      "cell_type": "code",
      "metadata": {
        "colab": {
          "base_uri": "https://localhost:8080/"
        },
        "id": "mh9zPChhhKhE",
        "outputId": "6ca27802-d6ec-4cc9-8c73-f8e106890fc6"
      },
      "source": [
        "!ls -l"
      ],
      "execution_count": 9,
      "outputs": [
        {
          "output_type": "stream",
          "text": [
            "total 67548\n",
            "-rw-r--r-- 1 root root 69155672 Apr  3 09:37 creditcardfraud.zip\n",
            "drwx------ 5 root root     4096 Apr  3 09:36 drive\n",
            "-rw-r--r-- 1 root root       63 Apr  3 09:37 kaggle.json\n",
            "drwxr-xr-x 1 root root     4096 Mar 25 13:38 sample_data\n"
          ],
          "name": "stdout"
        }
      ]
    },
    {
      "cell_type": "code",
      "metadata": {
        "colab": {
          "base_uri": "https://localhost:8080/"
        },
        "id": "gpXbeQYGhKk3",
        "outputId": "842e4754-c422-4ad5-d365-9bb70d738e48"
      },
      "source": [
        "!unzip creditcardfraud.zip"
      ],
      "execution_count": 10,
      "outputs": [
        {
          "output_type": "stream",
          "text": [
            "Archive:  creditcardfraud.zip\n",
            "  inflating: creditcard.csv          \n"
          ],
          "name": "stdout"
        }
      ]
    },
    {
      "cell_type": "code",
      "metadata": {
        "colab": {
          "base_uri": "https://localhost:8080/"
        },
        "id": "p37xkZfchKrC",
        "outputId": "8a754aa9-65bf-4052-db61-d1c15ddc30ab"
      },
      "source": [
        "!ls -l"
      ],
      "execution_count": 11,
      "outputs": [
        {
          "output_type": "stream",
          "text": [
            "total 214844\n",
            "-rw-r--r-- 1 root root 150828752 Sep 20  2019 creditcard.csv\n",
            "-rw-r--r-- 1 root root  69155672 Apr  3 09:37 creditcardfraud.zip\n",
            "drwx------ 5 root root      4096 Apr  3 09:36 drive\n",
            "-rw-r--r-- 1 root root        63 Apr  3 09:37 kaggle.json\n",
            "drwxr-xr-x 1 root root      4096 Mar 25 13:38 sample_data\n"
          ],
          "name": "stdout"
        }
      ]
    },
    {
      "cell_type": "code",
      "metadata": {
        "id": "X5rckP52hKug"
      },
      "source": [
        "# Import the dataset into pandas dataframe\n",
        "df_alldata = pd.read_csv('creditcard.csv')"
      ],
      "execution_count": 12,
      "outputs": []
    },
    {
      "cell_type": "code",
      "metadata": {
        "colab": {
          "base_uri": "https://localhost:8080/"
        },
        "id": "RBpdRa8lhKxg",
        "outputId": "76a8a75c-7718-497d-b086-a0c05c81bd58"
      },
      "source": [
        "df_alldata.shape"
      ],
      "execution_count": 13,
      "outputs": [
        {
          "output_type": "execute_result",
          "data": {
            "text/plain": [
              "(284807, 31)"
            ]
          },
          "metadata": {
            "tags": []
          },
          "execution_count": 13
        }
      ]
    },
    {
      "cell_type": "code",
      "metadata": {
        "colab": {
          "base_uri": "https://localhost:8080/"
        },
        "id": "z190-5-ShK0V",
        "outputId": "7f738397-b0f9-4042-c824-dd13e0c8ed81"
      },
      "source": [
        "df_alldata.info()"
      ],
      "execution_count": 14,
      "outputs": [
        {
          "output_type": "stream",
          "text": [
            "<class 'pandas.core.frame.DataFrame'>\n",
            "RangeIndex: 284807 entries, 0 to 284806\n",
            "Data columns (total 31 columns):\n",
            " #   Column  Non-Null Count   Dtype  \n",
            "---  ------  --------------   -----  \n",
            " 0   Time    284807 non-null  float64\n",
            " 1   V1      284807 non-null  float64\n",
            " 2   V2      284807 non-null  float64\n",
            " 3   V3      284807 non-null  float64\n",
            " 4   V4      284807 non-null  float64\n",
            " 5   V5      284807 non-null  float64\n",
            " 6   V6      284807 non-null  float64\n",
            " 7   V7      284807 non-null  float64\n",
            " 8   V8      284807 non-null  float64\n",
            " 9   V9      284807 non-null  float64\n",
            " 10  V10     284807 non-null  float64\n",
            " 11  V11     284807 non-null  float64\n",
            " 12  V12     284807 non-null  float64\n",
            " 13  V13     284807 non-null  float64\n",
            " 14  V14     284807 non-null  float64\n",
            " 15  V15     284807 non-null  float64\n",
            " 16  V16     284807 non-null  float64\n",
            " 17  V17     284807 non-null  float64\n",
            " 18  V18     284807 non-null  float64\n",
            " 19  V19     284807 non-null  float64\n",
            " 20  V20     284807 non-null  float64\n",
            " 21  V21     284807 non-null  float64\n",
            " 22  V22     284807 non-null  float64\n",
            " 23  V23     284807 non-null  float64\n",
            " 24  V24     284807 non-null  float64\n",
            " 25  V25     284807 non-null  float64\n",
            " 26  V26     284807 non-null  float64\n",
            " 27  V27     284807 non-null  float64\n",
            " 28  V28     284807 non-null  float64\n",
            " 29  Amount  284807 non-null  float64\n",
            " 30  Class   284807 non-null  int64  \n",
            "dtypes: float64(30), int64(1)\n",
            "memory usage: 67.4 MB\n"
          ],
          "name": "stdout"
        }
      ]
    },
    {
      "cell_type": "code",
      "metadata": {
        "colab": {
          "base_uri": "https://localhost:8080/",
          "height": 317
        },
        "id": "55jr0_Kbidft",
        "outputId": "2a414f63-0437-4cdf-fcfb-aea33a62ac19"
      },
      "source": [
        "df_alldata.describe()"
      ],
      "execution_count": 15,
      "outputs": [
        {
          "output_type": "execute_result",
          "data": {
            "text/html": [
              "<div>\n",
              "<style scoped>\n",
              "    .dataframe tbody tr th:only-of-type {\n",
              "        vertical-align: middle;\n",
              "    }\n",
              "\n",
              "    .dataframe tbody tr th {\n",
              "        vertical-align: top;\n",
              "    }\n",
              "\n",
              "    .dataframe thead th {\n",
              "        text-align: right;\n",
              "    }\n",
              "</style>\n",
              "<table border=\"1\" class=\"dataframe\">\n",
              "  <thead>\n",
              "    <tr style=\"text-align: right;\">\n",
              "      <th></th>\n",
              "      <th>Time</th>\n",
              "      <th>V1</th>\n",
              "      <th>V2</th>\n",
              "      <th>V3</th>\n",
              "      <th>V4</th>\n",
              "      <th>V5</th>\n",
              "      <th>V6</th>\n",
              "      <th>V7</th>\n",
              "      <th>V8</th>\n",
              "      <th>V9</th>\n",
              "      <th>V10</th>\n",
              "      <th>V11</th>\n",
              "      <th>V12</th>\n",
              "      <th>V13</th>\n",
              "      <th>V14</th>\n",
              "      <th>V15</th>\n",
              "      <th>V16</th>\n",
              "      <th>V17</th>\n",
              "      <th>V18</th>\n",
              "      <th>V19</th>\n",
              "      <th>V20</th>\n",
              "      <th>V21</th>\n",
              "      <th>V22</th>\n",
              "      <th>V23</th>\n",
              "      <th>V24</th>\n",
              "      <th>V25</th>\n",
              "      <th>V26</th>\n",
              "      <th>V27</th>\n",
              "      <th>V28</th>\n",
              "      <th>Amount</th>\n",
              "      <th>Class</th>\n",
              "    </tr>\n",
              "  </thead>\n",
              "  <tbody>\n",
              "    <tr>\n",
              "      <th>count</th>\n",
              "      <td>284807.000000</td>\n",
              "      <td>2.848070e+05</td>\n",
              "      <td>2.848070e+05</td>\n",
              "      <td>2.848070e+05</td>\n",
              "      <td>2.848070e+05</td>\n",
              "      <td>2.848070e+05</td>\n",
              "      <td>2.848070e+05</td>\n",
              "      <td>2.848070e+05</td>\n",
              "      <td>2.848070e+05</td>\n",
              "      <td>2.848070e+05</td>\n",
              "      <td>2.848070e+05</td>\n",
              "      <td>2.848070e+05</td>\n",
              "      <td>2.848070e+05</td>\n",
              "      <td>2.848070e+05</td>\n",
              "      <td>2.848070e+05</td>\n",
              "      <td>2.848070e+05</td>\n",
              "      <td>2.848070e+05</td>\n",
              "      <td>2.848070e+05</td>\n",
              "      <td>2.848070e+05</td>\n",
              "      <td>2.848070e+05</td>\n",
              "      <td>2.848070e+05</td>\n",
              "      <td>2.848070e+05</td>\n",
              "      <td>2.848070e+05</td>\n",
              "      <td>2.848070e+05</td>\n",
              "      <td>2.848070e+05</td>\n",
              "      <td>2.848070e+05</td>\n",
              "      <td>2.848070e+05</td>\n",
              "      <td>2.848070e+05</td>\n",
              "      <td>2.848070e+05</td>\n",
              "      <td>284807.000000</td>\n",
              "      <td>284807.000000</td>\n",
              "    </tr>\n",
              "    <tr>\n",
              "      <th>mean</th>\n",
              "      <td>94813.859575</td>\n",
              "      <td>3.919560e-15</td>\n",
              "      <td>5.688174e-16</td>\n",
              "      <td>-8.769071e-15</td>\n",
              "      <td>2.782312e-15</td>\n",
              "      <td>-1.552563e-15</td>\n",
              "      <td>2.010663e-15</td>\n",
              "      <td>-1.694249e-15</td>\n",
              "      <td>-1.927028e-16</td>\n",
              "      <td>-3.137024e-15</td>\n",
              "      <td>1.768627e-15</td>\n",
              "      <td>9.170318e-16</td>\n",
              "      <td>-1.810658e-15</td>\n",
              "      <td>1.693438e-15</td>\n",
              "      <td>1.479045e-15</td>\n",
              "      <td>3.482336e-15</td>\n",
              "      <td>1.392007e-15</td>\n",
              "      <td>-7.528491e-16</td>\n",
              "      <td>4.328772e-16</td>\n",
              "      <td>9.049732e-16</td>\n",
              "      <td>5.085503e-16</td>\n",
              "      <td>1.537294e-16</td>\n",
              "      <td>7.959909e-16</td>\n",
              "      <td>5.367590e-16</td>\n",
              "      <td>4.458112e-15</td>\n",
              "      <td>1.453003e-15</td>\n",
              "      <td>1.699104e-15</td>\n",
              "      <td>-3.660161e-16</td>\n",
              "      <td>-1.206049e-16</td>\n",
              "      <td>88.349619</td>\n",
              "      <td>0.001727</td>\n",
              "    </tr>\n",
              "    <tr>\n",
              "      <th>std</th>\n",
              "      <td>47488.145955</td>\n",
              "      <td>1.958696e+00</td>\n",
              "      <td>1.651309e+00</td>\n",
              "      <td>1.516255e+00</td>\n",
              "      <td>1.415869e+00</td>\n",
              "      <td>1.380247e+00</td>\n",
              "      <td>1.332271e+00</td>\n",
              "      <td>1.237094e+00</td>\n",
              "      <td>1.194353e+00</td>\n",
              "      <td>1.098632e+00</td>\n",
              "      <td>1.088850e+00</td>\n",
              "      <td>1.020713e+00</td>\n",
              "      <td>9.992014e-01</td>\n",
              "      <td>9.952742e-01</td>\n",
              "      <td>9.585956e-01</td>\n",
              "      <td>9.153160e-01</td>\n",
              "      <td>8.762529e-01</td>\n",
              "      <td>8.493371e-01</td>\n",
              "      <td>8.381762e-01</td>\n",
              "      <td>8.140405e-01</td>\n",
              "      <td>7.709250e-01</td>\n",
              "      <td>7.345240e-01</td>\n",
              "      <td>7.257016e-01</td>\n",
              "      <td>6.244603e-01</td>\n",
              "      <td>6.056471e-01</td>\n",
              "      <td>5.212781e-01</td>\n",
              "      <td>4.822270e-01</td>\n",
              "      <td>4.036325e-01</td>\n",
              "      <td>3.300833e-01</td>\n",
              "      <td>250.120109</td>\n",
              "      <td>0.041527</td>\n",
              "    </tr>\n",
              "    <tr>\n",
              "      <th>min</th>\n",
              "      <td>0.000000</td>\n",
              "      <td>-5.640751e+01</td>\n",
              "      <td>-7.271573e+01</td>\n",
              "      <td>-4.832559e+01</td>\n",
              "      <td>-5.683171e+00</td>\n",
              "      <td>-1.137433e+02</td>\n",
              "      <td>-2.616051e+01</td>\n",
              "      <td>-4.355724e+01</td>\n",
              "      <td>-7.321672e+01</td>\n",
              "      <td>-1.343407e+01</td>\n",
              "      <td>-2.458826e+01</td>\n",
              "      <td>-4.797473e+00</td>\n",
              "      <td>-1.868371e+01</td>\n",
              "      <td>-5.791881e+00</td>\n",
              "      <td>-1.921433e+01</td>\n",
              "      <td>-4.498945e+00</td>\n",
              "      <td>-1.412985e+01</td>\n",
              "      <td>-2.516280e+01</td>\n",
              "      <td>-9.498746e+00</td>\n",
              "      <td>-7.213527e+00</td>\n",
              "      <td>-5.449772e+01</td>\n",
              "      <td>-3.483038e+01</td>\n",
              "      <td>-1.093314e+01</td>\n",
              "      <td>-4.480774e+01</td>\n",
              "      <td>-2.836627e+00</td>\n",
              "      <td>-1.029540e+01</td>\n",
              "      <td>-2.604551e+00</td>\n",
              "      <td>-2.256568e+01</td>\n",
              "      <td>-1.543008e+01</td>\n",
              "      <td>0.000000</td>\n",
              "      <td>0.000000</td>\n",
              "    </tr>\n",
              "    <tr>\n",
              "      <th>25%</th>\n",
              "      <td>54201.500000</td>\n",
              "      <td>-9.203734e-01</td>\n",
              "      <td>-5.985499e-01</td>\n",
              "      <td>-8.903648e-01</td>\n",
              "      <td>-8.486401e-01</td>\n",
              "      <td>-6.915971e-01</td>\n",
              "      <td>-7.682956e-01</td>\n",
              "      <td>-5.540759e-01</td>\n",
              "      <td>-2.086297e-01</td>\n",
              "      <td>-6.430976e-01</td>\n",
              "      <td>-5.354257e-01</td>\n",
              "      <td>-7.624942e-01</td>\n",
              "      <td>-4.055715e-01</td>\n",
              "      <td>-6.485393e-01</td>\n",
              "      <td>-4.255740e-01</td>\n",
              "      <td>-5.828843e-01</td>\n",
              "      <td>-4.680368e-01</td>\n",
              "      <td>-4.837483e-01</td>\n",
              "      <td>-4.988498e-01</td>\n",
              "      <td>-4.562989e-01</td>\n",
              "      <td>-2.117214e-01</td>\n",
              "      <td>-2.283949e-01</td>\n",
              "      <td>-5.423504e-01</td>\n",
              "      <td>-1.618463e-01</td>\n",
              "      <td>-3.545861e-01</td>\n",
              "      <td>-3.171451e-01</td>\n",
              "      <td>-3.269839e-01</td>\n",
              "      <td>-7.083953e-02</td>\n",
              "      <td>-5.295979e-02</td>\n",
              "      <td>5.600000</td>\n",
              "      <td>0.000000</td>\n",
              "    </tr>\n",
              "    <tr>\n",
              "      <th>50%</th>\n",
              "      <td>84692.000000</td>\n",
              "      <td>1.810880e-02</td>\n",
              "      <td>6.548556e-02</td>\n",
              "      <td>1.798463e-01</td>\n",
              "      <td>-1.984653e-02</td>\n",
              "      <td>-5.433583e-02</td>\n",
              "      <td>-2.741871e-01</td>\n",
              "      <td>4.010308e-02</td>\n",
              "      <td>2.235804e-02</td>\n",
              "      <td>-5.142873e-02</td>\n",
              "      <td>-9.291738e-02</td>\n",
              "      <td>-3.275735e-02</td>\n",
              "      <td>1.400326e-01</td>\n",
              "      <td>-1.356806e-02</td>\n",
              "      <td>5.060132e-02</td>\n",
              "      <td>4.807155e-02</td>\n",
              "      <td>6.641332e-02</td>\n",
              "      <td>-6.567575e-02</td>\n",
              "      <td>-3.636312e-03</td>\n",
              "      <td>3.734823e-03</td>\n",
              "      <td>-6.248109e-02</td>\n",
              "      <td>-2.945017e-02</td>\n",
              "      <td>6.781943e-03</td>\n",
              "      <td>-1.119293e-02</td>\n",
              "      <td>4.097606e-02</td>\n",
              "      <td>1.659350e-02</td>\n",
              "      <td>-5.213911e-02</td>\n",
              "      <td>1.342146e-03</td>\n",
              "      <td>1.124383e-02</td>\n",
              "      <td>22.000000</td>\n",
              "      <td>0.000000</td>\n",
              "    </tr>\n",
              "    <tr>\n",
              "      <th>75%</th>\n",
              "      <td>139320.500000</td>\n",
              "      <td>1.315642e+00</td>\n",
              "      <td>8.037239e-01</td>\n",
              "      <td>1.027196e+00</td>\n",
              "      <td>7.433413e-01</td>\n",
              "      <td>6.119264e-01</td>\n",
              "      <td>3.985649e-01</td>\n",
              "      <td>5.704361e-01</td>\n",
              "      <td>3.273459e-01</td>\n",
              "      <td>5.971390e-01</td>\n",
              "      <td>4.539234e-01</td>\n",
              "      <td>7.395934e-01</td>\n",
              "      <td>6.182380e-01</td>\n",
              "      <td>6.625050e-01</td>\n",
              "      <td>4.931498e-01</td>\n",
              "      <td>6.488208e-01</td>\n",
              "      <td>5.232963e-01</td>\n",
              "      <td>3.996750e-01</td>\n",
              "      <td>5.008067e-01</td>\n",
              "      <td>4.589494e-01</td>\n",
              "      <td>1.330408e-01</td>\n",
              "      <td>1.863772e-01</td>\n",
              "      <td>5.285536e-01</td>\n",
              "      <td>1.476421e-01</td>\n",
              "      <td>4.395266e-01</td>\n",
              "      <td>3.507156e-01</td>\n",
              "      <td>2.409522e-01</td>\n",
              "      <td>9.104512e-02</td>\n",
              "      <td>7.827995e-02</td>\n",
              "      <td>77.165000</td>\n",
              "      <td>0.000000</td>\n",
              "    </tr>\n",
              "    <tr>\n",
              "      <th>max</th>\n",
              "      <td>172792.000000</td>\n",
              "      <td>2.454930e+00</td>\n",
              "      <td>2.205773e+01</td>\n",
              "      <td>9.382558e+00</td>\n",
              "      <td>1.687534e+01</td>\n",
              "      <td>3.480167e+01</td>\n",
              "      <td>7.330163e+01</td>\n",
              "      <td>1.205895e+02</td>\n",
              "      <td>2.000721e+01</td>\n",
              "      <td>1.559499e+01</td>\n",
              "      <td>2.374514e+01</td>\n",
              "      <td>1.201891e+01</td>\n",
              "      <td>7.848392e+00</td>\n",
              "      <td>7.126883e+00</td>\n",
              "      <td>1.052677e+01</td>\n",
              "      <td>8.877742e+00</td>\n",
              "      <td>1.731511e+01</td>\n",
              "      <td>9.253526e+00</td>\n",
              "      <td>5.041069e+00</td>\n",
              "      <td>5.591971e+00</td>\n",
              "      <td>3.942090e+01</td>\n",
              "      <td>2.720284e+01</td>\n",
              "      <td>1.050309e+01</td>\n",
              "      <td>2.252841e+01</td>\n",
              "      <td>4.584549e+00</td>\n",
              "      <td>7.519589e+00</td>\n",
              "      <td>3.517346e+00</td>\n",
              "      <td>3.161220e+01</td>\n",
              "      <td>3.384781e+01</td>\n",
              "      <td>25691.160000</td>\n",
              "      <td>1.000000</td>\n",
              "    </tr>\n",
              "  </tbody>\n",
              "</table>\n",
              "</div>"
            ],
            "text/plain": [
              "                Time            V1  ...         Amount          Class\n",
              "count  284807.000000  2.848070e+05  ...  284807.000000  284807.000000\n",
              "mean    94813.859575  3.919560e-15  ...      88.349619       0.001727\n",
              "std     47488.145955  1.958696e+00  ...     250.120109       0.041527\n",
              "min         0.000000 -5.640751e+01  ...       0.000000       0.000000\n",
              "25%     54201.500000 -9.203734e-01  ...       5.600000       0.000000\n",
              "50%     84692.000000  1.810880e-02  ...      22.000000       0.000000\n",
              "75%    139320.500000  1.315642e+00  ...      77.165000       0.000000\n",
              "max    172792.000000  2.454930e+00  ...   25691.160000       1.000000\n",
              "\n",
              "[8 rows x 31 columns]"
            ]
          },
          "metadata": {
            "tags": []
          },
          "execution_count": 15
        }
      ]
    },
    {
      "cell_type": "code",
      "metadata": {
        "colab": {
          "base_uri": "https://localhost:8080/"
        },
        "id": "DINwyomEidm4",
        "outputId": "bd2acc18-3a1e-4de4-fe7f-a57df0d07df6"
      },
      "source": [
        "transactions = len(df_alldata)\n",
        "nonfraud_count = len(df_alldata[df_alldata.Class == 0])\n",
        "fraud_count = len(df_alldata[df_alldata.Class == 1])\n",
        "fraud_percentage = round(fraud_count/nonfraud_count*100, 2)\n",
        "\n",
        "print('Total Transations         = ', transactions)\n",
        "print('Number of Non-fraud cases = ', nonfraud_count)\n",
        "print('Number of Non-fraud cases = ', fraud_count)\n",
        "print('Percentage of fraud cases = ', fraud_percentage)\n"
      ],
      "execution_count": 16,
      "outputs": [
        {
          "output_type": "stream",
          "text": [
            "Total Transations         =  284807\n",
            "Number of Non-fraud cases =  284315\n",
            "Number of Non-fraud cases =  492\n",
            "Percentage of fraud cases =  0.17\n"
          ],
          "name": "stdout"
        }
      ]
    },
    {
      "cell_type": "code",
      "metadata": {
        "id": "LgfIM8v2idrQ"
      },
      "source": [
        "df_alldata = df_alldata.drop(['Time'], axis =1)"
      ],
      "execution_count": 17,
      "outputs": []
    },
    {
      "cell_type": "code",
      "metadata": {
        "colab": {
          "base_uri": "https://localhost:8080/",
          "height": 224
        },
        "id": "48BfptUoidvT",
        "outputId": "124b6ffa-5561-4692-fd1e-b7d39c56cfba"
      },
      "source": [
        "df_alldata.head()"
      ],
      "execution_count": 18,
      "outputs": [
        {
          "output_type": "execute_result",
          "data": {
            "text/html": [
              "<div>\n",
              "<style scoped>\n",
              "    .dataframe tbody tr th:only-of-type {\n",
              "        vertical-align: middle;\n",
              "    }\n",
              "\n",
              "    .dataframe tbody tr th {\n",
              "        vertical-align: top;\n",
              "    }\n",
              "\n",
              "    .dataframe thead th {\n",
              "        text-align: right;\n",
              "    }\n",
              "</style>\n",
              "<table border=\"1\" class=\"dataframe\">\n",
              "  <thead>\n",
              "    <tr style=\"text-align: right;\">\n",
              "      <th></th>\n",
              "      <th>V1</th>\n",
              "      <th>V2</th>\n",
              "      <th>V3</th>\n",
              "      <th>V4</th>\n",
              "      <th>V5</th>\n",
              "      <th>V6</th>\n",
              "      <th>V7</th>\n",
              "      <th>V8</th>\n",
              "      <th>V9</th>\n",
              "      <th>V10</th>\n",
              "      <th>V11</th>\n",
              "      <th>V12</th>\n",
              "      <th>V13</th>\n",
              "      <th>V14</th>\n",
              "      <th>V15</th>\n",
              "      <th>V16</th>\n",
              "      <th>V17</th>\n",
              "      <th>V18</th>\n",
              "      <th>V19</th>\n",
              "      <th>V20</th>\n",
              "      <th>V21</th>\n",
              "      <th>V22</th>\n",
              "      <th>V23</th>\n",
              "      <th>V24</th>\n",
              "      <th>V25</th>\n",
              "      <th>V26</th>\n",
              "      <th>V27</th>\n",
              "      <th>V28</th>\n",
              "      <th>Amount</th>\n",
              "      <th>Class</th>\n",
              "    </tr>\n",
              "  </thead>\n",
              "  <tbody>\n",
              "    <tr>\n",
              "      <th>0</th>\n",
              "      <td>-1.359807</td>\n",
              "      <td>-0.072781</td>\n",
              "      <td>2.536347</td>\n",
              "      <td>1.378155</td>\n",
              "      <td>-0.338321</td>\n",
              "      <td>0.462388</td>\n",
              "      <td>0.239599</td>\n",
              "      <td>0.098698</td>\n",
              "      <td>0.363787</td>\n",
              "      <td>0.090794</td>\n",
              "      <td>-0.551600</td>\n",
              "      <td>-0.617801</td>\n",
              "      <td>-0.991390</td>\n",
              "      <td>-0.311169</td>\n",
              "      <td>1.468177</td>\n",
              "      <td>-0.470401</td>\n",
              "      <td>0.207971</td>\n",
              "      <td>0.025791</td>\n",
              "      <td>0.403993</td>\n",
              "      <td>0.251412</td>\n",
              "      <td>-0.018307</td>\n",
              "      <td>0.277838</td>\n",
              "      <td>-0.110474</td>\n",
              "      <td>0.066928</td>\n",
              "      <td>0.128539</td>\n",
              "      <td>-0.189115</td>\n",
              "      <td>0.133558</td>\n",
              "      <td>-0.021053</td>\n",
              "      <td>149.62</td>\n",
              "      <td>0</td>\n",
              "    </tr>\n",
              "    <tr>\n",
              "      <th>1</th>\n",
              "      <td>1.191857</td>\n",
              "      <td>0.266151</td>\n",
              "      <td>0.166480</td>\n",
              "      <td>0.448154</td>\n",
              "      <td>0.060018</td>\n",
              "      <td>-0.082361</td>\n",
              "      <td>-0.078803</td>\n",
              "      <td>0.085102</td>\n",
              "      <td>-0.255425</td>\n",
              "      <td>-0.166974</td>\n",
              "      <td>1.612727</td>\n",
              "      <td>1.065235</td>\n",
              "      <td>0.489095</td>\n",
              "      <td>-0.143772</td>\n",
              "      <td>0.635558</td>\n",
              "      <td>0.463917</td>\n",
              "      <td>-0.114805</td>\n",
              "      <td>-0.183361</td>\n",
              "      <td>-0.145783</td>\n",
              "      <td>-0.069083</td>\n",
              "      <td>-0.225775</td>\n",
              "      <td>-0.638672</td>\n",
              "      <td>0.101288</td>\n",
              "      <td>-0.339846</td>\n",
              "      <td>0.167170</td>\n",
              "      <td>0.125895</td>\n",
              "      <td>-0.008983</td>\n",
              "      <td>0.014724</td>\n",
              "      <td>2.69</td>\n",
              "      <td>0</td>\n",
              "    </tr>\n",
              "    <tr>\n",
              "      <th>2</th>\n",
              "      <td>-1.358354</td>\n",
              "      <td>-1.340163</td>\n",
              "      <td>1.773209</td>\n",
              "      <td>0.379780</td>\n",
              "      <td>-0.503198</td>\n",
              "      <td>1.800499</td>\n",
              "      <td>0.791461</td>\n",
              "      <td>0.247676</td>\n",
              "      <td>-1.514654</td>\n",
              "      <td>0.207643</td>\n",
              "      <td>0.624501</td>\n",
              "      <td>0.066084</td>\n",
              "      <td>0.717293</td>\n",
              "      <td>-0.165946</td>\n",
              "      <td>2.345865</td>\n",
              "      <td>-2.890083</td>\n",
              "      <td>1.109969</td>\n",
              "      <td>-0.121359</td>\n",
              "      <td>-2.261857</td>\n",
              "      <td>0.524980</td>\n",
              "      <td>0.247998</td>\n",
              "      <td>0.771679</td>\n",
              "      <td>0.909412</td>\n",
              "      <td>-0.689281</td>\n",
              "      <td>-0.327642</td>\n",
              "      <td>-0.139097</td>\n",
              "      <td>-0.055353</td>\n",
              "      <td>-0.059752</td>\n",
              "      <td>378.66</td>\n",
              "      <td>0</td>\n",
              "    </tr>\n",
              "    <tr>\n",
              "      <th>3</th>\n",
              "      <td>-0.966272</td>\n",
              "      <td>-0.185226</td>\n",
              "      <td>1.792993</td>\n",
              "      <td>-0.863291</td>\n",
              "      <td>-0.010309</td>\n",
              "      <td>1.247203</td>\n",
              "      <td>0.237609</td>\n",
              "      <td>0.377436</td>\n",
              "      <td>-1.387024</td>\n",
              "      <td>-0.054952</td>\n",
              "      <td>-0.226487</td>\n",
              "      <td>0.178228</td>\n",
              "      <td>0.507757</td>\n",
              "      <td>-0.287924</td>\n",
              "      <td>-0.631418</td>\n",
              "      <td>-1.059647</td>\n",
              "      <td>-0.684093</td>\n",
              "      <td>1.965775</td>\n",
              "      <td>-1.232622</td>\n",
              "      <td>-0.208038</td>\n",
              "      <td>-0.108300</td>\n",
              "      <td>0.005274</td>\n",
              "      <td>-0.190321</td>\n",
              "      <td>-1.175575</td>\n",
              "      <td>0.647376</td>\n",
              "      <td>-0.221929</td>\n",
              "      <td>0.062723</td>\n",
              "      <td>0.061458</td>\n",
              "      <td>123.50</td>\n",
              "      <td>0</td>\n",
              "    </tr>\n",
              "    <tr>\n",
              "      <th>4</th>\n",
              "      <td>-1.158233</td>\n",
              "      <td>0.877737</td>\n",
              "      <td>1.548718</td>\n",
              "      <td>0.403034</td>\n",
              "      <td>-0.407193</td>\n",
              "      <td>0.095921</td>\n",
              "      <td>0.592941</td>\n",
              "      <td>-0.270533</td>\n",
              "      <td>0.817739</td>\n",
              "      <td>0.753074</td>\n",
              "      <td>-0.822843</td>\n",
              "      <td>0.538196</td>\n",
              "      <td>1.345852</td>\n",
              "      <td>-1.119670</td>\n",
              "      <td>0.175121</td>\n",
              "      <td>-0.451449</td>\n",
              "      <td>-0.237033</td>\n",
              "      <td>-0.038195</td>\n",
              "      <td>0.803487</td>\n",
              "      <td>0.408542</td>\n",
              "      <td>-0.009431</td>\n",
              "      <td>0.798278</td>\n",
              "      <td>-0.137458</td>\n",
              "      <td>0.141267</td>\n",
              "      <td>-0.206010</td>\n",
              "      <td>0.502292</td>\n",
              "      <td>0.219422</td>\n",
              "      <td>0.215153</td>\n",
              "      <td>69.99</td>\n",
              "      <td>0</td>\n",
              "    </tr>\n",
              "  </tbody>\n",
              "</table>\n",
              "</div>"
            ],
            "text/plain": [
              "         V1        V2        V3        V4  ...       V27       V28  Amount  Class\n",
              "0 -1.359807 -0.072781  2.536347  1.378155  ...  0.133558 -0.021053  149.62      0\n",
              "1  1.191857  0.266151  0.166480  0.448154  ... -0.008983  0.014724    2.69      0\n",
              "2 -1.358354 -1.340163  1.773209  0.379780  ... -0.055353 -0.059752  378.66      0\n",
              "3 -0.966272 -0.185226  1.792993 -0.863291  ...  0.062723  0.061458  123.50      0\n",
              "4 -1.158233  0.877737  1.548718  0.403034  ...  0.219422  0.215153   69.99      0\n",
              "\n",
              "[5 rows x 30 columns]"
            ]
          },
          "metadata": {
            "tags": []
          },
          "execution_count": 18
        }
      ]
    },
    {
      "cell_type": "code",
      "metadata": {
        "id": "1kUDRCXCidyz"
      },
      "source": [
        "train_dataset = df_alldata.sample(frac = 0.7, random_state = 100)"
      ],
      "execution_count": 19,
      "outputs": []
    },
    {
      "cell_type": "code",
      "metadata": {
        "colab": {
          "base_uri": "https://localhost:8080/"
        },
        "id": "g0FUb5Lwid3H",
        "outputId": "8da079f9-f539-4cc3-a25a-d3998aa22943"
      },
      "source": [
        "train_dataset.shape"
      ],
      "execution_count": 20,
      "outputs": [
        {
          "output_type": "execute_result",
          "data": {
            "text/plain": [
              "(199365, 30)"
            ]
          },
          "metadata": {
            "tags": []
          },
          "execution_count": 20
        }
      ]
    },
    {
      "cell_type": "code",
      "metadata": {
        "id": "8UhevYG0id7F"
      },
      "source": [
        "test_dataset = df_alldata.drop(train_dataset.index)"
      ],
      "execution_count": 21,
      "outputs": []
    },
    {
      "cell_type": "code",
      "metadata": {
        "colab": {
          "base_uri": "https://localhost:8080/"
        },
        "id": "k8E2pt1Bid_G",
        "outputId": "0018d66c-8ae6-4b7f-d79b-b3f9d4a30250"
      },
      "source": [
        "test_dataset.shape"
      ],
      "execution_count": 22,
      "outputs": [
        {
          "output_type": "execute_result",
          "data": {
            "text/plain": [
              "(85442, 30)"
            ]
          },
          "metadata": {
            "tags": []
          },
          "execution_count": 22
        }
      ]
    },
    {
      "cell_type": "code",
      "metadata": {
        "id": "AEXgeyaKieDW"
      },
      "source": [
        "train_labels = train_dataset.pop('Class')"
      ],
      "execution_count": 23,
      "outputs": []
    },
    {
      "cell_type": "code",
      "metadata": {
        "id": "br2JwRCBieIi"
      },
      "source": [
        "test_labels = test_dataset.pop('Class')"
      ],
      "execution_count": 24,
      "outputs": []
    },
    {
      "cell_type": "code",
      "metadata": {
        "colab": {
          "base_uri": "https://localhost:8080/"
        },
        "id": "Fb_sEDfDw5F3",
        "outputId": "47288c82-338d-4651-b4cd-411f9c066e76"
      },
      "source": [
        "train_labels.head()"
      ],
      "execution_count": 25,
      "outputs": [
        {
          "output_type": "execute_result",
          "data": {
            "text/plain": [
              "49089     0\n",
              "154704    0\n",
              "67247     0\n",
              "251657    0\n",
              "201903    0\n",
              "Name: Class, dtype: int64"
            ]
          },
          "metadata": {
            "tags": []
          },
          "execution_count": 25
        }
      ]
    },
    {
      "cell_type": "code",
      "metadata": {
        "colab": {
          "base_uri": "https://localhost:8080/"
        },
        "id": "ECCIS5J5w-QR",
        "outputId": "a8744612-077c-4c19-a820-bcc110d7075d"
      },
      "source": [
        "test_labels.head()"
      ],
      "execution_count": 26,
      "outputs": [
        {
          "output_type": "execute_result",
          "data": {
            "text/plain": [
              "2     0\n",
              "9     0\n",
              "10    0\n",
              "17    0\n",
              "20    0\n",
              "Name: Class, dtype: int64"
            ]
          },
          "metadata": {
            "tags": []
          },
          "execution_count": 26
        }
      ]
    },
    {
      "cell_type": "code",
      "metadata": {
        "id": "jwcvH2u-xBQV"
      },
      "source": [
        "train_stats = train_dataset.describe()"
      ],
      "execution_count": 27,
      "outputs": []
    },
    {
      "cell_type": "code",
      "metadata": {
        "colab": {
          "base_uri": "https://localhost:8080/",
          "height": 317
        },
        "id": "5Wivef2lxJwr",
        "outputId": "87d04442-3f68-4847-843b-21a955d273a9"
      },
      "source": [
        "train_stats"
      ],
      "execution_count": 28,
      "outputs": [
        {
          "output_type": "execute_result",
          "data": {
            "text/html": [
              "<div>\n",
              "<style scoped>\n",
              "    .dataframe tbody tr th:only-of-type {\n",
              "        vertical-align: middle;\n",
              "    }\n",
              "\n",
              "    .dataframe tbody tr th {\n",
              "        vertical-align: top;\n",
              "    }\n",
              "\n",
              "    .dataframe thead th {\n",
              "        text-align: right;\n",
              "    }\n",
              "</style>\n",
              "<table border=\"1\" class=\"dataframe\">\n",
              "  <thead>\n",
              "    <tr style=\"text-align: right;\">\n",
              "      <th></th>\n",
              "      <th>V1</th>\n",
              "      <th>V2</th>\n",
              "      <th>V3</th>\n",
              "      <th>V4</th>\n",
              "      <th>V5</th>\n",
              "      <th>V6</th>\n",
              "      <th>V7</th>\n",
              "      <th>V8</th>\n",
              "      <th>V9</th>\n",
              "      <th>V10</th>\n",
              "      <th>V11</th>\n",
              "      <th>V12</th>\n",
              "      <th>V13</th>\n",
              "      <th>V14</th>\n",
              "      <th>V15</th>\n",
              "      <th>V16</th>\n",
              "      <th>V17</th>\n",
              "      <th>V18</th>\n",
              "      <th>V19</th>\n",
              "      <th>V20</th>\n",
              "      <th>V21</th>\n",
              "      <th>V22</th>\n",
              "      <th>V23</th>\n",
              "      <th>V24</th>\n",
              "      <th>V25</th>\n",
              "      <th>V26</th>\n",
              "      <th>V27</th>\n",
              "      <th>V28</th>\n",
              "      <th>Amount</th>\n",
              "    </tr>\n",
              "  </thead>\n",
              "  <tbody>\n",
              "    <tr>\n",
              "      <th>count</th>\n",
              "      <td>199365.000000</td>\n",
              "      <td>199365.000000</td>\n",
              "      <td>199365.000000</td>\n",
              "      <td>199365.000000</td>\n",
              "      <td>199365.000000</td>\n",
              "      <td>199365.000000</td>\n",
              "      <td>199365.000000</td>\n",
              "      <td>199365.000000</td>\n",
              "      <td>199365.000000</td>\n",
              "      <td>199365.000000</td>\n",
              "      <td>199365.000000</td>\n",
              "      <td>199365.000000</td>\n",
              "      <td>199365.000000</td>\n",
              "      <td>199365.000000</td>\n",
              "      <td>199365.000000</td>\n",
              "      <td>199365.000000</td>\n",
              "      <td>199365.000000</td>\n",
              "      <td>199365.000000</td>\n",
              "      <td>199365.000000</td>\n",
              "      <td>199365.000000</td>\n",
              "      <td>199365.000000</td>\n",
              "      <td>199365.000000</td>\n",
              "      <td>199365.000000</td>\n",
              "      <td>199365.000000</td>\n",
              "      <td>199365.000000</td>\n",
              "      <td>199365.000000</td>\n",
              "      <td>199365.000000</td>\n",
              "      <td>199365.000000</td>\n",
              "      <td>199365.000000</td>\n",
              "    </tr>\n",
              "    <tr>\n",
              "      <th>mean</th>\n",
              "      <td>-0.000612</td>\n",
              "      <td>0.005182</td>\n",
              "      <td>-0.004105</td>\n",
              "      <td>0.001761</td>\n",
              "      <td>-0.003080</td>\n",
              "      <td>0.000128</td>\n",
              "      <td>-0.000734</td>\n",
              "      <td>0.000744</td>\n",
              "      <td>0.001512</td>\n",
              "      <td>0.000079</td>\n",
              "      <td>0.000835</td>\n",
              "      <td>0.001778</td>\n",
              "      <td>-0.001404</td>\n",
              "      <td>-0.000676</td>\n",
              "      <td>0.001659</td>\n",
              "      <td>0.000560</td>\n",
              "      <td>0.000059</td>\n",
              "      <td>-0.000485</td>\n",
              "      <td>-0.000507</td>\n",
              "      <td>-0.000440</td>\n",
              "      <td>0.000625</td>\n",
              "      <td>-0.000262</td>\n",
              "      <td>0.000495</td>\n",
              "      <td>0.001927</td>\n",
              "      <td>0.001231</td>\n",
              "      <td>-0.000161</td>\n",
              "      <td>-0.000455</td>\n",
              "      <td>0.001095</td>\n",
              "      <td>88.109363</td>\n",
              "    </tr>\n",
              "    <tr>\n",
              "      <th>std</th>\n",
              "      <td>1.969047</td>\n",
              "      <td>1.656528</td>\n",
              "      <td>1.527194</td>\n",
              "      <td>1.417690</td>\n",
              "      <td>1.395411</td>\n",
              "      <td>1.338274</td>\n",
              "      <td>1.256848</td>\n",
              "      <td>1.194400</td>\n",
              "      <td>1.100427</td>\n",
              "      <td>1.096889</td>\n",
              "      <td>1.022735</td>\n",
              "      <td>1.000956</td>\n",
              "      <td>0.995274</td>\n",
              "      <td>0.963840</td>\n",
              "      <td>0.915402</td>\n",
              "      <td>0.876490</td>\n",
              "      <td>0.854032</td>\n",
              "      <td>0.838201</td>\n",
              "      <td>0.812484</td>\n",
              "      <td>0.777407</td>\n",
              "      <td>0.736217</td>\n",
              "      <td>0.725836</td>\n",
              "      <td>0.611351</td>\n",
              "      <td>0.604822</td>\n",
              "      <td>0.521028</td>\n",
              "      <td>0.481710</td>\n",
              "      <td>0.408775</td>\n",
              "      <td>0.338162</td>\n",
              "      <td>255.311938</td>\n",
              "    </tr>\n",
              "    <tr>\n",
              "      <th>min</th>\n",
              "      <td>-56.407510</td>\n",
              "      <td>-72.715728</td>\n",
              "      <td>-48.325589</td>\n",
              "      <td>-5.683171</td>\n",
              "      <td>-113.743307</td>\n",
              "      <td>-26.160506</td>\n",
              "      <td>-43.557242</td>\n",
              "      <td>-50.943369</td>\n",
              "      <td>-13.434066</td>\n",
              "      <td>-24.588262</td>\n",
              "      <td>-4.682931</td>\n",
              "      <td>-18.683715</td>\n",
              "      <td>-4.008640</td>\n",
              "      <td>-19.214325</td>\n",
              "      <td>-4.498945</td>\n",
              "      <td>-14.129855</td>\n",
              "      <td>-25.162799</td>\n",
              "      <td>-9.498746</td>\n",
              "      <td>-7.213527</td>\n",
              "      <td>-54.497720</td>\n",
              "      <td>-22.889347</td>\n",
              "      <td>-10.933144</td>\n",
              "      <td>-36.666000</td>\n",
              "      <td>-2.822684</td>\n",
              "      <td>-8.696627</td>\n",
              "      <td>-2.604551</td>\n",
              "      <td>-22.565679</td>\n",
              "      <td>-15.430084</td>\n",
              "      <td>0.000000</td>\n",
              "    </tr>\n",
              "    <tr>\n",
              "      <th>25%</th>\n",
              "      <td>-0.920482</td>\n",
              "      <td>-0.596260</td>\n",
              "      <td>-0.891950</td>\n",
              "      <td>-0.845133</td>\n",
              "      <td>-0.691347</td>\n",
              "      <td>-0.769207</td>\n",
              "      <td>-0.554720</td>\n",
              "      <td>-0.207990</td>\n",
              "      <td>-0.641669</td>\n",
              "      <td>-0.535141</td>\n",
              "      <td>-0.762468</td>\n",
              "      <td>-0.402016</td>\n",
              "      <td>-0.650097</td>\n",
              "      <td>-0.424654</td>\n",
              "      <td>-0.581513</td>\n",
              "      <td>-0.466037</td>\n",
              "      <td>-0.483191</td>\n",
              "      <td>-0.498862</td>\n",
              "      <td>-0.456560</td>\n",
              "      <td>-0.211596</td>\n",
              "      <td>-0.227936</td>\n",
              "      <td>-0.542563</td>\n",
              "      <td>-0.161282</td>\n",
              "      <td>-0.353075</td>\n",
              "      <td>-0.316246</td>\n",
              "      <td>-0.326719</td>\n",
              "      <td>-0.070669</td>\n",
              "      <td>-0.052670</td>\n",
              "      <td>5.580000</td>\n",
              "    </tr>\n",
              "    <tr>\n",
              "      <th>50%</th>\n",
              "      <td>0.022628</td>\n",
              "      <td>0.067181</td>\n",
              "      <td>0.179384</td>\n",
              "      <td>-0.015583</td>\n",
              "      <td>-0.056884</td>\n",
              "      <td>-0.276135</td>\n",
              "      <td>0.038461</td>\n",
              "      <td>0.022779</td>\n",
              "      <td>-0.048282</td>\n",
              "      <td>-0.093068</td>\n",
              "      <td>-0.032456</td>\n",
              "      <td>0.141469</td>\n",
              "      <td>-0.016775</td>\n",
              "      <td>0.050601</td>\n",
              "      <td>0.049612</td>\n",
              "      <td>0.067435</td>\n",
              "      <td>-0.066225</td>\n",
              "      <td>-0.004300</td>\n",
              "      <td>0.003983</td>\n",
              "      <td>-0.062430</td>\n",
              "      <td>-0.029256</td>\n",
              "      <td>0.006762</td>\n",
              "      <td>-0.011042</td>\n",
              "      <td>0.041946</td>\n",
              "      <td>0.018433</td>\n",
              "      <td>-0.051835</td>\n",
              "      <td>0.001547</td>\n",
              "      <td>0.011423</td>\n",
              "      <td>21.980000</td>\n",
              "    </tr>\n",
              "    <tr>\n",
              "      <th>75%</th>\n",
              "      <td>1.315333</td>\n",
              "      <td>0.805571</td>\n",
              "      <td>1.027036</td>\n",
              "      <td>0.742906</td>\n",
              "      <td>0.610206</td>\n",
              "      <td>0.394520</td>\n",
              "      <td>0.568213</td>\n",
              "      <td>0.328375</td>\n",
              "      <td>0.598032</td>\n",
              "      <td>0.453374</td>\n",
              "      <td>0.741313</td>\n",
              "      <td>0.618749</td>\n",
              "      <td>0.660510</td>\n",
              "      <td>0.492764</td>\n",
              "      <td>0.650876</td>\n",
              "      <td>0.521538</td>\n",
              "      <td>0.399673</td>\n",
              "      <td>0.500733</td>\n",
              "      <td>0.457185</td>\n",
              "      <td>0.132150</td>\n",
              "      <td>0.186710</td>\n",
              "      <td>0.528478</td>\n",
              "      <td>0.147484</td>\n",
              "      <td>0.441882</td>\n",
              "      <td>0.352061</td>\n",
              "      <td>0.240587</td>\n",
              "      <td>0.091382</td>\n",
              "      <td>0.078045</td>\n",
              "      <td>76.860000</td>\n",
              "    </tr>\n",
              "    <tr>\n",
              "      <th>max</th>\n",
              "      <td>2.454930</td>\n",
              "      <td>22.057729</td>\n",
              "      <td>9.382558</td>\n",
              "      <td>16.875344</td>\n",
              "      <td>34.801666</td>\n",
              "      <td>73.301626</td>\n",
              "      <td>120.589494</td>\n",
              "      <td>20.007208</td>\n",
              "      <td>15.594995</td>\n",
              "      <td>23.745136</td>\n",
              "      <td>12.018913</td>\n",
              "      <td>4.846452</td>\n",
              "      <td>7.126883</td>\n",
              "      <td>7.754599</td>\n",
              "      <td>8.877742</td>\n",
              "      <td>17.315112</td>\n",
              "      <td>9.253526</td>\n",
              "      <td>5.041069</td>\n",
              "      <td>5.572113</td>\n",
              "      <td>39.420904</td>\n",
              "      <td>27.202839</td>\n",
              "      <td>8.361985</td>\n",
              "      <td>22.528412</td>\n",
              "      <td>4.584549</td>\n",
              "      <td>7.519589</td>\n",
              "      <td>3.517346</td>\n",
              "      <td>31.612198</td>\n",
              "      <td>33.847808</td>\n",
              "      <td>25691.160000</td>\n",
              "    </tr>\n",
              "  </tbody>\n",
              "</table>\n",
              "</div>"
            ],
            "text/plain": [
              "                  V1             V2  ...            V28         Amount\n",
              "count  199365.000000  199365.000000  ...  199365.000000  199365.000000\n",
              "mean       -0.000612       0.005182  ...       0.001095      88.109363\n",
              "std         1.969047       1.656528  ...       0.338162     255.311938\n",
              "min       -56.407510     -72.715728  ...     -15.430084       0.000000\n",
              "25%        -0.920482      -0.596260  ...      -0.052670       5.580000\n",
              "50%         0.022628       0.067181  ...       0.011423      21.980000\n",
              "75%         1.315333       0.805571  ...       0.078045      76.860000\n",
              "max         2.454930      22.057729  ...      33.847808   25691.160000\n",
              "\n",
              "[8 rows x 29 columns]"
            ]
          },
          "metadata": {
            "tags": []
          },
          "execution_count": 28
        }
      ]
    },
    {
      "cell_type": "code",
      "metadata": {
        "id": "WrM1Ss2GxJ0k"
      },
      "source": [
        "train_stats = train_stats.transpose()"
      ],
      "execution_count": 29,
      "outputs": []
    },
    {
      "cell_type": "code",
      "metadata": {
        "colab": {
          "base_uri": "https://localhost:8080/",
          "height": 948
        },
        "id": "lPQY97ecxJ4r",
        "outputId": "c053d0fb-3ffe-4ead-b9cd-dcf836dcf3e1"
      },
      "source": [
        "train_stats"
      ],
      "execution_count": 30,
      "outputs": [
        {
          "output_type": "execute_result",
          "data": {
            "text/html": [
              "<div>\n",
              "<style scoped>\n",
              "    .dataframe tbody tr th:only-of-type {\n",
              "        vertical-align: middle;\n",
              "    }\n",
              "\n",
              "    .dataframe tbody tr th {\n",
              "        vertical-align: top;\n",
              "    }\n",
              "\n",
              "    .dataframe thead th {\n",
              "        text-align: right;\n",
              "    }\n",
              "</style>\n",
              "<table border=\"1\" class=\"dataframe\">\n",
              "  <thead>\n",
              "    <tr style=\"text-align: right;\">\n",
              "      <th></th>\n",
              "      <th>count</th>\n",
              "      <th>mean</th>\n",
              "      <th>std</th>\n",
              "      <th>min</th>\n",
              "      <th>25%</th>\n",
              "      <th>50%</th>\n",
              "      <th>75%</th>\n",
              "      <th>max</th>\n",
              "    </tr>\n",
              "  </thead>\n",
              "  <tbody>\n",
              "    <tr>\n",
              "      <th>V1</th>\n",
              "      <td>199365.0</td>\n",
              "      <td>-0.000612</td>\n",
              "      <td>1.969047</td>\n",
              "      <td>-56.407510</td>\n",
              "      <td>-0.920482</td>\n",
              "      <td>0.022628</td>\n",
              "      <td>1.315333</td>\n",
              "      <td>2.454930</td>\n",
              "    </tr>\n",
              "    <tr>\n",
              "      <th>V2</th>\n",
              "      <td>199365.0</td>\n",
              "      <td>0.005182</td>\n",
              "      <td>1.656528</td>\n",
              "      <td>-72.715728</td>\n",
              "      <td>-0.596260</td>\n",
              "      <td>0.067181</td>\n",
              "      <td>0.805571</td>\n",
              "      <td>22.057729</td>\n",
              "    </tr>\n",
              "    <tr>\n",
              "      <th>V3</th>\n",
              "      <td>199365.0</td>\n",
              "      <td>-0.004105</td>\n",
              "      <td>1.527194</td>\n",
              "      <td>-48.325589</td>\n",
              "      <td>-0.891950</td>\n",
              "      <td>0.179384</td>\n",
              "      <td>1.027036</td>\n",
              "      <td>9.382558</td>\n",
              "    </tr>\n",
              "    <tr>\n",
              "      <th>V4</th>\n",
              "      <td>199365.0</td>\n",
              "      <td>0.001761</td>\n",
              "      <td>1.417690</td>\n",
              "      <td>-5.683171</td>\n",
              "      <td>-0.845133</td>\n",
              "      <td>-0.015583</td>\n",
              "      <td>0.742906</td>\n",
              "      <td>16.875344</td>\n",
              "    </tr>\n",
              "    <tr>\n",
              "      <th>V5</th>\n",
              "      <td>199365.0</td>\n",
              "      <td>-0.003080</td>\n",
              "      <td>1.395411</td>\n",
              "      <td>-113.743307</td>\n",
              "      <td>-0.691347</td>\n",
              "      <td>-0.056884</td>\n",
              "      <td>0.610206</td>\n",
              "      <td>34.801666</td>\n",
              "    </tr>\n",
              "    <tr>\n",
              "      <th>V6</th>\n",
              "      <td>199365.0</td>\n",
              "      <td>0.000128</td>\n",
              "      <td>1.338274</td>\n",
              "      <td>-26.160506</td>\n",
              "      <td>-0.769207</td>\n",
              "      <td>-0.276135</td>\n",
              "      <td>0.394520</td>\n",
              "      <td>73.301626</td>\n",
              "    </tr>\n",
              "    <tr>\n",
              "      <th>V7</th>\n",
              "      <td>199365.0</td>\n",
              "      <td>-0.000734</td>\n",
              "      <td>1.256848</td>\n",
              "      <td>-43.557242</td>\n",
              "      <td>-0.554720</td>\n",
              "      <td>0.038461</td>\n",
              "      <td>0.568213</td>\n",
              "      <td>120.589494</td>\n",
              "    </tr>\n",
              "    <tr>\n",
              "      <th>V8</th>\n",
              "      <td>199365.0</td>\n",
              "      <td>0.000744</td>\n",
              "      <td>1.194400</td>\n",
              "      <td>-50.943369</td>\n",
              "      <td>-0.207990</td>\n",
              "      <td>0.022779</td>\n",
              "      <td>0.328375</td>\n",
              "      <td>20.007208</td>\n",
              "    </tr>\n",
              "    <tr>\n",
              "      <th>V9</th>\n",
              "      <td>199365.0</td>\n",
              "      <td>0.001512</td>\n",
              "      <td>1.100427</td>\n",
              "      <td>-13.434066</td>\n",
              "      <td>-0.641669</td>\n",
              "      <td>-0.048282</td>\n",
              "      <td>0.598032</td>\n",
              "      <td>15.594995</td>\n",
              "    </tr>\n",
              "    <tr>\n",
              "      <th>V10</th>\n",
              "      <td>199365.0</td>\n",
              "      <td>0.000079</td>\n",
              "      <td>1.096889</td>\n",
              "      <td>-24.588262</td>\n",
              "      <td>-0.535141</td>\n",
              "      <td>-0.093068</td>\n",
              "      <td>0.453374</td>\n",
              "      <td>23.745136</td>\n",
              "    </tr>\n",
              "    <tr>\n",
              "      <th>V11</th>\n",
              "      <td>199365.0</td>\n",
              "      <td>0.000835</td>\n",
              "      <td>1.022735</td>\n",
              "      <td>-4.682931</td>\n",
              "      <td>-0.762468</td>\n",
              "      <td>-0.032456</td>\n",
              "      <td>0.741313</td>\n",
              "      <td>12.018913</td>\n",
              "    </tr>\n",
              "    <tr>\n",
              "      <th>V12</th>\n",
              "      <td>199365.0</td>\n",
              "      <td>0.001778</td>\n",
              "      <td>1.000956</td>\n",
              "      <td>-18.683715</td>\n",
              "      <td>-0.402016</td>\n",
              "      <td>0.141469</td>\n",
              "      <td>0.618749</td>\n",
              "      <td>4.846452</td>\n",
              "    </tr>\n",
              "    <tr>\n",
              "      <th>V13</th>\n",
              "      <td>199365.0</td>\n",
              "      <td>-0.001404</td>\n",
              "      <td>0.995274</td>\n",
              "      <td>-4.008640</td>\n",
              "      <td>-0.650097</td>\n",
              "      <td>-0.016775</td>\n",
              "      <td>0.660510</td>\n",
              "      <td>7.126883</td>\n",
              "    </tr>\n",
              "    <tr>\n",
              "      <th>V14</th>\n",
              "      <td>199365.0</td>\n",
              "      <td>-0.000676</td>\n",
              "      <td>0.963840</td>\n",
              "      <td>-19.214325</td>\n",
              "      <td>-0.424654</td>\n",
              "      <td>0.050601</td>\n",
              "      <td>0.492764</td>\n",
              "      <td>7.754599</td>\n",
              "    </tr>\n",
              "    <tr>\n",
              "      <th>V15</th>\n",
              "      <td>199365.0</td>\n",
              "      <td>0.001659</td>\n",
              "      <td>0.915402</td>\n",
              "      <td>-4.498945</td>\n",
              "      <td>-0.581513</td>\n",
              "      <td>0.049612</td>\n",
              "      <td>0.650876</td>\n",
              "      <td>8.877742</td>\n",
              "    </tr>\n",
              "    <tr>\n",
              "      <th>V16</th>\n",
              "      <td>199365.0</td>\n",
              "      <td>0.000560</td>\n",
              "      <td>0.876490</td>\n",
              "      <td>-14.129855</td>\n",
              "      <td>-0.466037</td>\n",
              "      <td>0.067435</td>\n",
              "      <td>0.521538</td>\n",
              "      <td>17.315112</td>\n",
              "    </tr>\n",
              "    <tr>\n",
              "      <th>V17</th>\n",
              "      <td>199365.0</td>\n",
              "      <td>0.000059</td>\n",
              "      <td>0.854032</td>\n",
              "      <td>-25.162799</td>\n",
              "      <td>-0.483191</td>\n",
              "      <td>-0.066225</td>\n",
              "      <td>0.399673</td>\n",
              "      <td>9.253526</td>\n",
              "    </tr>\n",
              "    <tr>\n",
              "      <th>V18</th>\n",
              "      <td>199365.0</td>\n",
              "      <td>-0.000485</td>\n",
              "      <td>0.838201</td>\n",
              "      <td>-9.498746</td>\n",
              "      <td>-0.498862</td>\n",
              "      <td>-0.004300</td>\n",
              "      <td>0.500733</td>\n",
              "      <td>5.041069</td>\n",
              "    </tr>\n",
              "    <tr>\n",
              "      <th>V19</th>\n",
              "      <td>199365.0</td>\n",
              "      <td>-0.000507</td>\n",
              "      <td>0.812484</td>\n",
              "      <td>-7.213527</td>\n",
              "      <td>-0.456560</td>\n",
              "      <td>0.003983</td>\n",
              "      <td>0.457185</td>\n",
              "      <td>5.572113</td>\n",
              "    </tr>\n",
              "    <tr>\n",
              "      <th>V20</th>\n",
              "      <td>199365.0</td>\n",
              "      <td>-0.000440</td>\n",
              "      <td>0.777407</td>\n",
              "      <td>-54.497720</td>\n",
              "      <td>-0.211596</td>\n",
              "      <td>-0.062430</td>\n",
              "      <td>0.132150</td>\n",
              "      <td>39.420904</td>\n",
              "    </tr>\n",
              "    <tr>\n",
              "      <th>V21</th>\n",
              "      <td>199365.0</td>\n",
              "      <td>0.000625</td>\n",
              "      <td>0.736217</td>\n",
              "      <td>-22.889347</td>\n",
              "      <td>-0.227936</td>\n",
              "      <td>-0.029256</td>\n",
              "      <td>0.186710</td>\n",
              "      <td>27.202839</td>\n",
              "    </tr>\n",
              "    <tr>\n",
              "      <th>V22</th>\n",
              "      <td>199365.0</td>\n",
              "      <td>-0.000262</td>\n",
              "      <td>0.725836</td>\n",
              "      <td>-10.933144</td>\n",
              "      <td>-0.542563</td>\n",
              "      <td>0.006762</td>\n",
              "      <td>0.528478</td>\n",
              "      <td>8.361985</td>\n",
              "    </tr>\n",
              "    <tr>\n",
              "      <th>V23</th>\n",
              "      <td>199365.0</td>\n",
              "      <td>0.000495</td>\n",
              "      <td>0.611351</td>\n",
              "      <td>-36.666000</td>\n",
              "      <td>-0.161282</td>\n",
              "      <td>-0.011042</td>\n",
              "      <td>0.147484</td>\n",
              "      <td>22.528412</td>\n",
              "    </tr>\n",
              "    <tr>\n",
              "      <th>V24</th>\n",
              "      <td>199365.0</td>\n",
              "      <td>0.001927</td>\n",
              "      <td>0.604822</td>\n",
              "      <td>-2.822684</td>\n",
              "      <td>-0.353075</td>\n",
              "      <td>0.041946</td>\n",
              "      <td>0.441882</td>\n",
              "      <td>4.584549</td>\n",
              "    </tr>\n",
              "    <tr>\n",
              "      <th>V25</th>\n",
              "      <td>199365.0</td>\n",
              "      <td>0.001231</td>\n",
              "      <td>0.521028</td>\n",
              "      <td>-8.696627</td>\n",
              "      <td>-0.316246</td>\n",
              "      <td>0.018433</td>\n",
              "      <td>0.352061</td>\n",
              "      <td>7.519589</td>\n",
              "    </tr>\n",
              "    <tr>\n",
              "      <th>V26</th>\n",
              "      <td>199365.0</td>\n",
              "      <td>-0.000161</td>\n",
              "      <td>0.481710</td>\n",
              "      <td>-2.604551</td>\n",
              "      <td>-0.326719</td>\n",
              "      <td>-0.051835</td>\n",
              "      <td>0.240587</td>\n",
              "      <td>3.517346</td>\n",
              "    </tr>\n",
              "    <tr>\n",
              "      <th>V27</th>\n",
              "      <td>199365.0</td>\n",
              "      <td>-0.000455</td>\n",
              "      <td>0.408775</td>\n",
              "      <td>-22.565679</td>\n",
              "      <td>-0.070669</td>\n",
              "      <td>0.001547</td>\n",
              "      <td>0.091382</td>\n",
              "      <td>31.612198</td>\n",
              "    </tr>\n",
              "    <tr>\n",
              "      <th>V28</th>\n",
              "      <td>199365.0</td>\n",
              "      <td>0.001095</td>\n",
              "      <td>0.338162</td>\n",
              "      <td>-15.430084</td>\n",
              "      <td>-0.052670</td>\n",
              "      <td>0.011423</td>\n",
              "      <td>0.078045</td>\n",
              "      <td>33.847808</td>\n",
              "    </tr>\n",
              "    <tr>\n",
              "      <th>Amount</th>\n",
              "      <td>199365.0</td>\n",
              "      <td>88.109363</td>\n",
              "      <td>255.311938</td>\n",
              "      <td>0.000000</td>\n",
              "      <td>5.580000</td>\n",
              "      <td>21.980000</td>\n",
              "      <td>76.860000</td>\n",
              "      <td>25691.160000</td>\n",
              "    </tr>\n",
              "  </tbody>\n",
              "</table>\n",
              "</div>"
            ],
            "text/plain": [
              "           count       mean         std  ...        50%        75%           max\n",
              "V1      199365.0  -0.000612    1.969047  ...   0.022628   1.315333      2.454930\n",
              "V2      199365.0   0.005182    1.656528  ...   0.067181   0.805571     22.057729\n",
              "V3      199365.0  -0.004105    1.527194  ...   0.179384   1.027036      9.382558\n",
              "V4      199365.0   0.001761    1.417690  ...  -0.015583   0.742906     16.875344\n",
              "V5      199365.0  -0.003080    1.395411  ...  -0.056884   0.610206     34.801666\n",
              "V6      199365.0   0.000128    1.338274  ...  -0.276135   0.394520     73.301626\n",
              "V7      199365.0  -0.000734    1.256848  ...   0.038461   0.568213    120.589494\n",
              "V8      199365.0   0.000744    1.194400  ...   0.022779   0.328375     20.007208\n",
              "V9      199365.0   0.001512    1.100427  ...  -0.048282   0.598032     15.594995\n",
              "V10     199365.0   0.000079    1.096889  ...  -0.093068   0.453374     23.745136\n",
              "V11     199365.0   0.000835    1.022735  ...  -0.032456   0.741313     12.018913\n",
              "V12     199365.0   0.001778    1.000956  ...   0.141469   0.618749      4.846452\n",
              "V13     199365.0  -0.001404    0.995274  ...  -0.016775   0.660510      7.126883\n",
              "V14     199365.0  -0.000676    0.963840  ...   0.050601   0.492764      7.754599\n",
              "V15     199365.0   0.001659    0.915402  ...   0.049612   0.650876      8.877742\n",
              "V16     199365.0   0.000560    0.876490  ...   0.067435   0.521538     17.315112\n",
              "V17     199365.0   0.000059    0.854032  ...  -0.066225   0.399673      9.253526\n",
              "V18     199365.0  -0.000485    0.838201  ...  -0.004300   0.500733      5.041069\n",
              "V19     199365.0  -0.000507    0.812484  ...   0.003983   0.457185      5.572113\n",
              "V20     199365.0  -0.000440    0.777407  ...  -0.062430   0.132150     39.420904\n",
              "V21     199365.0   0.000625    0.736217  ...  -0.029256   0.186710     27.202839\n",
              "V22     199365.0  -0.000262    0.725836  ...   0.006762   0.528478      8.361985\n",
              "V23     199365.0   0.000495    0.611351  ...  -0.011042   0.147484     22.528412\n",
              "V24     199365.0   0.001927    0.604822  ...   0.041946   0.441882      4.584549\n",
              "V25     199365.0   0.001231    0.521028  ...   0.018433   0.352061      7.519589\n",
              "V26     199365.0  -0.000161    0.481710  ...  -0.051835   0.240587      3.517346\n",
              "V27     199365.0  -0.000455    0.408775  ...   0.001547   0.091382     31.612198\n",
              "V28     199365.0   0.001095    0.338162  ...   0.011423   0.078045     33.847808\n",
              "Amount  199365.0  88.109363  255.311938  ...  21.980000  76.860000  25691.160000\n",
              "\n",
              "[29 rows x 8 columns]"
            ]
          },
          "metadata": {
            "tags": []
          },
          "execution_count": 30
        }
      ]
    },
    {
      "cell_type": "code",
      "metadata": {
        "id": "ZqHwGuenxJ87"
      },
      "source": [
        "def norm(x):\n",
        "  return (x - train_stats['mean']) / train_stats['std']"
      ],
      "execution_count": 31,
      "outputs": []
    },
    {
      "cell_type": "code",
      "metadata": {
        "id": "-Rj4y5C9xKA1"
      },
      "source": [
        "normed_train_dataset = norm(train_dataset)"
      ],
      "execution_count": 32,
      "outputs": []
    },
    {
      "cell_type": "code",
      "metadata": {
        "colab": {
          "base_uri": "https://localhost:8080/",
          "height": 224
        },
        "id": "0Yc6lgWHxKEs",
        "outputId": "8880942d-f419-4746-d773-5cf7066581d8"
      },
      "source": [
        "normed_train_dataset.head()"
      ],
      "execution_count": 33,
      "outputs": [
        {
          "output_type": "execute_result",
          "data": {
            "text/html": [
              "<div>\n",
              "<style scoped>\n",
              "    .dataframe tbody tr th:only-of-type {\n",
              "        vertical-align: middle;\n",
              "    }\n",
              "\n",
              "    .dataframe tbody tr th {\n",
              "        vertical-align: top;\n",
              "    }\n",
              "\n",
              "    .dataframe thead th {\n",
              "        text-align: right;\n",
              "    }\n",
              "</style>\n",
              "<table border=\"1\" class=\"dataframe\">\n",
              "  <thead>\n",
              "    <tr style=\"text-align: right;\">\n",
              "      <th></th>\n",
              "      <th>V1</th>\n",
              "      <th>V2</th>\n",
              "      <th>V3</th>\n",
              "      <th>V4</th>\n",
              "      <th>V5</th>\n",
              "      <th>V6</th>\n",
              "      <th>V7</th>\n",
              "      <th>V8</th>\n",
              "      <th>V9</th>\n",
              "      <th>V10</th>\n",
              "      <th>V11</th>\n",
              "      <th>V12</th>\n",
              "      <th>V13</th>\n",
              "      <th>V14</th>\n",
              "      <th>V15</th>\n",
              "      <th>V16</th>\n",
              "      <th>V17</th>\n",
              "      <th>V18</th>\n",
              "      <th>V19</th>\n",
              "      <th>V20</th>\n",
              "      <th>V21</th>\n",
              "      <th>V22</th>\n",
              "      <th>V23</th>\n",
              "      <th>V24</th>\n",
              "      <th>V25</th>\n",
              "      <th>V26</th>\n",
              "      <th>V27</th>\n",
              "      <th>V28</th>\n",
              "      <th>Amount</th>\n",
              "    </tr>\n",
              "  </thead>\n",
              "  <tbody>\n",
              "    <tr>\n",
              "      <th>49089</th>\n",
              "      <td>0.624700</td>\n",
              "      <td>-0.145280</td>\n",
              "      <td>-0.407977</td>\n",
              "      <td>0.294927</td>\n",
              "      <td>1.290011</td>\n",
              "      <td>3.040817</td>\n",
              "      <td>-0.712488</td>\n",
              "      <td>0.866845</td>\n",
              "      <td>0.676536</td>\n",
              "      <td>-0.134364</td>\n",
              "      <td>-0.832370</td>\n",
              "      <td>0.395689</td>\n",
              "      <td>-0.259672</td>\n",
              "      <td>-0.286758</td>\n",
              "      <td>-0.839487</td>\n",
              "      <td>-0.229901</td>\n",
              "      <td>-0.395981</td>\n",
              "      <td>0.007775</td>\n",
              "      <td>0.588243</td>\n",
              "      <td>-0.073941</td>\n",
              "      <td>-0.231840</td>\n",
              "      <td>-0.397456</td>\n",
              "      <td>-0.213895</td>\n",
              "      <td>1.693072</td>\n",
              "      <td>1.625169</td>\n",
              "      <td>-0.563231</td>\n",
              "      <td>0.148019</td>\n",
              "      <td>0.050299</td>\n",
              "      <td>-0.337310</td>\n",
              "    </tr>\n",
              "    <tr>\n",
              "      <th>154704</th>\n",
              "      <td>1.024610</td>\n",
              "      <td>-0.056705</td>\n",
              "      <td>-1.954665</td>\n",
              "      <td>-0.101811</td>\n",
              "      <td>1.919512</td>\n",
              "      <td>2.489895</td>\n",
              "      <td>-0.518442</td>\n",
              "      <td>0.629661</td>\n",
              "      <td>1.782085</td>\n",
              "      <td>-0.934555</td>\n",
              "      <td>1.101108</td>\n",
              "      <td>-2.417559</td>\n",
              "      <td>1.257689</td>\n",
              "      <td>-0.057617</td>\n",
              "      <td>-0.806590</td>\n",
              "      <td>0.016226</td>\n",
              "      <td>2.213254</td>\n",
              "      <td>0.398758</td>\n",
              "      <td>-0.553723</td>\n",
              "      <td>-0.189320</td>\n",
              "      <td>-0.250982</td>\n",
              "      <td>-0.123167</td>\n",
              "      <td>0.141806</td>\n",
              "      <td>0.940361</td>\n",
              "      <td>0.193210</td>\n",
              "      <td>1.289164</td>\n",
              "      <td>-0.118655</td>\n",
              "      <td>-0.129898</td>\n",
              "      <td>-0.317726</td>\n",
              "    </tr>\n",
              "    <tr>\n",
              "      <th>67247</th>\n",
              "      <td>0.272063</td>\n",
              "      <td>-0.890035</td>\n",
              "      <td>0.571234</td>\n",
              "      <td>0.270652</td>\n",
              "      <td>-1.029127</td>\n",
              "      <td>0.274974</td>\n",
              "      <td>-0.396736</td>\n",
              "      <td>0.253645</td>\n",
              "      <td>0.945598</td>\n",
              "      <td>-0.398662</td>\n",
              "      <td>1.119440</td>\n",
              "      <td>0.904930</td>\n",
              "      <td>-1.099425</td>\n",
              "      <td>-0.056445</td>\n",
              "      <td>-0.681164</td>\n",
              "      <td>-0.218629</td>\n",
              "      <td>0.365243</td>\n",
              "      <td>-0.570449</td>\n",
              "      <td>0.285132</td>\n",
              "      <td>0.563571</td>\n",
              "      <td>0.037197</td>\n",
              "      <td>-0.529660</td>\n",
              "      <td>-0.210797</td>\n",
              "      <td>0.470734</td>\n",
              "      <td>-0.264728</td>\n",
              "      <td>1.897542</td>\n",
              "      <td>-0.202825</td>\n",
              "      <td>0.151968</td>\n",
              "      <td>0.854056</td>\n",
              "    </tr>\n",
              "    <tr>\n",
              "      <th>251657</th>\n",
              "      <td>1.081283</td>\n",
              "      <td>-0.073888</td>\n",
              "      <td>-0.988613</td>\n",
              "      <td>0.116171</td>\n",
              "      <td>0.259530</td>\n",
              "      <td>-0.403654</td>\n",
              "      <td>0.092896</td>\n",
              "      <td>-0.181584</td>\n",
              "      <td>0.616853</td>\n",
              "      <td>0.072841</td>\n",
              "      <td>-1.668236</td>\n",
              "      <td>-0.129233</td>\n",
              "      <td>-0.207522</td>\n",
              "      <td>0.320129</td>\n",
              "      <td>0.231409</td>\n",
              "      <td>0.185366</td>\n",
              "      <td>-0.687430</td>\n",
              "      <td>-0.669061</td>\n",
              "      <td>0.582379</td>\n",
              "      <td>-0.291788</td>\n",
              "      <td>-0.487109</td>\n",
              "      <td>-1.246594</td>\n",
              "      <td>0.364731</td>\n",
              "      <td>-1.781570</td>\n",
              "      <td>-0.364182</td>\n",
              "      <td>0.556006</td>\n",
              "      <td>-0.174371</td>\n",
              "      <td>-0.216859</td>\n",
              "      <td>-0.341227</td>\n",
              "    </tr>\n",
              "    <tr>\n",
              "      <th>201903</th>\n",
              "      <td>0.283998</td>\n",
              "      <td>0.955448</td>\n",
              "      <td>-1.548370</td>\n",
              "      <td>3.613380</td>\n",
              "      <td>1.558586</td>\n",
              "      <td>-0.374024</td>\n",
              "      <td>0.843828</td>\n",
              "      <td>-0.213477</td>\n",
              "      <td>-1.781648</td>\n",
              "      <td>0.865025</td>\n",
              "      <td>-0.282579</td>\n",
              "      <td>-1.008460</td>\n",
              "      <td>0.473960</td>\n",
              "      <td>-2.875192</td>\n",
              "      <td>0.240659</td>\n",
              "      <td>0.403624</td>\n",
              "      <td>3.048047</td>\n",
              "      <td>1.304055</td>\n",
              "      <td>0.822898</td>\n",
              "      <td>0.321449</td>\n",
              "      <td>-0.048455</td>\n",
              "      <td>0.374351</td>\n",
              "      <td>0.623391</td>\n",
              "      <td>0.545737</td>\n",
              "      <td>-0.644855</td>\n",
              "      <td>0.932203</td>\n",
              "      <td>0.413528</td>\n",
              "      <td>0.011412</td>\n",
              "      <td>-0.226544</td>\n",
              "    </tr>\n",
              "  </tbody>\n",
              "</table>\n",
              "</div>"
            ],
            "text/plain": [
              "              V1        V2        V3  ...       V27       V28    Amount\n",
              "49089   0.624700 -0.145280 -0.407977  ...  0.148019  0.050299 -0.337310\n",
              "154704  1.024610 -0.056705 -1.954665  ... -0.118655 -0.129898 -0.317726\n",
              "67247   0.272063 -0.890035  0.571234  ... -0.202825  0.151968  0.854056\n",
              "251657  1.081283 -0.073888 -0.988613  ... -0.174371 -0.216859 -0.341227\n",
              "201903  0.283998  0.955448 -1.548370  ...  0.413528  0.011412 -0.226544\n",
              "\n",
              "[5 rows x 29 columns]"
            ]
          },
          "metadata": {
            "tags": []
          },
          "execution_count": 33
        }
      ]
    },
    {
      "cell_type": "code",
      "metadata": {
        "id": "aJqXYPnHxKJL"
      },
      "source": [
        "normed_test_dataset = norm(test_dataset)"
      ],
      "execution_count": 34,
      "outputs": []
    },
    {
      "cell_type": "code",
      "metadata": {
        "colab": {
          "base_uri": "https://localhost:8080/",
          "height": 224
        },
        "id": "HOgS5-UjxKM8",
        "outputId": "3e00e1f0-a535-4c42-d5c7-3b5aaecc3a0d"
      },
      "source": [
        "normed_test_dataset.head()"
      ],
      "execution_count": 35,
      "outputs": [
        {
          "output_type": "execute_result",
          "data": {
            "text/html": [
              "<div>\n",
              "<style scoped>\n",
              "    .dataframe tbody tr th:only-of-type {\n",
              "        vertical-align: middle;\n",
              "    }\n",
              "\n",
              "    .dataframe tbody tr th {\n",
              "        vertical-align: top;\n",
              "    }\n",
              "\n",
              "    .dataframe thead th {\n",
              "        text-align: right;\n",
              "    }\n",
              "</style>\n",
              "<table border=\"1\" class=\"dataframe\">\n",
              "  <thead>\n",
              "    <tr style=\"text-align: right;\">\n",
              "      <th></th>\n",
              "      <th>V1</th>\n",
              "      <th>V2</th>\n",
              "      <th>V3</th>\n",
              "      <th>V4</th>\n",
              "      <th>V5</th>\n",
              "      <th>V6</th>\n",
              "      <th>V7</th>\n",
              "      <th>V8</th>\n",
              "      <th>V9</th>\n",
              "      <th>V10</th>\n",
              "      <th>V11</th>\n",
              "      <th>V12</th>\n",
              "      <th>V13</th>\n",
              "      <th>V14</th>\n",
              "      <th>V15</th>\n",
              "      <th>V16</th>\n",
              "      <th>V17</th>\n",
              "      <th>V18</th>\n",
              "      <th>V19</th>\n",
              "      <th>V20</th>\n",
              "      <th>V21</th>\n",
              "      <th>V22</th>\n",
              "      <th>V23</th>\n",
              "      <th>V24</th>\n",
              "      <th>V25</th>\n",
              "      <th>V26</th>\n",
              "      <th>V27</th>\n",
              "      <th>V28</th>\n",
              "      <th>Amount</th>\n",
              "    </tr>\n",
              "  </thead>\n",
              "  <tbody>\n",
              "    <tr>\n",
              "      <th>2</th>\n",
              "      <td>-0.689543</td>\n",
              "      <td>-0.812148</td>\n",
              "      <td>1.163778</td>\n",
              "      <td>0.266644</td>\n",
              "      <td>-0.358402</td>\n",
              "      <td>1.345294</td>\n",
              "      <td>0.630303</td>\n",
              "      <td>0.206741</td>\n",
              "      <td>-1.377799</td>\n",
              "      <td>0.189230</td>\n",
              "      <td>0.609803</td>\n",
              "      <td>0.064245</td>\n",
              "      <td>0.722109</td>\n",
              "      <td>-0.171471</td>\n",
              "      <td>2.560849</td>\n",
              "      <td>-3.297976</td>\n",
              "      <td>1.299612</td>\n",
              "      <td>-0.144207</td>\n",
              "      <td>-2.783257</td>\n",
              "      <td>0.675861</td>\n",
              "      <td>0.336006</td>\n",
              "      <td>1.063521</td>\n",
              "      <td>1.486736</td>\n",
              "      <td>-1.142829</td>\n",
              "      <td>-0.631199</td>\n",
              "      <td>-0.288420</td>\n",
              "      <td>-0.134299</td>\n",
              "      <td>-0.179935</td>\n",
              "      <td>1.138022</td>\n",
              "    </tr>\n",
              "    <tr>\n",
              "      <th>9</th>\n",
              "      <td>-0.171479</td>\n",
              "      <td>0.672739</td>\n",
              "      <td>0.686535</td>\n",
              "      <td>-0.157967</td>\n",
              "      <td>0.360067</td>\n",
              "      <td>-0.184483</td>\n",
              "      <td>0.519010</td>\n",
              "      <td>0.057598</td>\n",
              "      <td>-0.670867</td>\n",
              "      <td>-0.334514</td>\n",
              "      <td>0.994177</td>\n",
              "      <td>0.833814</td>\n",
              "      <td>1.013035</td>\n",
              "      <td>-0.459461</td>\n",
              "      <td>0.162290</td>\n",
              "      <td>0.843013</td>\n",
              "      <td>-0.633511</td>\n",
              "      <td>0.569269</td>\n",
              "      <td>0.556663</td>\n",
              "      <td>0.262605</td>\n",
              "      <td>-0.336230</td>\n",
              "      <td>-0.872773</td>\n",
              "      <td>-0.198396</td>\n",
              "      <td>-0.639820</td>\n",
              "      <td>-0.136199</td>\n",
              "      <td>0.195886</td>\n",
              "      <td>0.603447</td>\n",
              "      <td>0.242429</td>\n",
              "      <td>-0.330691</td>\n",
              "    </tr>\n",
              "    <tr>\n",
              "      <th>10</th>\n",
              "      <td>0.736222</td>\n",
              "      <td>-0.713252</td>\n",
              "      <td>0.601080</td>\n",
              "      <td>-0.971600</td>\n",
              "      <td>-1.410555</td>\n",
              "      <td>-0.470218</td>\n",
              "      <td>-1.131802</td>\n",
              "      <td>0.039946</td>\n",
              "      <td>-1.564776</td>\n",
              "      <td>1.482904</td>\n",
              "      <td>1.172160</td>\n",
              "      <td>-0.672574</td>\n",
              "      <td>-0.514976</td>\n",
              "      <td>-0.097910</td>\n",
              "      <td>0.250460</td>\n",
              "      <td>0.035833</td>\n",
              "      <td>0.296659</td>\n",
              "      <td>1.019837</td>\n",
              "      <td>-0.271832</td>\n",
              "      <td>-0.497534</td>\n",
              "      <td>-0.013483</td>\n",
              "      <td>0.432821</td>\n",
              "      <td>0.044565</td>\n",
              "      <td>0.824350</td>\n",
              "      <td>0.480083</td>\n",
              "      <td>-0.268453</td>\n",
              "      <td>0.105938</td>\n",
              "      <td>0.044824</td>\n",
              "      <td>-0.314554</td>\n",
              "    </tr>\n",
              "    <tr>\n",
              "      <th>17</th>\n",
              "      <td>-0.221576</td>\n",
              "      <td>0.551626</td>\n",
              "      <td>0.608106</td>\n",
              "      <td>-0.514203</td>\n",
              "      <td>0.658415</td>\n",
              "      <td>-0.095642</td>\n",
              "      <td>0.563613</td>\n",
              "      <td>0.073023</td>\n",
              "      <td>-0.605932</td>\n",
              "      <td>-0.672866</td>\n",
              "      <td>0.316077</td>\n",
              "      <td>0.275151</td>\n",
              "      <td>0.255235</td>\n",
              "      <td>-0.302146</td>\n",
              "      <td>-0.203385</td>\n",
              "      <td>1.303623</td>\n",
              "      <td>-1.087509</td>\n",
              "      <td>0.812400</td>\n",
              "      <td>0.031930</td>\n",
              "      <td>-0.059919</td>\n",
              "      <td>-0.265439</td>\n",
              "      <td>-0.926346</td>\n",
              "      <td>-0.257385</td>\n",
              "      <td>-1.472026</td>\n",
              "      <td>-0.659549</td>\n",
              "      <td>-0.101441</td>\n",
              "      <td>0.196067</td>\n",
              "      <td>0.384219</td>\n",
              "      <td>-0.341619</td>\n",
              "    </tr>\n",
              "    <tr>\n",
              "      <th>20</th>\n",
              "      <td>0.353215</td>\n",
              "      <td>-0.825221</td>\n",
              "      <td>0.676618</td>\n",
              "      <td>0.587151</td>\n",
              "      <td>-0.851454</td>\n",
              "      <td>0.978112</td>\n",
              "      <td>-0.698456</td>\n",
              "      <td>0.372192</td>\n",
              "      <td>-0.406850</td>\n",
              "      <td>0.518231</td>\n",
              "      <td>0.995679</td>\n",
              "      <td>1.295312</td>\n",
              "      <td>0.423888</td>\n",
              "      <td>-0.385930</td>\n",
              "      <td>-0.884462</td>\n",
              "      <td>-2.333304</td>\n",
              "      <td>0.603730</td>\n",
              "      <td>0.747234</td>\n",
              "      <td>-1.599911</td>\n",
              "      <td>-0.177377</td>\n",
              "      <td>-0.402337</td>\n",
              "      <td>-0.787633</td>\n",
              "      <td>-0.084037</td>\n",
              "      <td>-0.506169</td>\n",
              "      <td>0.135828</td>\n",
              "      <td>-0.876197</td>\n",
              "      <td>0.212851</td>\n",
              "      <td>0.184537</td>\n",
              "      <td>0.562452</td>\n",
              "    </tr>\n",
              "  </tbody>\n",
              "</table>\n",
              "</div>"
            ],
            "text/plain": [
              "          V1        V2        V3  ...       V27       V28    Amount\n",
              "2  -0.689543 -0.812148  1.163778  ... -0.134299 -0.179935  1.138022\n",
              "9  -0.171479  0.672739  0.686535  ...  0.603447  0.242429 -0.330691\n",
              "10  0.736222 -0.713252  0.601080  ...  0.105938  0.044824 -0.314554\n",
              "17 -0.221576  0.551626  0.608106  ...  0.196067  0.384219 -0.341619\n",
              "20  0.353215 -0.825221  0.676618  ...  0.212851  0.184537  0.562452\n",
              "\n",
              "[5 rows x 29 columns]"
            ]
          },
          "metadata": {
            "tags": []
          },
          "execution_count": 35
        }
      ]
    },
    {
      "cell_type": "code",
      "metadata": {
        "colab": {
          "base_uri": "https://localhost:8080/"
        },
        "id": "sQo46kulxKQn",
        "outputId": "1d9df855-a74d-4473-85c7-1538176fccc9"
      },
      "source": [
        "normed_train_dataset.info()"
      ],
      "execution_count": 36,
      "outputs": [
        {
          "output_type": "stream",
          "text": [
            "<class 'pandas.core.frame.DataFrame'>\n",
            "Int64Index: 199365 entries, 49089 to 121882\n",
            "Data columns (total 29 columns):\n",
            " #   Column  Non-Null Count   Dtype  \n",
            "---  ------  --------------   -----  \n",
            " 0   V1      199365 non-null  float64\n",
            " 1   V2      199365 non-null  float64\n",
            " 2   V3      199365 non-null  float64\n",
            " 3   V4      199365 non-null  float64\n",
            " 4   V5      199365 non-null  float64\n",
            " 5   V6      199365 non-null  float64\n",
            " 6   V7      199365 non-null  float64\n",
            " 7   V8      199365 non-null  float64\n",
            " 8   V9      199365 non-null  float64\n",
            " 9   V10     199365 non-null  float64\n",
            " 10  V11     199365 non-null  float64\n",
            " 11  V12     199365 non-null  float64\n",
            " 12  V13     199365 non-null  float64\n",
            " 13  V14     199365 non-null  float64\n",
            " 14  V15     199365 non-null  float64\n",
            " 15  V16     199365 non-null  float64\n",
            " 16  V17     199365 non-null  float64\n",
            " 17  V18     199365 non-null  float64\n",
            " 18  V19     199365 non-null  float64\n",
            " 19  V20     199365 non-null  float64\n",
            " 20  V21     199365 non-null  float64\n",
            " 21  V22     199365 non-null  float64\n",
            " 22  V23     199365 non-null  float64\n",
            " 23  V24     199365 non-null  float64\n",
            " 24  V25     199365 non-null  float64\n",
            " 25  V26     199365 non-null  float64\n",
            " 26  V27     199365 non-null  float64\n",
            " 27  V28     199365 non-null  float64\n",
            " 28  Amount  199365 non-null  float64\n",
            "dtypes: float64(29)\n",
            "memory usage: 45.6 MB\n"
          ],
          "name": "stdout"
        }
      ]
    },
    {
      "cell_type": "code",
      "metadata": {
        "colab": {
          "base_uri": "https://localhost:8080/"
        },
        "id": "veAhjlxTxKVk",
        "outputId": "959820dd-4d10-416e-9770-3b97a377f209"
      },
      "source": [
        "normed_test_dataset.info()"
      ],
      "execution_count": 37,
      "outputs": [
        {
          "output_type": "stream",
          "text": [
            "<class 'pandas.core.frame.DataFrame'>\n",
            "Int64Index: 85442 entries, 2 to 284805\n",
            "Data columns (total 29 columns):\n",
            " #   Column  Non-Null Count  Dtype  \n",
            "---  ------  --------------  -----  \n",
            " 0   V1      85442 non-null  float64\n",
            " 1   V2      85442 non-null  float64\n",
            " 2   V3      85442 non-null  float64\n",
            " 3   V4      85442 non-null  float64\n",
            " 4   V5      85442 non-null  float64\n",
            " 5   V6      85442 non-null  float64\n",
            " 6   V7      85442 non-null  float64\n",
            " 7   V8      85442 non-null  float64\n",
            " 8   V9      85442 non-null  float64\n",
            " 9   V10     85442 non-null  float64\n",
            " 10  V11     85442 non-null  float64\n",
            " 11  V12     85442 non-null  float64\n",
            " 12  V13     85442 non-null  float64\n",
            " 13  V14     85442 non-null  float64\n",
            " 14  V15     85442 non-null  float64\n",
            " 15  V16     85442 non-null  float64\n",
            " 16  V17     85442 non-null  float64\n",
            " 17  V18     85442 non-null  float64\n",
            " 18  V19     85442 non-null  float64\n",
            " 19  V20     85442 non-null  float64\n",
            " 20  V21     85442 non-null  float64\n",
            " 21  V22     85442 non-null  float64\n",
            " 22  V23     85442 non-null  float64\n",
            " 23  V24     85442 non-null  float64\n",
            " 24  V25     85442 non-null  float64\n",
            " 25  V26     85442 non-null  float64\n",
            " 26  V27     85442 non-null  float64\n",
            " 27  V28     85442 non-null  float64\n",
            " 28  Amount  85442 non-null  float64\n",
            "dtypes: float64(29)\n",
            "memory usage: 19.6 MB\n"
          ],
          "name": "stdout"
        }
      ]
    },
    {
      "cell_type": "code",
      "metadata": {
        "colab": {
          "base_uri": "https://localhost:8080/"
        },
        "id": "YNTaSfgK0Cqs",
        "outputId": "ff4115eb-1ae8-40d2-9103-947d579b56f3"
      },
      "source": [
        "normed_train_dataset.shape"
      ],
      "execution_count": 38,
      "outputs": [
        {
          "output_type": "execute_result",
          "data": {
            "text/plain": [
              "(199365, 29)"
            ]
          },
          "metadata": {
            "tags": []
          },
          "execution_count": 38
        }
      ]
    },
    {
      "cell_type": "code",
      "metadata": {
        "colab": {
          "base_uri": "https://localhost:8080/"
        },
        "id": "GZzlDTD40CvJ",
        "outputId": "0c8c346e-27dd-47f5-fe62-bfa8e4b7fbd7"
      },
      "source": [
        "normed_test_dataset.shape"
      ],
      "execution_count": 39,
      "outputs": [
        {
          "output_type": "execute_result",
          "data": {
            "text/plain": [
              "(85442, 29)"
            ]
          },
          "metadata": {
            "tags": []
          },
          "execution_count": 39
        }
      ]
    },
    {
      "cell_type": "code",
      "metadata": {
        "colab": {
          "base_uri": "https://localhost:8080/"
        },
        "id": "wiTtZG_60C0F",
        "outputId": "959743b5-6c73-499a-b2cf-8fef65ed27b9"
      },
      "source": [
        "train_labels.shape"
      ],
      "execution_count": 40,
      "outputs": [
        {
          "output_type": "execute_result",
          "data": {
            "text/plain": [
              "(199365,)"
            ]
          },
          "metadata": {
            "tags": []
          },
          "execution_count": 40
        }
      ]
    },
    {
      "cell_type": "code",
      "metadata": {
        "colab": {
          "base_uri": "https://localhost:8080/"
        },
        "id": "RWL7LOeD0C7B",
        "outputId": "8a3d0bab-4191-4870-baaf-ad6cbdd300e4"
      },
      "source": [
        "test_labels.shape"
      ],
      "execution_count": 41,
      "outputs": [
        {
          "output_type": "execute_result",
          "data": {
            "text/plain": [
              "(85442,)"
            ]
          },
          "metadata": {
            "tags": []
          },
          "execution_count": 41
        }
      ]
    },
    {
      "cell_type": "code",
      "metadata": {
        "id": "iKhpP9cc0C-6"
      },
      "source": [
        "# As per Assignment requirment\n",
        "def build_model():\n",
        "  model = models.Sequential()\n",
        "  model.add(layers.Dense(10, activation='relu', input_shape=(29,)))\n",
        "  model.add(layers.Dense(8, activation='relu'))\n",
        "  model.add(layers.Dense(6, activation='relu'))\n",
        "  model.add(layers.Dense(1, activation='sigmoid'))\n",
        "  return model"
      ],
      "execution_count": 46,
      "outputs": []
    },
    {
      "cell_type": "code",
      "metadata": {
        "id": "qJH4vBX83oY6"
      },
      "source": [
        "model = build_model()"
      ],
      "execution_count": 47,
      "outputs": []
    },
    {
      "cell_type": "code",
      "metadata": {
        "id": "sjlW-G3K0DD9"
      },
      "source": [
        "from keras import optimizers\n",
        "model.compile(optimizer=optimizers.RMSprop(lr=0.001),\n",
        "loss='binary_crossentropy',\n",
        "metrics=['accuracy'])"
      ],
      "execution_count": 48,
      "outputs": []
    },
    {
      "cell_type": "code",
      "metadata": {
        "colab": {
          "base_uri": "https://localhost:8080/"
        },
        "id": "l5tkfDy60DKF",
        "outputId": "02be401f-0309-4706-cb5b-23e2603a4a91"
      },
      "source": [
        "model.summary()"
      ],
      "execution_count": 49,
      "outputs": [
        {
          "output_type": "stream",
          "text": [
            "Model: \"sequential_1\"\n",
            "_________________________________________________________________\n",
            "Layer (type)                 Output Shape              Param #   \n",
            "=================================================================\n",
            "dense_4 (Dense)              (None, 10)                300       \n",
            "_________________________________________________________________\n",
            "dense_5 (Dense)              (None, 8)                 88        \n",
            "_________________________________________________________________\n",
            "dense_6 (Dense)              (None, 6)                 54        \n",
            "_________________________________________________________________\n",
            "dense_7 (Dense)              (None, 1)                 7         \n",
            "=================================================================\n",
            "Total params: 449\n",
            "Trainable params: 449\n",
            "Non-trainable params: 0\n",
            "_________________________________________________________________\n"
          ],
          "name": "stdout"
        }
      ]
    },
    {
      "cell_type": "code",
      "metadata": {
        "id": "_stKYO0W0DOn"
      },
      "source": [
        "# epochs\n",
        "history = model.fit(normed_train_dataset, train_labels, epochs=100, batch_size=50000, validation_split=0.2, verbose=0)"
      ],
      "execution_count": 50,
      "outputs": []
    },
    {
      "cell_type": "code",
      "metadata": {
        "colab": {
          "base_uri": "https://localhost:8080/",
          "height": 204
        },
        "id": "SgElEOfj0DXL",
        "outputId": "4c5c1be0-2ccd-4336-f210-a98e10814494"
      },
      "source": [
        "hist = pd.DataFrame(history.history)\n",
        "hist['epoch'] = history.epoch\n",
        "hist.tail()"
      ],
      "execution_count": 51,
      "outputs": [
        {
          "output_type": "execute_result",
          "data": {
            "text/html": [
              "<div>\n",
              "<style scoped>\n",
              "    .dataframe tbody tr th:only-of-type {\n",
              "        vertical-align: middle;\n",
              "    }\n",
              "\n",
              "    .dataframe tbody tr th {\n",
              "        vertical-align: top;\n",
              "    }\n",
              "\n",
              "    .dataframe thead th {\n",
              "        text-align: right;\n",
              "    }\n",
              "</style>\n",
              "<table border=\"1\" class=\"dataframe\">\n",
              "  <thead>\n",
              "    <tr style=\"text-align: right;\">\n",
              "      <th></th>\n",
              "      <th>loss</th>\n",
              "      <th>accuracy</th>\n",
              "      <th>val_loss</th>\n",
              "      <th>val_accuracy</th>\n",
              "      <th>epoch</th>\n",
              "    </tr>\n",
              "  </thead>\n",
              "  <tbody>\n",
              "    <tr>\n",
              "      <th>95</th>\n",
              "      <td>0.003659</td>\n",
              "      <td>0.999279</td>\n",
              "      <td>0.003370</td>\n",
              "      <td>0.999423</td>\n",
              "      <td>95</td>\n",
              "    </tr>\n",
              "    <tr>\n",
              "      <th>96</th>\n",
              "      <td>0.003629</td>\n",
              "      <td>0.999279</td>\n",
              "      <td>0.003390</td>\n",
              "      <td>0.999323</td>\n",
              "      <td>96</td>\n",
              "    </tr>\n",
              "    <tr>\n",
              "      <th>97</th>\n",
              "      <td>0.003607</td>\n",
              "      <td>0.999266</td>\n",
              "      <td>0.003368</td>\n",
              "      <td>0.999348</td>\n",
              "      <td>97</td>\n",
              "    </tr>\n",
              "    <tr>\n",
              "      <th>98</th>\n",
              "      <td>0.003592</td>\n",
              "      <td>0.999254</td>\n",
              "      <td>0.003312</td>\n",
              "      <td>0.999448</td>\n",
              "      <td>98</td>\n",
              "    </tr>\n",
              "    <tr>\n",
              "      <th>99</th>\n",
              "      <td>0.003564</td>\n",
              "      <td>0.999291</td>\n",
              "      <td>0.003293</td>\n",
              "      <td>0.999448</td>\n",
              "      <td>99</td>\n",
              "    </tr>\n",
              "  </tbody>\n",
              "</table>\n",
              "</div>"
            ],
            "text/plain": [
              "        loss  accuracy  val_loss  val_accuracy  epoch\n",
              "95  0.003659  0.999279  0.003370      0.999423     95\n",
              "96  0.003629  0.999279  0.003390      0.999323     96\n",
              "97  0.003607  0.999266  0.003368      0.999348     97\n",
              "98  0.003592  0.999254  0.003312      0.999448     98\n",
              "99  0.003564  0.999291  0.003293      0.999448     99"
            ]
          },
          "metadata": {
            "tags": []
          },
          "execution_count": 51
        }
      ]
    },
    {
      "cell_type": "code",
      "metadata": {
        "colab": {
          "base_uri": "https://localhost:8080/",
          "height": 295
        },
        "id": "a9YqhdsV0DeO",
        "outputId": "8ed9fe79-ab93-461a-c7bb-6e0052d5e067"
      },
      "source": [
        "loss = history.history['loss']\n",
        "val_loss = history.history['val_loss']\n",
        "epochs = range(1, len(loss) + 1)\n",
        "plt.plot(epochs, loss, 'bo', label='Training loss')\n",
        "plt.plot(epochs, val_loss, 'b', label='Validation loss')\n",
        "plt.title('Training and validation loss')\n",
        "plt.xlabel('Epochs')\n",
        "plt.ylabel('loss')\n",
        "plt.legend()\n",
        "plt.show()"
      ],
      "execution_count": 52,
      "outputs": [
        {
          "output_type": "display_data",
          "data": {
            "image/png": "[encoded data removed]",
            "text/plain": [
              "<Figure size 432x288 with 1 Axes>"
            ]
          },
          "metadata": {
            "tags": [],
            "needs_background": "light"
          }
        }
      ]
    },
    {
      "cell_type": "code",
      "metadata": {
        "colab": {
          "base_uri": "https://localhost:8080/",
          "height": 295
        },
        "id": "c1SdPj-BOy7o",
        "outputId": "a85b33b1-112f-4585-821e-23a98a6edf93"
      },
      "source": [
        "loss = history.history['accuracy']\n",
        "val_loss = history.history['val_accuracy']\n",
        "epochs = range(1, len(loss) + 1)\n",
        "plt.plot(epochs, loss, 'bo', label='Training accuracy')\n",
        "plt.plot(epochs, val_loss, 'b', label='Validation accuracy')\n",
        "plt.title('Training and validation accuracy')\n",
        "plt.xlabel('Epochs')\n",
        "plt.ylabel('accuracy')\n",
        "plt.legend()\n",
        "plt.show()"
      ],
      "execution_count": 53,
      "outputs": [
        {
          "output_type": "display_data",
          "data": {
            "image/png": "[encoded data removed]",
            "text/plain": [
              "<Figure size 432x288 with 1 Axes>"
            ]
          },
          "metadata": {
            "tags": [],
            "needs_background": "light"
          }
        }
      ]
    },
    {
      "cell_type": "code",
      "metadata": {
        "id": "CJ7gTeJ6OzK-"
      },
      "source": [
        "evaluate = model.evaluate(normed_test_dataset, test_labels, verbose=0)"
      ],
      "execution_count": 54,
      "outputs": []
    },
    {
      "cell_type": "code",
      "metadata": {
        "colab": {
          "base_uri": "https://localhost:8080/"
        },
        "id": "z2VEW5y2OzS8",
        "outputId": "6bce43e2-6435-4c2e-f146-3f627713414c"
      },
      "source": [
        "evaluate"
      ],
      "execution_count": 55,
      "outputs": [
        {
          "output_type": "execute_result",
          "data": {
            "text/plain": [
              "[0.002691733418032527, 0.9994850158691406]"
            ]
          },
          "metadata": {
            "tags": []
          },
          "execution_count": 55
        }
      ]
    },
    {
      "cell_type": "code",
      "metadata": {
        "id": "ZoFx6pIZK-0D"
      },
      "source": [
        "# Loss 0.002\n",
        "# Accuracy 99.94%"
      ],
      "execution_count": 61,
      "outputs": []
    },
    {
      "cell_type": "code",
      "metadata": {
        "id": "jE9DH9RGQXlZ"
      },
      "source": [
        "test_predictions = model.predict(normed_test_dataset)"
      ],
      "execution_count": 56,
      "outputs": []
    },
    {
      "cell_type": "code",
      "metadata": {
        "colab": {
          "base_uri": "https://localhost:8080/"
        },
        "id": "6GTQeAY6QXp9",
        "outputId": "985203ae-d2c5-4646-8e6e-229a700db056"
      },
      "source": [
        "test_predictions[:10]"
      ],
      "execution_count": 57,
      "outputs": [
        {
          "output_type": "execute_result",
          "data": {
            "text/plain": [
              "array([[7.1249611e-05],\n",
              "       [2.5098610e-05],\n",
              "       [6.2391700e-05],\n",
              "       [1.7872419e-05],\n",
              "       [9.4125047e-05],\n",
              "       [1.2277663e-03],\n",
              "       [1.4957786e-04],\n",
              "       [8.0269575e-04],\n",
              "       [2.2194992e-05],\n",
              "       [2.0826697e-05]], dtype=float32)"
            ]
          },
          "metadata": {
            "tags": []
          },
          "execution_count": 57
        }
      ]
    },
    {
      "cell_type": "code",
      "metadata": {
        "colab": {
          "base_uri": "https://localhost:8080/"
        },
        "id": "O8uURNCqQXuC",
        "outputId": "a1269f27-444b-43a1-a269-487751945003"
      },
      "source": [
        "test_labels[:10]"
      ],
      "execution_count": 58,
      "outputs": [
        {
          "output_type": "execute_result",
          "data": {
            "text/plain": [
              "2     0\n",
              "9     0\n",
              "10    0\n",
              "17    0\n",
              "20    0\n",
              "27    0\n",
              "32    0\n",
              "36    0\n",
              "44    0\n",
              "48    0\n",
              "Name: Class, dtype: int64"
            ]
          },
          "metadata": {
            "tags": []
          },
          "execution_count": 58
        }
      ]
    },
    {
      "cell_type": "code",
      "metadata": {
        "colab": {
          "base_uri": "https://localhost:8080/"
        },
        "id": "E3I5UscmQX3b",
        "outputId": "b4023710-e338-44a0-8b49-f200ad77887a"
      },
      "source": [
        "np.where(test_labels > 0)"
      ],
      "execution_count": null,
      "outputs": [
        {
          "output_type": "execute_result",
          "data": {
            "text/plain": [
              "(array([  168,  1840,  1906,  1907,  2025,  2042,  2079,  2108,  2545,\n",
              "         2630,  2754,  2774,  2930,  3234,  3239,  3240,  3299,  3585,\n",
              "         3620,  4352,  4669,  4814,  5110,  5620,  5712,  5720,  9264,\n",
              "         9485, 12687, 12848, 12865, 12872, 12887, 12901, 12928, 13020,\n",
              "        13087, 13392, 14367, 14448, 15044, 15719, 15736, 17249, 19268,\n",
              "        19284, 20826, 20950, 22066, 22084, 22919, 24448, 24952, 25326,\n",
              "        26588, 26594, 27964, 28819, 30608, 30609, 30610, 32473, 34164,\n",
              "        34698, 35773, 35794, 37069, 37089, 42297, 42298, 42644, 42870,\n",
              "        43626, 44157, 44178, 44793, 44877, 45095, 45100, 45102, 45107,\n",
              "        45111, 45205, 45346, 46063, 46263, 46314, 46327, 46332, 46342,\n",
              "        47017, 47196, 47289, 47291, 48852, 52724, 53081, 53405, 54580,\n",
              "        54901, 57001, 59388, 64592, 64833, 65566, 65743, 66252, 66333,\n",
              "        66660, 67097, 67100, 68045, 68893, 69123, 70358, 70671, 71798,\n",
              "        72025, 72391, 72970, 73013, 73561, 74661, 74718, 75529, 75536,\n",
              "        75615, 76536, 78254, 78686, 78865, 78917, 84035, 84321]),)"
            ]
          },
          "metadata": {
            "tags": []
          },
          "execution_count": 96
        }
      ]
    },
    {
      "cell_type": "code",
      "metadata": {
        "colab": {
          "base_uri": "https://localhost:8080/"
        },
        "id": "9LpAqy0mQX73",
        "outputId": "86f76769-83dc-4996-d917-39aea0390860"
      },
      "source": [
        "test_labels[168:170]"
      ],
      "execution_count": null,
      "outputs": [
        {
          "output_type": "execute_result",
          "data": {
            "text/plain": [
              "541    1\n",
              "543    0\n",
              "Name: Class, dtype: int64"
            ]
          },
          "metadata": {
            "tags": []
          },
          "execution_count": 100
        }
      ]
    },
    {
      "cell_type": "code",
      "metadata": {
        "id": "m1K5FbssQYAa",
        "colab": {
          "base_uri": "https://localhost:8080/"
        },
        "outputId": "bc2ff645-3ced-42de-9cbc-23be9cec2191"
      },
      "source": [
        "test_predictions[168:170]"
      ],
      "execution_count": 59,
      "outputs": [
        {
          "output_type": "execute_result",
          "data": {
            "text/plain": [
              "array([[6.8900716e-01],\n",
              "       [2.9759438e-05]], dtype=float32)"
            ]
          },
          "metadata": {
            "tags": []
          },
          "execution_count": 59
        }
      ]
    },
    {
      "cell_type": "code",
      "metadata": {
        "id": "Tj5DzkH7QYEo"
      },
      "source": [
        "# Verification is successful"
      ],
      "execution_count": 60,
      "outputs": []
    }
  ]
}