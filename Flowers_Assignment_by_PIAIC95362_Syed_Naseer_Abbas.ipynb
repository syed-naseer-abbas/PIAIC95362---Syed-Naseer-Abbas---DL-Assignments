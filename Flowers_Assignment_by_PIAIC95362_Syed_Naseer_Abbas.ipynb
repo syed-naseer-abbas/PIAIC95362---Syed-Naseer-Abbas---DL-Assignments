{
  "nbformat": 4,
  "nbformat_minor": 0,
  "metadata": {
    "colab": {
      "name": "Flowers Assignment by PIAIC95362 Syed Naseer Abbas.ipynb",
      "provenance": [],
      "collapsed_sections": []
    },
    "kernelspec": {
      "name": "python3",
      "display_name": "Python 3"
    },
    "language_info": {
      "name": "python"
    },
    "accelerator": "TPU"
  },
  "cells": [
    {
      "cell_type": "code",
      "metadata": {
        "id": "VnVkwDfBkz83"
      },
      "source": [
        "import os\n",
        "import glob\n",
        "import cv2\n",
        "import numpy as np\n",
        "import zipfile"
      ],
      "execution_count": 1,
      "outputs": []
    },
    {
      "cell_type": "code",
      "metadata": {
        "colab": {
          "base_uri": "https://localhost:8080/"
        },
        "id": "iI5PVZdljc4W",
        "outputId": "26363711-1329-4b85-f37d-fa83aa7efb07"
      },
      "source": [
        "daisy_dir = os.path.join('/content/drive/MyDrive/flowers/daisy')\n",
        "dandelion_dir = os.path.join('/content/drive/MyDrive/flowers/dandelion')\n",
        "rose_dir = os.path.join('/content/drive/MyDrive/flowers/rose')\n",
        "sunflower_dir = os.path.join('/content/drive/MyDrive/flowers/sunflower')\n",
        "tulip_dir = os.path.join('/content/drive/MyDrive/flowers/tulip')\n",
        "\n",
        "print('total training daisy images:', len(os.listdir(daisy_dir)))\n",
        "print('total training dandelion images:', len(os.listdir(dandelion_dir)))\n",
        "print('total training rose images:', len(os.listdir(rose_dir)))\n",
        "print('total training sunflower images:', len(os.listdir(sunflower_dir)))\n",
        "print('total training tulip images:', len(os.listdir(tulip_dir)))"
      ],
      "execution_count": 2,
      "outputs": [
        {
          "output_type": "stream",
          "text": [
            "total training daisy images: 769\n",
            "total training dandelion images: 1055\n",
            "total training rose images: 784\n",
            "total training sunflower images: 734\n",
            "total training tulip images: 984\n"
          ],
          "name": "stdout"
        }
      ]
    },
    {
      "cell_type": "code",
      "metadata": {
        "id": "3av3SVlFoneo"
      },
      "source": [
        "def read_images(directory):\n",
        "  for img in glob.glob(directory + \"/*.jpg\"):\n",
        "    image = cv2.imread(img)\n",
        "    resized_image = cv2.resize(image/255, (240, 320))\n",
        "    \n",
        "    yield resized_image"
      ],
      "execution_count": 3,
      "outputs": []
    },
    {
      "cell_type": "code",
      "metadata": {
        "id": "kMTR68-CkNj6"
      },
      "source": [
        "daisy_resized_imgs = np.array(list(read_images(daisy_dir)))"
      ],
      "execution_count": 4,
      "outputs": []
    },
    {
      "cell_type": "code",
      "metadata": {
        "id": "BKD84GNuetw3"
      },
      "source": [
        "rose_resized_imgs = np.array(list(read_images(rose_dir)))"
      ],
      "execution_count": 5,
      "outputs": []
    },
    {
      "cell_type": "code",
      "metadata": {
        "id": "pqvY_VkCjM9h"
      },
      "source": [
        "sunflower_resized_imgs = np.array(list(read_images(sunflower_dir)))"
      ],
      "execution_count": 6,
      "outputs": []
    },
    {
      "cell_type": "code",
      "metadata": {
        "id": "sVw-FFSmoFQT"
      },
      "source": [
        "tulip_resized_imgs = np.array(list(read_images(tulip_dir)))"
      ],
      "execution_count": 7,
      "outputs": []
    },
    {
      "cell_type": "code",
      "metadata": {
        "id": "rWpricuooFWi"
      },
      "source": [
        "dandelion_resized_imgs = np.array(list(read_images(dandelion_dir)))"
      ],
      "execution_count": 8,
      "outputs": []
    },
    {
      "cell_type": "code",
      "metadata": {
        "id": "uF21EyOLqEn9"
      },
      "source": [
        "daisy_labels = np.ones((daisy_resized_imgs.shape[0],1))\n",
        "dandelion_labels = np.ones((dandelion_resized_imgs.shape[0],1))*2\n",
        "rose_labels = np.ones((rose_resized_imgs.shape[0],1))*3\n",
        "sunflower_labels = np.ones((sunflower_resized_imgs.shape[0],1))*4\n",
        "tulip_labels = np.ones((tulip_resized_imgs.shape[0],1))*5"
      ],
      "execution_count": null,
      "outputs": []
    },
    {
      "cell_type": "code",
      "metadata": {
        "id": "8hztd4Grry3Y"
      },
      "source": [
        "all_flowers = np.concatenate((daisy_resized_imgs,dandelion_resized_imgs,rose_resized_imgs,sunflower_resized_imgs,tulip_resized_imgs)) "
      ],
      "execution_count": null,
      "outputs": []
    },
    {
      "cell_type": "code",
      "metadata": {
        "id": "VwHotGm7s0Hw"
      },
      "source": [
        "all_flowers_labels = np.concatenate((daisy_labels,dandelion_labels,rose_labels,sunflower_labels,tulip_labels))"
      ],
      "execution_count": null,
      "outputs": []
    },
    {
      "cell_type": "code",
      "metadata": {
        "colab": {
          "base_uri": "https://localhost:8080/"
        },
        "id": "jtpvOF4_tPZw",
        "outputId": "d4f1b8a7-6d7d-456a-ef57-201edf9f85ac"
      },
      "source": [
        "all_flowers_labels.shape"
      ],
      "execution_count": null,
      "outputs": [
        {
          "output_type": "execute_result",
          "data": {
            "text/plain": [
              "(4323, 1)"
            ]
          },
          "metadata": {
            "tags": []
          },
          "execution_count": 11
        }
      ]
    },
    {
      "cell_type": "code",
      "metadata": {
        "id": "K0HwV2qLtURl"
      },
      "source": [
        "all_flowers_falttened = all_flowers.reshape(len(all_flowers), 320*240*3)"
      ],
      "execution_count": null,
      "outputs": []
    },
    {
      "cell_type": "code",
      "metadata": {
        "id": "AvXQeS-gvKlc"
      },
      "source": [
        "from keras.utils import to_categorical\n",
        "all_flowers_labels_encoded = to_categorical(all_flowers_labels)"
      ],
      "execution_count": null,
      "outputs": []
    },
    {
      "cell_type": "code",
      "metadata": {
        "colab": {
          "base_uri": "https://localhost:8080/"
        },
        "id": "1c5tFkaawfwk",
        "outputId": "4f13be33-fcb4-4249-99ca-958bae0eb175"
      },
      "source": [
        "all_flowers_labels_encoded"
      ],
      "execution_count": null,
      "outputs": [
        {
          "output_type": "execute_result",
          "data": {
            "text/plain": [
              "array([[0., 1., 0., 0., 0., 0.],\n",
              "       [0., 1., 0., 0., 0., 0.],\n",
              "       [0., 1., 0., 0., 0., 0.],\n",
              "       ...,\n",
              "       [0., 0., 0., 0., 0., 1.],\n",
              "       [0., 0., 0., 0., 0., 1.],\n",
              "       [0., 0., 0., 0., 0., 1.]], dtype=float32)"
            ]
          },
          "metadata": {
            "tags": []
          },
          "execution_count": 13
        }
      ]
    },
    {
      "cell_type": "code",
      "metadata": {
        "id": "d2xXeRJaGvAL"
      },
      "source": [
        "np.random.seed(1234)\n",
        "mask = np.random.rand(len(all_flowers_falttened)) < 0.6\n",
        "train_data = all_flowers_falttened[mask]\n",
        "test_data = all_flowers_falttened[~mask]\n",
        "train_label = all_flowers_labels_encoded[mask]\n",
        "test_label = all_flowers_labels_encoded[~mask]"
      ],
      "execution_count": null,
      "outputs": []
    },
    {
      "cell_type": "code",
      "metadata": {
        "id": "Is9WORnszokk"
      },
      "source": [
        "from keras import models\n",
        "from keras import layers\n",
        "def build_model():\n",
        "  model = models.Sequential()\n",
        "  model.add(layers.Dense(64, activation='relu', input_shape=(230400,)))\n",
        "  model.add(layers.Dense(64, activation='relu'))\n",
        "  model.add(layers.Dense(46, activation='softmax'))\n",
        "  model.compile(optimizer='rmsprop',loss='categorical_crossentropy',metrics=['accuracy'])\n",
        "  return model"
      ],
      "execution_count": null,
      "outputs": []
    },
    {
      "cell_type": "code",
      "metadata": {
        "id": "kDJGQ9vFIqMG"
      },
      "source": [
        "model = build_model()"
      ],
      "execution_count": null,
      "outputs": []
    },
    {
      "cell_type": "code",
      "metadata": {
        "id": "sBR3zESUIqGr"
      },
      "source": [
        "model.summary()"
      ],
      "execution_count": null,
      "outputs": []
    },
    {
      "cell_type": "code",
      "metadata": {
        "id": "IEXQoWiRIqAh"
      },
      "source": [
        "# Readjusting epochs\n",
        "history = model.fit(train_data, train_label, epochs=200, validation_split=0.2, verbose=0)"
      ],
      "execution_count": null,
      "outputs": []
    },
    {
      "cell_type": "code",
      "metadata": {
        "id": "bdiEHTyXIp7L"
      },
      "source": [
        "hist = pd.DataFrame(history.history)\n",
        "hist['epoch'] = history.epoch\n",
        "hist.tail()"
      ],
      "execution_count": null,
      "outputs": []
    },
    {
      "cell_type": "code",
      "metadata": {
        "id": "oqvHihP7Ip04"
      },
      "source": [
        "accuracy = history.history['accuracy']\n",
        "val_accuracy = history.history['val_accuracy']\n",
        "epochs = range(1, len(accuracy) + 1)\n",
        "plt.plot(epochs, accuracy, 'bo', label='Training accuracy')\n",
        "plt.plot(epochs, val_accuracy, 'b', label='Validation accuracy')\n",
        "plt.title('Training and validation accuracy')\n",
        "plt.xlabel('Epochs')\n",
        "plt.ylabel('accuracy')\n",
        "plt.legend()\n",
        "plt.show()"
      ],
      "execution_count": null,
      "outputs": []
    },
    {
      "cell_type": "code",
      "metadata": {
        "id": "0kjwCgkrIpul"
      },
      "source": [
        "loss = history.history['loss']\n",
        "val_loss = history.history['val_loss']\n",
        "epochs = range(1, len(loss) + 1)\n",
        "plt.plot(epochs, loss, 'bo', label='Training loss')\n",
        "plt.plot(epochs, val_loss, 'b', label='Validation loss')\n",
        "plt.title('Training and validation loss')\n",
        "plt.xlabel('Epochs')\n",
        "plt.ylabel('loss')\n",
        "plt.legend()\n",
        "plt.show()"
      ],
      "execution_count": null,
      "outputs": []
    },
    {
      "cell_type": "code",
      "metadata": {
        "id": "RBs55tk1Ipoi"
      },
      "source": [
        "evaluate = model.evaluate(test_data, test_label, verbose=0)"
      ],
      "execution_count": null,
      "outputs": []
    },
    {
      "cell_type": "code",
      "metadata": {
        "id": "fiISEcaeIphQ"
      },
      "source": [
        "evaluate"
      ],
      "execution_count": null,
      "outputs": []
    },
    {
      "cell_type": "code",
      "metadata": {
        "id": "SUH3znnfJu4k"
      },
      "source": [
        "test_predictions = model.predict(test_data)"
      ],
      "execution_count": null,
      "outputs": []
    },
    {
      "cell_type": "code",
      "metadata": {
        "id": "MZdaowSDJu-T"
      },
      "source": [
        "test_predictions[:10]"
      ],
      "execution_count": null,
      "outputs": []
    },
    {
      "cell_type": "code",
      "metadata": {
        "id": "aXGnmK6qJvCv"
      },
      "source": [
        "test_labels[:10]"
      ],
      "execution_count": null,
      "outputs": []
    },
    {
      "cell_type": "code",
      "metadata": {
        "id": "3H4FP05RJvHd"
      },
      "source": [
        ""
      ],
      "execution_count": null,
      "outputs": []
    },
    {
      "cell_type": "code",
      "metadata": {
        "id": "mixVbNvtJvMY"
      },
      "source": [
        ""
      ],
      "execution_count": null,
      "outputs": []
    },
    {
      "cell_type": "code",
      "metadata": {
        "id": "FKGhiccbJvSV"
      },
      "source": [
        ""
      ],
      "execution_count": null,
      "outputs": []
    },
    {
      "cell_type": "code",
      "metadata": {
        "id": "hVBjyuCZJvYj"
      },
      "source": [
        ""
      ],
      "execution_count": null,
      "outputs": []
    },
    {
      "cell_type": "code",
      "metadata": {
        "id": "qfz6H8XlJvcV"
      },
      "source": [
        ""
      ],
      "execution_count": null,
      "outputs": []
    },
    {
      "cell_type": "code",
      "metadata": {
        "id": "bd1vCqmMJviv"
      },
      "source": [
        ""
      ],
      "execution_count": null,
      "outputs": []
    },
    {
      "cell_type": "code",
      "metadata": {
        "id": "8YdaAEvrJvof"
      },
      "source": [
        ""
      ],
      "execution_count": null,
      "outputs": []
    },
    {
      "cell_type": "code",
      "metadata": {
        "id": "fsMnYLPtIpZ3"
      },
      "source": [
        ""
      ],
      "execution_count": null,
      "outputs": []
    }
  ]
}