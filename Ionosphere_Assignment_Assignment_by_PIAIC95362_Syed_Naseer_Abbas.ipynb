{
  "nbformat": 4,
  "nbformat_minor": 0,
  "metadata": {
    "colab": {
      "name": "Ionosphere Assignment Assignment by PIAIC95362 Syed_Naseer_Abbas.ipynb",
      "provenance": [],
      "collapsed_sections": []
    },
    "kernelspec": {
      "name": "python3",
      "display_name": "Python 3"
    },
    "language_info": {
      "name": "python"
    },
    "accelerator": "TPU"
  },
  "cells": [
    {
      "cell_type": "code",
      "metadata": {
        "id": "RcoKGs369Jx_"
      },
      "source": [
        "# Imports\n",
        "\n",
        "import matplotlib.pyplot as plt\n",
        "import seaborn as sns\n",
        "\n",
        "import pandas as pd\n",
        "import numpy as np\n",
        "\n",
        "from keras import models\n",
        "from keras import layers\n",
        "from keras import callbacks"
      ],
      "execution_count": 1,
      "outputs": []
    },
    {
      "cell_type": "code",
      "metadata": {
        "colab": {
          "base_uri": "https://localhost:8080/"
        },
        "id": "GNKSzSJcljJC",
        "outputId": "010f227a-8b7f-4e82-d3be-2df4ab3f246b"
      },
      "source": [
        "!ls"
      ],
      "execution_count": 2,
      "outputs": [
        {
          "output_type": "stream",
          "text": [
            "sample_data\n"
          ],
          "name": "stdout"
        }
      ]
    },
    {
      "cell_type": "code",
      "metadata": {
        "colab": {
          "base_uri": "https://localhost:8080/"
        },
        "id": "lvOpOsXeMfSM",
        "outputId": "55352272-9b4d-4acb-a956-485c2223538b"
      },
      "source": [
        "from google.colab import drive\n",
        "drive.mount('/content/drive')"
      ],
      "execution_count": 3,
      "outputs": [
        {
          "output_type": "stream",
          "text": [
            "Mounted at /content/drive\n"
          ],
          "name": "stdout"
        }
      ]
    },
    {
      "cell_type": "code",
      "metadata": {
        "id": "MQh_tWyo-J_s"
      },
      "source": [
        "df_alldata = pd.read_csv('/content/drive/MyDrive/ionosphere_data.csv')"
      ],
      "execution_count": 34,
      "outputs": []
    },
    {
      "cell_type": "code",
      "metadata": {
        "colab": {
          "base_uri": "https://localhost:8080/"
        },
        "id": "qUHZ2fmf-eB4",
        "outputId": "0240c180-8c85-40b0-8ec9-a495e9787d51"
      },
      "source": [
        "df_alldata.shape"
      ],
      "execution_count": 5,
      "outputs": [
        {
          "output_type": "execute_result",
          "data": {
            "text/plain": [
              "(351, 35)"
            ]
          },
          "metadata": {
            "tags": []
          },
          "execution_count": 5
        }
      ]
    },
    {
      "cell_type": "code",
      "metadata": {
        "colab": {
          "base_uri": "https://localhost:8080/"
        },
        "id": "0iTgvj4j-eL_",
        "outputId": "f9569b6c-e6b0-4cb0-ed28-90d93094a9d3"
      },
      "source": [
        "df_alldata.info()"
      ],
      "execution_count": 6,
      "outputs": [
        {
          "output_type": "stream",
          "text": [
            "<class 'pandas.core.frame.DataFrame'>\n",
            "RangeIndex: 351 entries, 0 to 350\n",
            "Data columns (total 35 columns):\n",
            " #   Column     Non-Null Count  Dtype  \n",
            "---  ------     --------------  -----  \n",
            " 0   feature1   351 non-null    int64  \n",
            " 1   feature2   351 non-null    int64  \n",
            " 2   feature3   351 non-null    float64\n",
            " 3   feature4   351 non-null    float64\n",
            " 4   feature5   351 non-null    float64\n",
            " 5   feature6   351 non-null    float64\n",
            " 6   feature7   351 non-null    float64\n",
            " 7   feature8   351 non-null    float64\n",
            " 8   feature9   351 non-null    float64\n",
            " 9   feature10  351 non-null    float64\n",
            " 10  feature11  351 non-null    float64\n",
            " 11  feature12  351 non-null    float64\n",
            " 12  feature13  351 non-null    float64\n",
            " 13  feature14  351 non-null    float64\n",
            " 14  feature15  351 non-null    float64\n",
            " 15  feature16  351 non-null    float64\n",
            " 16  feature17  351 non-null    float64\n",
            " 17  feature18  351 non-null    float64\n",
            " 18  feature19  351 non-null    float64\n",
            " 19  feature20  351 non-null    float64\n",
            " 20  feature21  351 non-null    float64\n",
            " 21  feature22  351 non-null    float64\n",
            " 22  feature23  351 non-null    float64\n",
            " 23  feature24  351 non-null    float64\n",
            " 24  feature25  351 non-null    float64\n",
            " 25  feature26  351 non-null    float64\n",
            " 26  feature27  351 non-null    float64\n",
            " 27  feature28  351 non-null    float64\n",
            " 28  feature29  351 non-null    float64\n",
            " 29  feature30  351 non-null    float64\n",
            " 30  feature31  351 non-null    float64\n",
            " 31  feature32  351 non-null    float64\n",
            " 32  feature33  351 non-null    float64\n",
            " 33  feature34  351 non-null    float64\n",
            " 34  label      351 non-null    object \n",
            "dtypes: float64(32), int64(2), object(1)\n",
            "memory usage: 96.1+ KB\n"
          ],
          "name": "stdout"
        }
      ]
    },
    {
      "cell_type": "code",
      "metadata": {
        "colab": {
          "base_uri": "https://localhost:8080/",
          "height": 317
        },
        "id": "sM3VVUZp-r9Y",
        "outputId": "ba1b1a1a-d2b2-4d3a-d996-35796252c608"
      },
      "source": [
        "df_alldata.describe()"
      ],
      "execution_count": 7,
      "outputs": [
        {
          "output_type": "execute_result",
          "data": {
            "text/html": [
              "<div>\n",
              "<style scoped>\n",
              "    .dataframe tbody tr th:only-of-type {\n",
              "        vertical-align: middle;\n",
              "    }\n",
              "\n",
              "    .dataframe tbody tr th {\n",
              "        vertical-align: top;\n",
              "    }\n",
              "\n",
              "    .dataframe thead th {\n",
              "        text-align: right;\n",
              "    }\n",
              "</style>\n",
              "<table border=\"1\" class=\"dataframe\">\n",
              "  <thead>\n",
              "    <tr style=\"text-align: right;\">\n",
              "      <th></th>\n",
              "      <th>feature1</th>\n",
              "      <th>feature2</th>\n",
              "      <th>feature3</th>\n",
              "      <th>feature4</th>\n",
              "      <th>feature5</th>\n",
              "      <th>feature6</th>\n",
              "      <th>feature7</th>\n",
              "      <th>feature8</th>\n",
              "      <th>feature9</th>\n",
              "      <th>feature10</th>\n",
              "      <th>feature11</th>\n",
              "      <th>feature12</th>\n",
              "      <th>feature13</th>\n",
              "      <th>feature14</th>\n",
              "      <th>feature15</th>\n",
              "      <th>feature16</th>\n",
              "      <th>feature17</th>\n",
              "      <th>feature18</th>\n",
              "      <th>feature19</th>\n",
              "      <th>feature20</th>\n",
              "      <th>feature21</th>\n",
              "      <th>feature22</th>\n",
              "      <th>feature23</th>\n",
              "      <th>feature24</th>\n",
              "      <th>feature25</th>\n",
              "      <th>feature26</th>\n",
              "      <th>feature27</th>\n",
              "      <th>feature28</th>\n",
              "      <th>feature29</th>\n",
              "      <th>feature30</th>\n",
              "      <th>feature31</th>\n",
              "      <th>feature32</th>\n",
              "      <th>feature33</th>\n",
              "      <th>feature34</th>\n",
              "    </tr>\n",
              "  </thead>\n",
              "  <tbody>\n",
              "    <tr>\n",
              "      <th>count</th>\n",
              "      <td>351.000000</td>\n",
              "      <td>351.0</td>\n",
              "      <td>351.000000</td>\n",
              "      <td>351.000000</td>\n",
              "      <td>351.000000</td>\n",
              "      <td>351.000000</td>\n",
              "      <td>351.000000</td>\n",
              "      <td>351.000000</td>\n",
              "      <td>351.000000</td>\n",
              "      <td>351.000000</td>\n",
              "      <td>351.000000</td>\n",
              "      <td>351.000000</td>\n",
              "      <td>351.000000</td>\n",
              "      <td>351.000000</td>\n",
              "      <td>351.000000</td>\n",
              "      <td>351.000000</td>\n",
              "      <td>351.000000</td>\n",
              "      <td>351.000000</td>\n",
              "      <td>351.000000</td>\n",
              "      <td>351.000000</td>\n",
              "      <td>351.000000</td>\n",
              "      <td>351.000000</td>\n",
              "      <td>351.000000</td>\n",
              "      <td>351.000000</td>\n",
              "      <td>351.000000</td>\n",
              "      <td>351.000000</td>\n",
              "      <td>351.000000</td>\n",
              "      <td>351.000000</td>\n",
              "      <td>351.000000</td>\n",
              "      <td>351.000000</td>\n",
              "      <td>351.000000</td>\n",
              "      <td>351.000000</td>\n",
              "      <td>351.000000</td>\n",
              "      <td>351.000000</td>\n",
              "    </tr>\n",
              "    <tr>\n",
              "      <th>mean</th>\n",
              "      <td>0.891738</td>\n",
              "      <td>0.0</td>\n",
              "      <td>0.641342</td>\n",
              "      <td>0.044372</td>\n",
              "      <td>0.601068</td>\n",
              "      <td>0.115889</td>\n",
              "      <td>0.550095</td>\n",
              "      <td>0.119360</td>\n",
              "      <td>0.511848</td>\n",
              "      <td>0.181345</td>\n",
              "      <td>0.476183</td>\n",
              "      <td>0.155040</td>\n",
              "      <td>0.400801</td>\n",
              "      <td>0.093414</td>\n",
              "      <td>0.344159</td>\n",
              "      <td>0.071132</td>\n",
              "      <td>0.381949</td>\n",
              "      <td>-0.003617</td>\n",
              "      <td>0.359390</td>\n",
              "      <td>-0.024025</td>\n",
              "      <td>0.336695</td>\n",
              "      <td>0.008296</td>\n",
              "      <td>0.362475</td>\n",
              "      <td>-0.057406</td>\n",
              "      <td>0.396135</td>\n",
              "      <td>-0.071187</td>\n",
              "      <td>0.541641</td>\n",
              "      <td>-0.069538</td>\n",
              "      <td>0.378445</td>\n",
              "      <td>-0.027907</td>\n",
              "      <td>0.352514</td>\n",
              "      <td>-0.003794</td>\n",
              "      <td>0.349364</td>\n",
              "      <td>0.014480</td>\n",
              "    </tr>\n",
              "    <tr>\n",
              "      <th>std</th>\n",
              "      <td>0.311155</td>\n",
              "      <td>0.0</td>\n",
              "      <td>0.497708</td>\n",
              "      <td>0.441435</td>\n",
              "      <td>0.519862</td>\n",
              "      <td>0.460810</td>\n",
              "      <td>0.492654</td>\n",
              "      <td>0.520750</td>\n",
              "      <td>0.507066</td>\n",
              "      <td>0.483851</td>\n",
              "      <td>0.563496</td>\n",
              "      <td>0.494817</td>\n",
              "      <td>0.622186</td>\n",
              "      <td>0.494873</td>\n",
              "      <td>0.652828</td>\n",
              "      <td>0.458371</td>\n",
              "      <td>0.618020</td>\n",
              "      <td>0.496762</td>\n",
              "      <td>0.626267</td>\n",
              "      <td>0.519076</td>\n",
              "      <td>0.609828</td>\n",
              "      <td>0.518166</td>\n",
              "      <td>0.603767</td>\n",
              "      <td>0.527456</td>\n",
              "      <td>0.578451</td>\n",
              "      <td>0.508495</td>\n",
              "      <td>0.516205</td>\n",
              "      <td>0.550025</td>\n",
              "      <td>0.575886</td>\n",
              "      <td>0.507974</td>\n",
              "      <td>0.571483</td>\n",
              "      <td>0.513574</td>\n",
              "      <td>0.522663</td>\n",
              "      <td>0.468337</td>\n",
              "    </tr>\n",
              "    <tr>\n",
              "      <th>min</th>\n",
              "      <td>0.000000</td>\n",
              "      <td>0.0</td>\n",
              "      <td>-1.000000</td>\n",
              "      <td>-1.000000</td>\n",
              "      <td>-1.000000</td>\n",
              "      <td>-1.000000</td>\n",
              "      <td>-1.000000</td>\n",
              "      <td>-1.000000</td>\n",
              "      <td>-1.000000</td>\n",
              "      <td>-1.000000</td>\n",
              "      <td>-1.000000</td>\n",
              "      <td>-1.000000</td>\n",
              "      <td>-1.000000</td>\n",
              "      <td>-1.000000</td>\n",
              "      <td>-1.000000</td>\n",
              "      <td>-1.000000</td>\n",
              "      <td>-1.000000</td>\n",
              "      <td>-1.000000</td>\n",
              "      <td>-1.000000</td>\n",
              "      <td>-1.000000</td>\n",
              "      <td>-1.000000</td>\n",
              "      <td>-1.000000</td>\n",
              "      <td>-1.000000</td>\n",
              "      <td>-1.000000</td>\n",
              "      <td>-1.000000</td>\n",
              "      <td>-1.000000</td>\n",
              "      <td>-1.000000</td>\n",
              "      <td>-1.000000</td>\n",
              "      <td>-1.000000</td>\n",
              "      <td>-1.000000</td>\n",
              "      <td>-1.000000</td>\n",
              "      <td>-1.000000</td>\n",
              "      <td>-1.000000</td>\n",
              "      <td>-1.000000</td>\n",
              "    </tr>\n",
              "    <tr>\n",
              "      <th>25%</th>\n",
              "      <td>1.000000</td>\n",
              "      <td>0.0</td>\n",
              "      <td>0.472135</td>\n",
              "      <td>-0.064735</td>\n",
              "      <td>0.412660</td>\n",
              "      <td>-0.024795</td>\n",
              "      <td>0.211310</td>\n",
              "      <td>-0.054840</td>\n",
              "      <td>0.087110</td>\n",
              "      <td>-0.048075</td>\n",
              "      <td>0.021120</td>\n",
              "      <td>-0.065265</td>\n",
              "      <td>0.000000</td>\n",
              "      <td>-0.073725</td>\n",
              "      <td>0.000000</td>\n",
              "      <td>-0.081705</td>\n",
              "      <td>0.000000</td>\n",
              "      <td>-0.225690</td>\n",
              "      <td>0.000000</td>\n",
              "      <td>-0.234670</td>\n",
              "      <td>0.000000</td>\n",
              "      <td>-0.243870</td>\n",
              "      <td>0.000000</td>\n",
              "      <td>-0.366885</td>\n",
              "      <td>0.000000</td>\n",
              "      <td>-0.332390</td>\n",
              "      <td>0.286435</td>\n",
              "      <td>-0.443165</td>\n",
              "      <td>0.000000</td>\n",
              "      <td>-0.236885</td>\n",
              "      <td>0.000000</td>\n",
              "      <td>-0.242595</td>\n",
              "      <td>0.000000</td>\n",
              "      <td>-0.165350</td>\n",
              "    </tr>\n",
              "    <tr>\n",
              "      <th>50%</th>\n",
              "      <td>1.000000</td>\n",
              "      <td>0.0</td>\n",
              "      <td>0.871110</td>\n",
              "      <td>0.016310</td>\n",
              "      <td>0.809200</td>\n",
              "      <td>0.022800</td>\n",
              "      <td>0.728730</td>\n",
              "      <td>0.014710</td>\n",
              "      <td>0.684210</td>\n",
              "      <td>0.018290</td>\n",
              "      <td>0.667980</td>\n",
              "      <td>0.028250</td>\n",
              "      <td>0.644070</td>\n",
              "      <td>0.030270</td>\n",
              "      <td>0.601940</td>\n",
              "      <td>0.000000</td>\n",
              "      <td>0.590910</td>\n",
              "      <td>0.000000</td>\n",
              "      <td>0.576190</td>\n",
              "      <td>0.000000</td>\n",
              "      <td>0.499090</td>\n",
              "      <td>0.000000</td>\n",
              "      <td>0.531760</td>\n",
              "      <td>0.000000</td>\n",
              "      <td>0.553890</td>\n",
              "      <td>-0.015050</td>\n",
              "      <td>0.708240</td>\n",
              "      <td>-0.017690</td>\n",
              "      <td>0.496640</td>\n",
              "      <td>0.000000</td>\n",
              "      <td>0.442770</td>\n",
              "      <td>0.000000</td>\n",
              "      <td>0.409560</td>\n",
              "      <td>0.000000</td>\n",
              "    </tr>\n",
              "    <tr>\n",
              "      <th>75%</th>\n",
              "      <td>1.000000</td>\n",
              "      <td>0.0</td>\n",
              "      <td>1.000000</td>\n",
              "      <td>0.194185</td>\n",
              "      <td>1.000000</td>\n",
              "      <td>0.334655</td>\n",
              "      <td>0.969240</td>\n",
              "      <td>0.445675</td>\n",
              "      <td>0.953240</td>\n",
              "      <td>0.534195</td>\n",
              "      <td>0.957895</td>\n",
              "      <td>0.482375</td>\n",
              "      <td>0.955505</td>\n",
              "      <td>0.374860</td>\n",
              "      <td>0.919330</td>\n",
              "      <td>0.308975</td>\n",
              "      <td>0.935705</td>\n",
              "      <td>0.195285</td>\n",
              "      <td>0.899265</td>\n",
              "      <td>0.134370</td>\n",
              "      <td>0.894865</td>\n",
              "      <td>0.188760</td>\n",
              "      <td>0.911235</td>\n",
              "      <td>0.164630</td>\n",
              "      <td>0.905240</td>\n",
              "      <td>0.156765</td>\n",
              "      <td>0.999945</td>\n",
              "      <td>0.153535</td>\n",
              "      <td>0.883465</td>\n",
              "      <td>0.154075</td>\n",
              "      <td>0.857620</td>\n",
              "      <td>0.200120</td>\n",
              "      <td>0.813765</td>\n",
              "      <td>0.171660</td>\n",
              "    </tr>\n",
              "    <tr>\n",
              "      <th>max</th>\n",
              "      <td>1.000000</td>\n",
              "      <td>0.0</td>\n",
              "      <td>1.000000</td>\n",
              "      <td>1.000000</td>\n",
              "      <td>1.000000</td>\n",
              "      <td>1.000000</td>\n",
              "      <td>1.000000</td>\n",
              "      <td>1.000000</td>\n",
              "      <td>1.000000</td>\n",
              "      <td>1.000000</td>\n",
              "      <td>1.000000</td>\n",
              "      <td>1.000000</td>\n",
              "      <td>1.000000</td>\n",
              "      <td>1.000000</td>\n",
              "      <td>1.000000</td>\n",
              "      <td>1.000000</td>\n",
              "      <td>1.000000</td>\n",
              "      <td>1.000000</td>\n",
              "      <td>1.000000</td>\n",
              "      <td>1.000000</td>\n",
              "      <td>1.000000</td>\n",
              "      <td>1.000000</td>\n",
              "      <td>1.000000</td>\n",
              "      <td>1.000000</td>\n",
              "      <td>1.000000</td>\n",
              "      <td>1.000000</td>\n",
              "      <td>1.000000</td>\n",
              "      <td>1.000000</td>\n",
              "      <td>1.000000</td>\n",
              "      <td>1.000000</td>\n",
              "      <td>1.000000</td>\n",
              "      <td>1.000000</td>\n",
              "      <td>1.000000</td>\n",
              "      <td>1.000000</td>\n",
              "    </tr>\n",
              "  </tbody>\n",
              "</table>\n",
              "</div>"
            ],
            "text/plain": [
              "         feature1  feature2    feature3  ...   feature32   feature33   feature34\n",
              "count  351.000000     351.0  351.000000  ...  351.000000  351.000000  351.000000\n",
              "mean     0.891738       0.0    0.641342  ...   -0.003794    0.349364    0.014480\n",
              "std      0.311155       0.0    0.497708  ...    0.513574    0.522663    0.468337\n",
              "min      0.000000       0.0   -1.000000  ...   -1.000000   -1.000000   -1.000000\n",
              "25%      1.000000       0.0    0.472135  ...   -0.242595    0.000000   -0.165350\n",
              "50%      1.000000       0.0    0.871110  ...    0.000000    0.409560    0.000000\n",
              "75%      1.000000       0.0    1.000000  ...    0.200120    0.813765    0.171660\n",
              "max      1.000000       0.0    1.000000  ...    1.000000    1.000000    1.000000\n",
              "\n",
              "[8 rows x 34 columns]"
            ]
          },
          "metadata": {
            "tags": []
          },
          "execution_count": 7
        }
      ]
    },
    {
      "cell_type": "code",
      "metadata": {
        "colab": {
          "base_uri": "https://localhost:8080/",
          "height": 224
        },
        "id": "8rdKTebq-sGI",
        "outputId": "9dd6ae61-47aa-45fa-f2d6-c2864374ed9e"
      },
      "source": [
        "df_alldata.head()"
      ],
      "execution_count": 8,
      "outputs": [
        {
          "output_type": "execute_result",
          "data": {
            "text/html": [
              "<div>\n",
              "<style scoped>\n",
              "    .dataframe tbody tr th:only-of-type {\n",
              "        vertical-align: middle;\n",
              "    }\n",
              "\n",
              "    .dataframe tbody tr th {\n",
              "        vertical-align: top;\n",
              "    }\n",
              "\n",
              "    .dataframe thead th {\n",
              "        text-align: right;\n",
              "    }\n",
              "</style>\n",
              "<table border=\"1\" class=\"dataframe\">\n",
              "  <thead>\n",
              "    <tr style=\"text-align: right;\">\n",
              "      <th></th>\n",
              "      <th>feature1</th>\n",
              "      <th>feature2</th>\n",
              "      <th>feature3</th>\n",
              "      <th>feature4</th>\n",
              "      <th>feature5</th>\n",
              "      <th>feature6</th>\n",
              "      <th>feature7</th>\n",
              "      <th>feature8</th>\n",
              "      <th>feature9</th>\n",
              "      <th>feature10</th>\n",
              "      <th>feature11</th>\n",
              "      <th>feature12</th>\n",
              "      <th>feature13</th>\n",
              "      <th>feature14</th>\n",
              "      <th>feature15</th>\n",
              "      <th>feature16</th>\n",
              "      <th>feature17</th>\n",
              "      <th>feature18</th>\n",
              "      <th>feature19</th>\n",
              "      <th>feature20</th>\n",
              "      <th>feature21</th>\n",
              "      <th>feature22</th>\n",
              "      <th>feature23</th>\n",
              "      <th>feature24</th>\n",
              "      <th>feature25</th>\n",
              "      <th>feature26</th>\n",
              "      <th>feature27</th>\n",
              "      <th>feature28</th>\n",
              "      <th>feature29</th>\n",
              "      <th>feature30</th>\n",
              "      <th>feature31</th>\n",
              "      <th>feature32</th>\n",
              "      <th>feature33</th>\n",
              "      <th>feature34</th>\n",
              "      <th>label</th>\n",
              "    </tr>\n",
              "  </thead>\n",
              "  <tbody>\n",
              "    <tr>\n",
              "      <th>0</th>\n",
              "      <td>1</td>\n",
              "      <td>0</td>\n",
              "      <td>0.99539</td>\n",
              "      <td>-0.05889</td>\n",
              "      <td>0.85243</td>\n",
              "      <td>0.02306</td>\n",
              "      <td>0.83398</td>\n",
              "      <td>-0.37708</td>\n",
              "      <td>1.00000</td>\n",
              "      <td>0.03760</td>\n",
              "      <td>0.85243</td>\n",
              "      <td>-0.17755</td>\n",
              "      <td>0.59755</td>\n",
              "      <td>-0.44945</td>\n",
              "      <td>0.60536</td>\n",
              "      <td>-0.38223</td>\n",
              "      <td>0.84356</td>\n",
              "      <td>-0.38542</td>\n",
              "      <td>0.58212</td>\n",
              "      <td>-0.32192</td>\n",
              "      <td>0.56971</td>\n",
              "      <td>-0.29674</td>\n",
              "      <td>0.36946</td>\n",
              "      <td>-0.47357</td>\n",
              "      <td>0.56811</td>\n",
              "      <td>-0.51171</td>\n",
              "      <td>0.41078</td>\n",
              "      <td>-0.46168</td>\n",
              "      <td>0.21266</td>\n",
              "      <td>-0.34090</td>\n",
              "      <td>0.42267</td>\n",
              "      <td>-0.54487</td>\n",
              "      <td>0.18641</td>\n",
              "      <td>-0.45300</td>\n",
              "      <td>g</td>\n",
              "    </tr>\n",
              "    <tr>\n",
              "      <th>1</th>\n",
              "      <td>1</td>\n",
              "      <td>0</td>\n",
              "      <td>1.00000</td>\n",
              "      <td>-0.18829</td>\n",
              "      <td>0.93035</td>\n",
              "      <td>-0.36156</td>\n",
              "      <td>-0.10868</td>\n",
              "      <td>-0.93597</td>\n",
              "      <td>1.00000</td>\n",
              "      <td>-0.04549</td>\n",
              "      <td>0.50874</td>\n",
              "      <td>-0.67743</td>\n",
              "      <td>0.34432</td>\n",
              "      <td>-0.69707</td>\n",
              "      <td>-0.51685</td>\n",
              "      <td>-0.97515</td>\n",
              "      <td>0.05499</td>\n",
              "      <td>-0.62237</td>\n",
              "      <td>0.33109</td>\n",
              "      <td>-1.00000</td>\n",
              "      <td>-0.13151</td>\n",
              "      <td>-0.45300</td>\n",
              "      <td>-0.18056</td>\n",
              "      <td>-0.35734</td>\n",
              "      <td>-0.20332</td>\n",
              "      <td>-0.26569</td>\n",
              "      <td>-0.20468</td>\n",
              "      <td>-0.18401</td>\n",
              "      <td>-0.19040</td>\n",
              "      <td>-0.11593</td>\n",
              "      <td>-0.16626</td>\n",
              "      <td>-0.06288</td>\n",
              "      <td>-0.13738</td>\n",
              "      <td>-0.02447</td>\n",
              "      <td>b</td>\n",
              "    </tr>\n",
              "    <tr>\n",
              "      <th>2</th>\n",
              "      <td>1</td>\n",
              "      <td>0</td>\n",
              "      <td>1.00000</td>\n",
              "      <td>-0.03365</td>\n",
              "      <td>1.00000</td>\n",
              "      <td>0.00485</td>\n",
              "      <td>1.00000</td>\n",
              "      <td>-0.12062</td>\n",
              "      <td>0.88965</td>\n",
              "      <td>0.01198</td>\n",
              "      <td>0.73082</td>\n",
              "      <td>0.05346</td>\n",
              "      <td>0.85443</td>\n",
              "      <td>0.00827</td>\n",
              "      <td>0.54591</td>\n",
              "      <td>0.00299</td>\n",
              "      <td>0.83775</td>\n",
              "      <td>-0.13644</td>\n",
              "      <td>0.75535</td>\n",
              "      <td>-0.08540</td>\n",
              "      <td>0.70887</td>\n",
              "      <td>-0.27502</td>\n",
              "      <td>0.43385</td>\n",
              "      <td>-0.12062</td>\n",
              "      <td>0.57528</td>\n",
              "      <td>-0.40220</td>\n",
              "      <td>0.58984</td>\n",
              "      <td>-0.22145</td>\n",
              "      <td>0.43100</td>\n",
              "      <td>-0.17365</td>\n",
              "      <td>0.60436</td>\n",
              "      <td>-0.24180</td>\n",
              "      <td>0.56045</td>\n",
              "      <td>-0.38238</td>\n",
              "      <td>g</td>\n",
              "    </tr>\n",
              "    <tr>\n",
              "      <th>3</th>\n",
              "      <td>1</td>\n",
              "      <td>0</td>\n",
              "      <td>1.00000</td>\n",
              "      <td>-0.45161</td>\n",
              "      <td>1.00000</td>\n",
              "      <td>1.00000</td>\n",
              "      <td>0.71216</td>\n",
              "      <td>-1.00000</td>\n",
              "      <td>0.00000</td>\n",
              "      <td>0.00000</td>\n",
              "      <td>0.00000</td>\n",
              "      <td>0.00000</td>\n",
              "      <td>0.00000</td>\n",
              "      <td>0.00000</td>\n",
              "      <td>-1.00000</td>\n",
              "      <td>0.14516</td>\n",
              "      <td>0.54094</td>\n",
              "      <td>-0.39330</td>\n",
              "      <td>-1.00000</td>\n",
              "      <td>-0.54467</td>\n",
              "      <td>-0.69975</td>\n",
              "      <td>1.00000</td>\n",
              "      <td>0.00000</td>\n",
              "      <td>0.00000</td>\n",
              "      <td>1.00000</td>\n",
              "      <td>0.90695</td>\n",
              "      <td>0.51613</td>\n",
              "      <td>1.00000</td>\n",
              "      <td>1.00000</td>\n",
              "      <td>-0.20099</td>\n",
              "      <td>0.25682</td>\n",
              "      <td>1.00000</td>\n",
              "      <td>-0.32382</td>\n",
              "      <td>1.00000</td>\n",
              "      <td>b</td>\n",
              "    </tr>\n",
              "    <tr>\n",
              "      <th>4</th>\n",
              "      <td>1</td>\n",
              "      <td>0</td>\n",
              "      <td>1.00000</td>\n",
              "      <td>-0.02401</td>\n",
              "      <td>0.94140</td>\n",
              "      <td>0.06531</td>\n",
              "      <td>0.92106</td>\n",
              "      <td>-0.23255</td>\n",
              "      <td>0.77152</td>\n",
              "      <td>-0.16399</td>\n",
              "      <td>0.52798</td>\n",
              "      <td>-0.20275</td>\n",
              "      <td>0.56409</td>\n",
              "      <td>-0.00712</td>\n",
              "      <td>0.34395</td>\n",
              "      <td>-0.27457</td>\n",
              "      <td>0.52940</td>\n",
              "      <td>-0.21780</td>\n",
              "      <td>0.45107</td>\n",
              "      <td>-0.17813</td>\n",
              "      <td>0.05982</td>\n",
              "      <td>-0.35575</td>\n",
              "      <td>0.02309</td>\n",
              "      <td>-0.52879</td>\n",
              "      <td>0.03286</td>\n",
              "      <td>-0.65158</td>\n",
              "      <td>0.13290</td>\n",
              "      <td>-0.53206</td>\n",
              "      <td>0.02431</td>\n",
              "      <td>-0.62197</td>\n",
              "      <td>-0.05707</td>\n",
              "      <td>-0.59573</td>\n",
              "      <td>-0.04608</td>\n",
              "      <td>-0.65697</td>\n",
              "      <td>g</td>\n",
              "    </tr>\n",
              "  </tbody>\n",
              "</table>\n",
              "</div>"
            ],
            "text/plain": [
              "   feature1  feature2  feature3  ...  feature33  feature34  label\n",
              "0         1         0   0.99539  ...    0.18641   -0.45300      g\n",
              "1         1         0   1.00000  ...   -0.13738   -0.02447      b\n",
              "2         1         0   1.00000  ...    0.56045   -0.38238      g\n",
              "3         1         0   1.00000  ...   -0.32382    1.00000      b\n",
              "4         1         0   1.00000  ...   -0.04608   -0.65697      g\n",
              "\n",
              "[5 rows x 35 columns]"
            ]
          },
          "metadata": {
            "tags": []
          },
          "execution_count": 8
        }
      ]
    },
    {
      "cell_type": "code",
      "metadata": {
        "id": "bIk1Fkme-sL4"
      },
      "source": [
        "train_dataset = df_alldata.sample(frac = 0.6, random_state = 100)"
      ],
      "execution_count": 35,
      "outputs": []
    },
    {
      "cell_type": "code",
      "metadata": {
        "id": "sc-2JpJAn6-a"
      },
      "source": [
        "test_dataset = df_alldata.drop(train_dataset.index)"
      ],
      "execution_count": 36,
      "outputs": []
    },
    {
      "cell_type": "code",
      "metadata": {
        "colab": {
          "base_uri": "https://localhost:8080/"
        },
        "id": "0p9mwM9ooF1_",
        "outputId": "301fe11e-4278-457b-c19a-e77709912c28"
      },
      "source": [
        "train_dataset.shape"
      ],
      "execution_count": 37,
      "outputs": [
        {
          "output_type": "execute_result",
          "data": {
            "text/plain": [
              "(211, 35)"
            ]
          },
          "metadata": {
            "tags": []
          },
          "execution_count": 37
        }
      ]
    },
    {
      "cell_type": "code",
      "metadata": {
        "colab": {
          "base_uri": "https://localhost:8080/"
        },
        "id": "AP_3HQnloJ9X",
        "outputId": "91ee6d7d-eb9f-488a-ce56-f81adb9de49f"
      },
      "source": [
        "test_dataset.shape"
      ],
      "execution_count": 38,
      "outputs": [
        {
          "output_type": "execute_result",
          "data": {
            "text/plain": [
              "(140, 35)"
            ]
          },
          "metadata": {
            "tags": []
          },
          "execution_count": 38
        }
      ]
    },
    {
      "cell_type": "code",
      "metadata": {
        "colab": {
          "base_uri": "https://localhost:8080/",
          "height": 224
        },
        "id": "95TIJJb22lf4",
        "outputId": "a77e5fd7-e2eb-44ce-b43a-59cac10d6346"
      },
      "source": [
        "train_dataset.head()"
      ],
      "execution_count": 14,
      "outputs": [
        {
          "output_type": "execute_result",
          "data": {
            "text/html": [
              "<div>\n",
              "<style scoped>\n",
              "    .dataframe tbody tr th:only-of-type {\n",
              "        vertical-align: middle;\n",
              "    }\n",
              "\n",
              "    .dataframe tbody tr th {\n",
              "        vertical-align: top;\n",
              "    }\n",
              "\n",
              "    .dataframe thead th {\n",
              "        text-align: right;\n",
              "    }\n",
              "</style>\n",
              "<table border=\"1\" class=\"dataframe\">\n",
              "  <thead>\n",
              "    <tr style=\"text-align: right;\">\n",
              "      <th></th>\n",
              "      <th>feature1</th>\n",
              "      <th>feature2</th>\n",
              "      <th>feature3</th>\n",
              "      <th>feature4</th>\n",
              "      <th>feature5</th>\n",
              "      <th>feature6</th>\n",
              "      <th>feature7</th>\n",
              "      <th>feature8</th>\n",
              "      <th>feature9</th>\n",
              "      <th>feature10</th>\n",
              "      <th>feature11</th>\n",
              "      <th>feature12</th>\n",
              "      <th>feature13</th>\n",
              "      <th>feature14</th>\n",
              "      <th>feature15</th>\n",
              "      <th>feature16</th>\n",
              "      <th>feature17</th>\n",
              "      <th>feature18</th>\n",
              "      <th>feature19</th>\n",
              "      <th>feature20</th>\n",
              "      <th>feature21</th>\n",
              "      <th>feature22</th>\n",
              "      <th>feature23</th>\n",
              "      <th>feature24</th>\n",
              "      <th>feature25</th>\n",
              "      <th>feature26</th>\n",
              "      <th>feature27</th>\n",
              "      <th>feature28</th>\n",
              "      <th>feature29</th>\n",
              "      <th>feature30</th>\n",
              "      <th>feature31</th>\n",
              "      <th>feature32</th>\n",
              "      <th>feature33</th>\n",
              "      <th>feature34</th>\n",
              "      <th>label</th>\n",
              "    </tr>\n",
              "  </thead>\n",
              "  <tbody>\n",
              "    <tr>\n",
              "      <th>197</th>\n",
              "      <td>1</td>\n",
              "      <td>0</td>\n",
              "      <td>1.0</td>\n",
              "      <td>0.23058</td>\n",
              "      <td>1.00000</td>\n",
              "      <td>-0.78509</td>\n",
              "      <td>1.00000</td>\n",
              "      <td>-0.10401</td>\n",
              "      <td>1.00000</td>\n",
              "      <td>0.15414</td>\n",
              "      <td>1.00000</td>\n",
              "      <td>0.27820</td>\n",
              "      <td>0.98120</td>\n",
              "      <td>-0.06861</td>\n",
              "      <td>1.00000</td>\n",
              "      <td>0.06610</td>\n",
              "      <td>0.95802</td>\n",
              "      <td>-0.18954</td>\n",
              "      <td>0.83584</td>\n",
              "      <td>-0.15633</td>\n",
              "      <td>0.97400</td>\n",
              "      <td>0.03728</td>\n",
              "      <td>0.99624</td>\n",
              "      <td>0.09242</td>\n",
              "      <td>1.00000</td>\n",
              "      <td>-0.01253</td>\n",
              "      <td>0.96238</td>\n",
              "      <td>-0.04597</td>\n",
              "      <td>0.91165</td>\n",
              "      <td>0.03885</td>\n",
              "      <td>1.00000</td>\n",
              "      <td>-0.13722</td>\n",
              "      <td>0.96523</td>\n",
              "      <td>-0.11717</td>\n",
              "      <td>g</td>\n",
              "    </tr>\n",
              "    <tr>\n",
              "      <th>189</th>\n",
              "      <td>1</td>\n",
              "      <td>0</td>\n",
              "      <td>1.0</td>\n",
              "      <td>0.06843</td>\n",
              "      <td>1.00000</td>\n",
              "      <td>0.14211</td>\n",
              "      <td>1.00000</td>\n",
              "      <td>0.22108</td>\n",
              "      <td>1.00000</td>\n",
              "      <td>-0.12500</td>\n",
              "      <td>1.00000</td>\n",
              "      <td>0.39495</td>\n",
              "      <td>1.00000</td>\n",
              "      <td>0.48981</td>\n",
              "      <td>1.00000</td>\n",
              "      <td>0.58986</td>\n",
              "      <td>-0.37500</td>\n",
              "      <td>1.00000</td>\n",
              "      <td>1.00000</td>\n",
              "      <td>0.00000</td>\n",
              "      <td>1.00000</td>\n",
              "      <td>0.92001</td>\n",
              "      <td>1.00000</td>\n",
              "      <td>1.00000</td>\n",
              "      <td>1.00000</td>\n",
              "      <td>1.00000</td>\n",
              "      <td>1.00000</td>\n",
              "      <td>1.00000</td>\n",
              "      <td>1.00000</td>\n",
              "      <td>0.25000</td>\n",
              "      <td>1.00000</td>\n",
              "      <td>1.00000</td>\n",
              "      <td>1.00000</td>\n",
              "      <td>1.00000</td>\n",
              "      <td>g</td>\n",
              "    </tr>\n",
              "    <tr>\n",
              "      <th>7</th>\n",
              "      <td>0</td>\n",
              "      <td>0</td>\n",
              "      <td>0.0</td>\n",
              "      <td>0.00000</td>\n",
              "      <td>0.00000</td>\n",
              "      <td>0.00000</td>\n",
              "      <td>1.00000</td>\n",
              "      <td>-1.00000</td>\n",
              "      <td>0.00000</td>\n",
              "      <td>0.00000</td>\n",
              "      <td>-1.00000</td>\n",
              "      <td>-1.00000</td>\n",
              "      <td>0.00000</td>\n",
              "      <td>0.00000</td>\n",
              "      <td>0.00000</td>\n",
              "      <td>0.00000</td>\n",
              "      <td>1.00000</td>\n",
              "      <td>1.00000</td>\n",
              "      <td>-1.00000</td>\n",
              "      <td>-1.00000</td>\n",
              "      <td>0.00000</td>\n",
              "      <td>0.00000</td>\n",
              "      <td>0.00000</td>\n",
              "      <td>0.00000</td>\n",
              "      <td>1.00000</td>\n",
              "      <td>1.00000</td>\n",
              "      <td>1.00000</td>\n",
              "      <td>1.00000</td>\n",
              "      <td>0.00000</td>\n",
              "      <td>0.00000</td>\n",
              "      <td>1.00000</td>\n",
              "      <td>1.00000</td>\n",
              "      <td>0.00000</td>\n",
              "      <td>0.00000</td>\n",
              "      <td>b</td>\n",
              "    </tr>\n",
              "    <tr>\n",
              "      <th>46</th>\n",
              "      <td>1</td>\n",
              "      <td>0</td>\n",
              "      <td>1.0</td>\n",
              "      <td>-0.03730</td>\n",
              "      <td>1.00000</td>\n",
              "      <td>-0.07383</td>\n",
              "      <td>0.99601</td>\n",
              "      <td>-0.11039</td>\n",
              "      <td>0.99838</td>\n",
              "      <td>-0.09931</td>\n",
              "      <td>0.98941</td>\n",
              "      <td>-0.13814</td>\n",
              "      <td>0.96674</td>\n",
              "      <td>-0.21695</td>\n",
              "      <td>0.95288</td>\n",
              "      <td>-0.25099</td>\n",
              "      <td>0.91236</td>\n",
              "      <td>-0.34400</td>\n",
              "      <td>0.90581</td>\n",
              "      <td>-0.32152</td>\n",
              "      <td>0.89991</td>\n",
              "      <td>-0.34691</td>\n",
              "      <td>0.87874</td>\n",
              "      <td>-0.37643</td>\n",
              "      <td>0.86213</td>\n",
              "      <td>-0.42990</td>\n",
              "      <td>0.83172</td>\n",
              "      <td>-0.43122</td>\n",
              "      <td>0.81433</td>\n",
              "      <td>-0.42593</td>\n",
              "      <td>0.77919</td>\n",
              "      <td>-0.47977</td>\n",
              "      <td>0.75115</td>\n",
              "      <td>-0.50152</td>\n",
              "      <td>g</td>\n",
              "    </tr>\n",
              "    <tr>\n",
              "      <th>136</th>\n",
              "      <td>1</td>\n",
              "      <td>0</td>\n",
              "      <td>-1.0</td>\n",
              "      <td>0.28105</td>\n",
              "      <td>0.22222</td>\n",
              "      <td>0.15033</td>\n",
              "      <td>-0.75693</td>\n",
              "      <td>-0.70984</td>\n",
              "      <td>-0.30719</td>\n",
              "      <td>0.71242</td>\n",
              "      <td>-1.00000</td>\n",
              "      <td>1.00000</td>\n",
              "      <td>-0.81699</td>\n",
              "      <td>0.33987</td>\n",
              "      <td>-0.79085</td>\n",
              "      <td>-0.02614</td>\n",
              "      <td>-0.98039</td>\n",
              "      <td>-0.83007</td>\n",
              "      <td>-0.60131</td>\n",
              "      <td>-0.54248</td>\n",
              "      <td>-0.04575</td>\n",
              "      <td>-0.83007</td>\n",
              "      <td>0.94118</td>\n",
              "      <td>-0.94118</td>\n",
              "      <td>-1.00000</td>\n",
              "      <td>-0.43137</td>\n",
              "      <td>0.74385</td>\n",
              "      <td>0.09176</td>\n",
              "      <td>-1.00000</td>\n",
              "      <td>0.05229</td>\n",
              "      <td>0.18301</td>\n",
              "      <td>0.02614</td>\n",
              "      <td>-0.40201</td>\n",
              "      <td>-0.48241</td>\n",
              "      <td>b</td>\n",
              "    </tr>\n",
              "  </tbody>\n",
              "</table>\n",
              "</div>"
            ],
            "text/plain": [
              "     feature1  feature2  feature3  ...  feature33  feature34  label\n",
              "197         1         0       1.0  ...    0.96523   -0.11717      g\n",
              "189         1         0       1.0  ...    1.00000    1.00000      g\n",
              "7           0         0       0.0  ...    0.00000    0.00000      b\n",
              "46          1         0       1.0  ...    0.75115   -0.50152      g\n",
              "136         1         0      -1.0  ...   -0.40201   -0.48241      b\n",
              "\n",
              "[5 rows x 35 columns]"
            ]
          },
          "metadata": {
            "tags": []
          },
          "execution_count": 14
        }
      ]
    },
    {
      "cell_type": "code",
      "metadata": {
        "id": "ESvkHSDZ2ll0"
      },
      "source": [
        "train_labels = train_dataset.pop('label')"
      ],
      "execution_count": 39,
      "outputs": []
    },
    {
      "cell_type": "code",
      "metadata": {
        "colab": {
          "base_uri": "https://localhost:8080/"
        },
        "id": "NpJBjecm_dZA",
        "outputId": "f328ef12-9035-41a1-c955-caabaf162039"
      },
      "source": [
        "train_labels.head()"
      ],
      "execution_count": 16,
      "outputs": [
        {
          "output_type": "execute_result",
          "data": {
            "text/plain": [
              "197    g\n",
              "189    g\n",
              "7      b\n",
              "46     g\n",
              "136    b\n",
              "Name: label, dtype: object"
            ]
          },
          "metadata": {
            "tags": []
          },
          "execution_count": 16
        }
      ]
    },
    {
      "cell_type": "code",
      "metadata": {
        "colab": {
          "base_uri": "https://localhost:8080/"
        },
        "id": "FMsKN5rB_dix",
        "outputId": "cca3968f-0a47-4614-b701-ba0f3ac4c5dd"
      },
      "source": [
        "train_dataset.shape"
      ],
      "execution_count": 17,
      "outputs": [
        {
          "output_type": "execute_result",
          "data": {
            "text/plain": [
              "(211, 34)"
            ]
          },
          "metadata": {
            "tags": []
          },
          "execution_count": 17
        }
      ]
    },
    {
      "cell_type": "code",
      "metadata": {
        "id": "zNLb2rRY_dqF"
      },
      "source": [
        "test_labels = test_dataset.pop('label')"
      ],
      "execution_count": 40,
      "outputs": []
    },
    {
      "cell_type": "code",
      "metadata": {
        "colab": {
          "base_uri": "https://localhost:8080/"
        },
        "id": "IK6KvlLb_dxk",
        "outputId": "ff635408-b7e1-4cc0-bd39-eefc69049f16"
      },
      "source": [
        "test_dataset.shape"
      ],
      "execution_count": 19,
      "outputs": [
        {
          "output_type": "execute_result",
          "data": {
            "text/plain": [
              "(140, 34)"
            ]
          },
          "metadata": {
            "tags": []
          },
          "execution_count": 19
        }
      ]
    },
    {
      "cell_type": "code",
      "metadata": {
        "colab": {
          "base_uri": "https://localhost:8080/"
        },
        "id": "PrsipZhO_d7B",
        "outputId": "9a4577f0-720b-4143-918c-e55bf8fb1001"
      },
      "source": [
        "test_labels.head()"
      ],
      "execution_count": 20,
      "outputs": [
        {
          "output_type": "execute_result",
          "data": {
            "text/plain": [
              "0    g\n",
              "2    g\n",
              "4    g\n",
              "8    g\n",
              "9    b\n",
              "Name: label, dtype: object"
            ]
          },
          "metadata": {
            "tags": []
          },
          "execution_count": 20
        }
      ]
    },
    {
      "cell_type": "code",
      "metadata": {
        "id": "xoFXCBoPAGZb"
      },
      "source": [
        "train_stats = train_dataset.describe()"
      ],
      "execution_count": 41,
      "outputs": []
    },
    {
      "cell_type": "code",
      "metadata": {
        "id": "J_aYVzKjAGd3"
      },
      "source": [
        "train_stats = train_stats.transpose()"
      ],
      "execution_count": 42,
      "outputs": []
    },
    {
      "cell_type": "code",
      "metadata": {
        "colab": {
          "base_uri": "https://localhost:8080/",
          "height": 1000
        },
        "id": "X0rp-nCoAGiC",
        "outputId": "ae3b97fe-d108-40e1-d80f-cd87154db533"
      },
      "source": [
        "train_stats"
      ],
      "execution_count": 43,
      "outputs": [
        {
          "output_type": "execute_result",
          "data": {
            "text/html": [
              "<div>\n",
              "<style scoped>\n",
              "    .dataframe tbody tr th:only-of-type {\n",
              "        vertical-align: middle;\n",
              "    }\n",
              "\n",
              "    .dataframe tbody tr th {\n",
              "        vertical-align: top;\n",
              "    }\n",
              "\n",
              "    .dataframe thead th {\n",
              "        text-align: right;\n",
              "    }\n",
              "</style>\n",
              "<table border=\"1\" class=\"dataframe\">\n",
              "  <thead>\n",
              "    <tr style=\"text-align: right;\">\n",
              "      <th></th>\n",
              "      <th>count</th>\n",
              "      <th>mean</th>\n",
              "      <th>std</th>\n",
              "      <th>min</th>\n",
              "      <th>25%</th>\n",
              "      <th>50%</th>\n",
              "      <th>75%</th>\n",
              "      <th>max</th>\n",
              "    </tr>\n",
              "  </thead>\n",
              "  <tbody>\n",
              "    <tr>\n",
              "      <th>feature1</th>\n",
              "      <td>211.0</td>\n",
              "      <td>0.900474</td>\n",
              "      <td>0.300079</td>\n",
              "      <td>0.0</td>\n",
              "      <td>1.000000</td>\n",
              "      <td>1.00000</td>\n",
              "      <td>1.000000</td>\n",
              "      <td>1.0</td>\n",
              "    </tr>\n",
              "    <tr>\n",
              "      <th>feature2</th>\n",
              "      <td>211.0</td>\n",
              "      <td>0.000000</td>\n",
              "      <td>0.000000</td>\n",
              "      <td>0.0</td>\n",
              "      <td>0.000000</td>\n",
              "      <td>0.00000</td>\n",
              "      <td>0.000000</td>\n",
              "      <td>0.0</td>\n",
              "    </tr>\n",
              "    <tr>\n",
              "      <th>feature3</th>\n",
              "      <td>211.0</td>\n",
              "      <td>0.653322</td>\n",
              "      <td>0.497109</td>\n",
              "      <td>-1.0</td>\n",
              "      <td>0.499350</td>\n",
              "      <td>0.88110</td>\n",
              "      <td>1.000000</td>\n",
              "      <td>1.0</td>\n",
              "    </tr>\n",
              "    <tr>\n",
              "      <th>feature4</th>\n",
              "      <td>211.0</td>\n",
              "      <td>0.049758</td>\n",
              "      <td>0.445174</td>\n",
              "      <td>-1.0</td>\n",
              "      <td>-0.058555</td>\n",
              "      <td>0.02520</td>\n",
              "      <td>0.205325</td>\n",
              "      <td>1.0</td>\n",
              "    </tr>\n",
              "    <tr>\n",
              "      <th>feature5</th>\n",
              "      <td>211.0</td>\n",
              "      <td>0.611633</td>\n",
              "      <td>0.514311</td>\n",
              "      <td>-1.0</td>\n",
              "      <td>0.429505</td>\n",
              "      <td>0.80920</td>\n",
              "      <td>1.000000</td>\n",
              "      <td>1.0</td>\n",
              "    </tr>\n",
              "    <tr>\n",
              "      <th>feature6</th>\n",
              "      <td>211.0</td>\n",
              "      <td>0.134417</td>\n",
              "      <td>0.459148</td>\n",
              "      <td>-1.0</td>\n",
              "      <td>-0.020360</td>\n",
              "      <td>0.04328</td>\n",
              "      <td>0.364610</td>\n",
              "      <td>1.0</td>\n",
              "    </tr>\n",
              "    <tr>\n",
              "      <th>feature7</th>\n",
              "      <td>211.0</td>\n",
              "      <td>0.552248</td>\n",
              "      <td>0.483899</td>\n",
              "      <td>-1.0</td>\n",
              "      <td>0.190420</td>\n",
              "      <td>0.72243</td>\n",
              "      <td>0.973550</td>\n",
              "      <td>1.0</td>\n",
              "    </tr>\n",
              "    <tr>\n",
              "      <th>feature8</th>\n",
              "      <td>211.0</td>\n",
              "      <td>0.111770</td>\n",
              "      <td>0.546632</td>\n",
              "      <td>-1.0</td>\n",
              "      <td>-0.052680</td>\n",
              "      <td>0.01678</td>\n",
              "      <td>0.487135</td>\n",
              "      <td>1.0</td>\n",
              "    </tr>\n",
              "    <tr>\n",
              "      <th>feature9</th>\n",
              "      <td>211.0</td>\n",
              "      <td>0.517769</td>\n",
              "      <td>0.497062</td>\n",
              "      <td>-1.0</td>\n",
              "      <td>0.104030</td>\n",
              "      <td>0.69258</td>\n",
              "      <td>0.954680</td>\n",
              "      <td>1.0</td>\n",
              "    </tr>\n",
              "    <tr>\n",
              "      <th>feature10</th>\n",
              "      <td>211.0</td>\n",
              "      <td>0.222402</td>\n",
              "      <td>0.490804</td>\n",
              "      <td>-1.0</td>\n",
              "      <td>-0.025090</td>\n",
              "      <td>0.06111</td>\n",
              "      <td>0.648935</td>\n",
              "      <td>1.0</td>\n",
              "    </tr>\n",
              "    <tr>\n",
              "      <th>feature11</th>\n",
              "      <td>211.0</td>\n",
              "      <td>0.462256</td>\n",
              "      <td>0.569542</td>\n",
              "      <td>-1.0</td>\n",
              "      <td>0.001410</td>\n",
              "      <td>0.64394</td>\n",
              "      <td>0.951040</td>\n",
              "      <td>1.0</td>\n",
              "    </tr>\n",
              "    <tr>\n",
              "      <th>feature12</th>\n",
              "      <td>211.0</td>\n",
              "      <td>0.168816</td>\n",
              "      <td>0.508950</td>\n",
              "      <td>-1.0</td>\n",
              "      <td>-0.055810</td>\n",
              "      <td>0.04545</td>\n",
              "      <td>0.531880</td>\n",
              "      <td>1.0</td>\n",
              "    </tr>\n",
              "    <tr>\n",
              "      <th>feature13</th>\n",
              "      <td>211.0</td>\n",
              "      <td>0.359674</td>\n",
              "      <td>0.635740</td>\n",
              "      <td>-1.0</td>\n",
              "      <td>0.000000</td>\n",
              "      <td>0.58965</td>\n",
              "      <td>0.946970</td>\n",
              "      <td>1.0</td>\n",
              "    </tr>\n",
              "    <tr>\n",
              "      <th>feature14</th>\n",
              "      <td>211.0</td>\n",
              "      <td>0.120874</td>\n",
              "      <td>0.506478</td>\n",
              "      <td>-1.0</td>\n",
              "      <td>-0.059475</td>\n",
              "      <td>0.04310</td>\n",
              "      <td>0.469410</td>\n",
              "      <td>1.0</td>\n",
              "    </tr>\n",
              "    <tr>\n",
              "      <th>feature15</th>\n",
              "      <td>211.0</td>\n",
              "      <td>0.309754</td>\n",
              "      <td>0.679108</td>\n",
              "      <td>-1.0</td>\n",
              "      <td>-0.054525</td>\n",
              "      <td>0.57620</td>\n",
              "      <td>0.919215</td>\n",
              "      <td>1.0</td>\n",
              "    </tr>\n",
              "    <tr>\n",
              "      <th>feature16</th>\n",
              "      <td>211.0</td>\n",
              "      <td>0.095353</td>\n",
              "      <td>0.487026</td>\n",
              "      <td>-1.0</td>\n",
              "      <td>-0.065420</td>\n",
              "      <td>0.02487</td>\n",
              "      <td>0.383830</td>\n",
              "      <td>1.0</td>\n",
              "    </tr>\n",
              "    <tr>\n",
              "      <th>feature17</th>\n",
              "      <td>211.0</td>\n",
              "      <td>0.376493</td>\n",
              "      <td>0.628771</td>\n",
              "      <td>-1.0</td>\n",
              "      <td>-0.001715</td>\n",
              "      <td>0.59091</td>\n",
              "      <td>0.941860</td>\n",
              "      <td>1.0</td>\n",
              "    </tr>\n",
              "    <tr>\n",
              "      <th>feature18</th>\n",
              "      <td>211.0</td>\n",
              "      <td>0.029351</td>\n",
              "      <td>0.497652</td>\n",
              "      <td>-1.0</td>\n",
              "      <td>-0.212235</td>\n",
              "      <td>0.00000</td>\n",
              "      <td>0.226590</td>\n",
              "      <td>1.0</td>\n",
              "    </tr>\n",
              "    <tr>\n",
              "      <th>feature19</th>\n",
              "      <td>211.0</td>\n",
              "      <td>0.338297</td>\n",
              "      <td>0.642432</td>\n",
              "      <td>-1.0</td>\n",
              "      <td>-0.043910</td>\n",
              "      <td>0.55932</td>\n",
              "      <td>0.938795</td>\n",
              "      <td>1.0</td>\n",
              "    </tr>\n",
              "    <tr>\n",
              "      <th>feature20</th>\n",
              "      <td>211.0</td>\n",
              "      <td>-0.031125</td>\n",
              "      <td>0.528937</td>\n",
              "      <td>-1.0</td>\n",
              "      <td>-0.273905</td>\n",
              "      <td>0.00000</td>\n",
              "      <td>0.128470</td>\n",
              "      <td>1.0</td>\n",
              "    </tr>\n",
              "    <tr>\n",
              "      <th>feature21</th>\n",
              "      <td>211.0</td>\n",
              "      <td>0.310739</td>\n",
              "      <td>0.635682</td>\n",
              "      <td>-1.0</td>\n",
              "      <td>-0.117365</td>\n",
              "      <td>0.48571</td>\n",
              "      <td>0.903895</td>\n",
              "      <td>1.0</td>\n",
              "    </tr>\n",
              "    <tr>\n",
              "      <th>feature22</th>\n",
              "      <td>211.0</td>\n",
              "      <td>0.024787</td>\n",
              "      <td>0.541346</td>\n",
              "      <td>-1.0</td>\n",
              "      <td>-0.255865</td>\n",
              "      <td>0.00000</td>\n",
              "      <td>0.253575</td>\n",
              "      <td>1.0</td>\n",
              "    </tr>\n",
              "    <tr>\n",
              "      <th>feature23</th>\n",
              "      <td>211.0</td>\n",
              "      <td>0.327070</td>\n",
              "      <td>0.619003</td>\n",
              "      <td>-1.0</td>\n",
              "      <td>-0.019880</td>\n",
              "      <td>0.51933</td>\n",
              "      <td>0.892570</td>\n",
              "      <td>1.0</td>\n",
              "    </tr>\n",
              "    <tr>\n",
              "      <th>feature24</th>\n",
              "      <td>211.0</td>\n",
              "      <td>-0.038122</td>\n",
              "      <td>0.521055</td>\n",
              "      <td>-1.0</td>\n",
              "      <td>-0.307305</td>\n",
              "      <td>0.00000</td>\n",
              "      <td>0.164400</td>\n",
              "      <td>1.0</td>\n",
              "    </tr>\n",
              "    <tr>\n",
              "      <th>feature25</th>\n",
              "      <td>211.0</td>\n",
              "      <td>0.394632</td>\n",
              "      <td>0.572326</td>\n",
              "      <td>-1.0</td>\n",
              "      <td>0.000000</td>\n",
              "      <td>0.53750</td>\n",
              "      <td>0.905240</td>\n",
              "      <td>1.0</td>\n",
              "    </tr>\n",
              "    <tr>\n",
              "      <th>feature26</th>\n",
              "      <td>211.0</td>\n",
              "      <td>-0.070235</td>\n",
              "      <td>0.507860</td>\n",
              "      <td>-1.0</td>\n",
              "      <td>-0.291505</td>\n",
              "      <td>-0.01505</td>\n",
              "      <td>0.157010</td>\n",
              "      <td>1.0</td>\n",
              "    </tr>\n",
              "    <tr>\n",
              "      <th>feature27</th>\n",
              "      <td>211.0</td>\n",
              "      <td>0.530345</td>\n",
              "      <td>0.541190</td>\n",
              "      <td>-1.0</td>\n",
              "      <td>0.258930</td>\n",
              "      <td>0.71698</td>\n",
              "      <td>1.000000</td>\n",
              "      <td>1.0</td>\n",
              "    </tr>\n",
              "    <tr>\n",
              "      <th>feature28</th>\n",
              "      <td>211.0</td>\n",
              "      <td>-0.066235</td>\n",
              "      <td>0.566067</td>\n",
              "      <td>-1.0</td>\n",
              "      <td>-0.459745</td>\n",
              "      <td>-0.01673</td>\n",
              "      <td>0.159805</td>\n",
              "      <td>1.0</td>\n",
              "    </tr>\n",
              "    <tr>\n",
              "      <th>feature29</th>\n",
              "      <td>211.0</td>\n",
              "      <td>0.372161</td>\n",
              "      <td>0.576206</td>\n",
              "      <td>-1.0</td>\n",
              "      <td>0.000000</td>\n",
              "      <td>0.45521</td>\n",
              "      <td>0.898725</td>\n",
              "      <td>1.0</td>\n",
              "    </tr>\n",
              "    <tr>\n",
              "      <th>feature30</th>\n",
              "      <td>211.0</td>\n",
              "      <td>-0.035469</td>\n",
              "      <td>0.491801</td>\n",
              "      <td>-1.0</td>\n",
              "      <td>-0.233380</td>\n",
              "      <td>0.00000</td>\n",
              "      <td>0.130740</td>\n",
              "      <td>1.0</td>\n",
              "    </tr>\n",
              "    <tr>\n",
              "      <th>feature31</th>\n",
              "      <td>211.0</td>\n",
              "      <td>0.350301</td>\n",
              "      <td>0.585452</td>\n",
              "      <td>-1.0</td>\n",
              "      <td>0.000000</td>\n",
              "      <td>0.46189</td>\n",
              "      <td>0.874095</td>\n",
              "      <td>1.0</td>\n",
              "    </tr>\n",
              "    <tr>\n",
              "      <th>feature32</th>\n",
              "      <td>211.0</td>\n",
              "      <td>-0.009519</td>\n",
              "      <td>0.510298</td>\n",
              "      <td>-1.0</td>\n",
              "      <td>-0.237690</td>\n",
              "      <td>0.00000</td>\n",
              "      <td>0.186210</td>\n",
              "      <td>1.0</td>\n",
              "    </tr>\n",
              "    <tr>\n",
              "      <th>feature33</th>\n",
              "      <td>211.0</td>\n",
              "      <td>0.338773</td>\n",
              "      <td>0.547470</td>\n",
              "      <td>-1.0</td>\n",
              "      <td>0.000000</td>\n",
              "      <td>0.42223</td>\n",
              "      <td>0.832120</td>\n",
              "      <td>1.0</td>\n",
              "    </tr>\n",
              "    <tr>\n",
              "      <th>feature34</th>\n",
              "      <td>211.0</td>\n",
              "      <td>0.011938</td>\n",
              "      <td>0.478764</td>\n",
              "      <td>-1.0</td>\n",
              "      <td>-0.178135</td>\n",
              "      <td>0.00000</td>\n",
              "      <td>0.171660</td>\n",
              "      <td>1.0</td>\n",
              "    </tr>\n",
              "  </tbody>\n",
              "</table>\n",
              "</div>"
            ],
            "text/plain": [
              "           count      mean       std  min       25%      50%       75%  max\n",
              "feature1   211.0  0.900474  0.300079  0.0  1.000000  1.00000  1.000000  1.0\n",
              "feature2   211.0  0.000000  0.000000  0.0  0.000000  0.00000  0.000000  0.0\n",
              "feature3   211.0  0.653322  0.497109 -1.0  0.499350  0.88110  1.000000  1.0\n",
              "feature4   211.0  0.049758  0.445174 -1.0 -0.058555  0.02520  0.205325  1.0\n",
              "feature5   211.0  0.611633  0.514311 -1.0  0.429505  0.80920  1.000000  1.0\n",
              "feature6   211.0  0.134417  0.459148 -1.0 -0.020360  0.04328  0.364610  1.0\n",
              "feature7   211.0  0.552248  0.483899 -1.0  0.190420  0.72243  0.973550  1.0\n",
              "feature8   211.0  0.111770  0.546632 -1.0 -0.052680  0.01678  0.487135  1.0\n",
              "feature9   211.0  0.517769  0.497062 -1.0  0.104030  0.69258  0.954680  1.0\n",
              "feature10  211.0  0.222402  0.490804 -1.0 -0.025090  0.06111  0.648935  1.0\n",
              "feature11  211.0  0.462256  0.569542 -1.0  0.001410  0.64394  0.951040  1.0\n",
              "feature12  211.0  0.168816  0.508950 -1.0 -0.055810  0.04545  0.531880  1.0\n",
              "feature13  211.0  0.359674  0.635740 -1.0  0.000000  0.58965  0.946970  1.0\n",
              "feature14  211.0  0.120874  0.506478 -1.0 -0.059475  0.04310  0.469410  1.0\n",
              "feature15  211.0  0.309754  0.679108 -1.0 -0.054525  0.57620  0.919215  1.0\n",
              "feature16  211.0  0.095353  0.487026 -1.0 -0.065420  0.02487  0.383830  1.0\n",
              "feature17  211.0  0.376493  0.628771 -1.0 -0.001715  0.59091  0.941860  1.0\n",
              "feature18  211.0  0.029351  0.497652 -1.0 -0.212235  0.00000  0.226590  1.0\n",
              "feature19  211.0  0.338297  0.642432 -1.0 -0.043910  0.55932  0.938795  1.0\n",
              "feature20  211.0 -0.031125  0.528937 -1.0 -0.273905  0.00000  0.128470  1.0\n",
              "feature21  211.0  0.310739  0.635682 -1.0 -0.117365  0.48571  0.903895  1.0\n",
              "feature22  211.0  0.024787  0.541346 -1.0 -0.255865  0.00000  0.253575  1.0\n",
              "feature23  211.0  0.327070  0.619003 -1.0 -0.019880  0.51933  0.892570  1.0\n",
              "feature24  211.0 -0.038122  0.521055 -1.0 -0.307305  0.00000  0.164400  1.0\n",
              "feature25  211.0  0.394632  0.572326 -1.0  0.000000  0.53750  0.905240  1.0\n",
              "feature26  211.0 -0.070235  0.507860 -1.0 -0.291505 -0.01505  0.157010  1.0\n",
              "feature27  211.0  0.530345  0.541190 -1.0  0.258930  0.71698  1.000000  1.0\n",
              "feature28  211.0 -0.066235  0.566067 -1.0 -0.459745 -0.01673  0.159805  1.0\n",
              "feature29  211.0  0.372161  0.576206 -1.0  0.000000  0.45521  0.898725  1.0\n",
              "feature30  211.0 -0.035469  0.491801 -1.0 -0.233380  0.00000  0.130740  1.0\n",
              "feature31  211.0  0.350301  0.585452 -1.0  0.000000  0.46189  0.874095  1.0\n",
              "feature32  211.0 -0.009519  0.510298 -1.0 -0.237690  0.00000  0.186210  1.0\n",
              "feature33  211.0  0.338773  0.547470 -1.0  0.000000  0.42223  0.832120  1.0\n",
              "feature34  211.0  0.011938  0.478764 -1.0 -0.178135  0.00000  0.171660  1.0"
            ]
          },
          "metadata": {
            "tags": []
          },
          "execution_count": 43
        }
      ]
    },
    {
      "cell_type": "code",
      "metadata": {
        "id": "m7anekHnAGlZ"
      },
      "source": [
        "def norm(x):\n",
        "  return (x - train_stats['mean']) / train_stats['std']"
      ],
      "execution_count": 44,
      "outputs": []
    },
    {
      "cell_type": "code",
      "metadata": {
        "id": "FItKa79yA5SI"
      },
      "source": [
        "normed_train_dataset = norm(train_dataset)"
      ],
      "execution_count": 45,
      "outputs": []
    },
    {
      "cell_type": "code",
      "metadata": {
        "colab": {
          "base_uri": "https://localhost:8080/",
          "height": 224
        },
        "id": "5b-FJQM4A5Yu",
        "outputId": "2c59f91b-ddaa-4b43-cddf-61e56c5f22e6"
      },
      "source": [
        "normed_train_dataset.head()"
      ],
      "execution_count": 46,
      "outputs": [
        {
          "output_type": "execute_result",
          "data": {
            "text/html": [
              "<div>\n",
              "<style scoped>\n",
              "    .dataframe tbody tr th:only-of-type {\n",
              "        vertical-align: middle;\n",
              "    }\n",
              "\n",
              "    .dataframe tbody tr th {\n",
              "        vertical-align: top;\n",
              "    }\n",
              "\n",
              "    .dataframe thead th {\n",
              "        text-align: right;\n",
              "    }\n",
              "</style>\n",
              "<table border=\"1\" class=\"dataframe\">\n",
              "  <thead>\n",
              "    <tr style=\"text-align: right;\">\n",
              "      <th></th>\n",
              "      <th>feature1</th>\n",
              "      <th>feature2</th>\n",
              "      <th>feature3</th>\n",
              "      <th>feature4</th>\n",
              "      <th>feature5</th>\n",
              "      <th>feature6</th>\n",
              "      <th>feature7</th>\n",
              "      <th>feature8</th>\n",
              "      <th>feature9</th>\n",
              "      <th>feature10</th>\n",
              "      <th>feature11</th>\n",
              "      <th>feature12</th>\n",
              "      <th>feature13</th>\n",
              "      <th>feature14</th>\n",
              "      <th>feature15</th>\n",
              "      <th>feature16</th>\n",
              "      <th>feature17</th>\n",
              "      <th>feature18</th>\n",
              "      <th>feature19</th>\n",
              "      <th>feature20</th>\n",
              "      <th>feature21</th>\n",
              "      <th>feature22</th>\n",
              "      <th>feature23</th>\n",
              "      <th>feature24</th>\n",
              "      <th>feature25</th>\n",
              "      <th>feature26</th>\n",
              "      <th>feature27</th>\n",
              "      <th>feature28</th>\n",
              "      <th>feature29</th>\n",
              "      <th>feature30</th>\n",
              "      <th>feature31</th>\n",
              "      <th>feature32</th>\n",
              "      <th>feature33</th>\n",
              "      <th>feature34</th>\n",
              "    </tr>\n",
              "  </thead>\n",
              "  <tbody>\n",
              "    <tr>\n",
              "      <th>197</th>\n",
              "      <td>0.331666</td>\n",
              "      <td>NaN</td>\n",
              "      <td>0.697387</td>\n",
              "      <td>0.406183</td>\n",
              "      <td>0.755121</td>\n",
              "      <td>-2.002638</td>\n",
              "      <td>0.925302</td>\n",
              "      <td>-0.394745</td>\n",
              "      <td>0.970163</td>\n",
              "      <td>-0.139081</td>\n",
              "      <td>0.944168</td>\n",
              "      <td>0.214920</td>\n",
              "      <td>0.977641</td>\n",
              "      <td>-0.374120</td>\n",
              "      <td>1.016400</td>\n",
              "      <td>-0.060064</td>\n",
              "      <td>0.924863</td>\n",
              "      <td>-0.439848</td>\n",
              "      <td>0.774468</td>\n",
              "      <td>-0.236710</td>\n",
              "      <td>1.043385</td>\n",
              "      <td>0.023078</td>\n",
              "      <td>1.081045</td>\n",
              "      <td>0.250534</td>\n",
              "      <td>1.057733</td>\n",
              "      <td>0.113625</td>\n",
              "      <td>0.798305</td>\n",
              "      <td>0.035800</td>\n",
              "      <td>0.936278</td>\n",
              "      <td>0.151116</td>\n",
              "      <td>1.109739</td>\n",
              "      <td>-0.250248</td>\n",
              "      <td>1.144277</td>\n",
              "      <td>-0.269669</td>\n",
              "    </tr>\n",
              "    <tr>\n",
              "      <th>189</th>\n",
              "      <td>0.331666</td>\n",
              "      <td>NaN</td>\n",
              "      <td>0.697387</td>\n",
              "      <td>0.041943</td>\n",
              "      <td>0.755121</td>\n",
              "      <td>0.016756</td>\n",
              "      <td>0.925302</td>\n",
              "      <td>0.199970</td>\n",
              "      <td>0.970163</td>\n",
              "      <td>-0.707821</td>\n",
              "      <td>0.944168</td>\n",
              "      <td>0.444314</td>\n",
              "      <td>1.007213</td>\n",
              "      <td>0.728434</td>\n",
              "      <td>1.016400</td>\n",
              "      <td>1.015360</td>\n",
              "      <td>-1.195178</td>\n",
              "      <td>1.950455</td>\n",
              "      <td>1.029997</td>\n",
              "      <td>0.058845</td>\n",
              "      <td>1.084286</td>\n",
              "      <td>1.653698</td>\n",
              "      <td>1.087119</td>\n",
              "      <td>1.992347</td>\n",
              "      <td>1.057733</td>\n",
              "      <td>2.107341</td>\n",
              "      <td>0.867819</td>\n",
              "      <td>1.883586</td>\n",
              "      <td>1.089608</td>\n",
              "      <td>0.580456</td>\n",
              "      <td>1.109739</td>\n",
              "      <td>1.978294</td>\n",
              "      <td>1.207788</td>\n",
              "      <td>2.063779</td>\n",
              "    </tr>\n",
              "    <tr>\n",
              "      <th>7</th>\n",
              "      <td>-3.000790</td>\n",
              "      <td>NaN</td>\n",
              "      <td>-1.314244</td>\n",
              "      <td>-0.111772</td>\n",
              "      <td>-1.189229</td>\n",
              "      <td>-0.292753</td>\n",
              "      <td>0.925302</td>\n",
              "      <td>-2.033855</td>\n",
              "      <td>-1.041657</td>\n",
              "      <td>-0.453137</td>\n",
              "      <td>-2.567424</td>\n",
              "      <td>-2.296524</td>\n",
              "      <td>-0.565756</td>\n",
              "      <td>-0.238656</td>\n",
              "      <td>-0.456119</td>\n",
              "      <td>-0.195786</td>\n",
              "      <td>0.991628</td>\n",
              "      <td>1.950455</td>\n",
              "      <td>-2.083173</td>\n",
              "      <td>-1.831738</td>\n",
              "      <td>-0.488827</td>\n",
              "      <td>-0.045788</td>\n",
              "      <td>-0.528381</td>\n",
              "      <td>0.073162</td>\n",
              "      <td>1.057733</td>\n",
              "      <td>2.107341</td>\n",
              "      <td>0.867819</td>\n",
              "      <td>1.883586</td>\n",
              "      <td>-0.645882</td>\n",
              "      <td>0.072120</td>\n",
              "      <td>1.109739</td>\n",
              "      <td>1.978294</td>\n",
              "      <td>-0.618798</td>\n",
              "      <td>-0.024935</td>\n",
              "    </tr>\n",
              "    <tr>\n",
              "      <th>46</th>\n",
              "      <td>0.331666</td>\n",
              "      <td>NaN</td>\n",
              "      <td>0.697387</td>\n",
              "      <td>-0.195560</td>\n",
              "      <td>0.755121</td>\n",
              "      <td>-0.453550</td>\n",
              "      <td>0.917056</td>\n",
              "      <td>-0.406416</td>\n",
              "      <td>0.966904</td>\n",
              "      <td>-0.655478</td>\n",
              "      <td>0.925574</td>\n",
              "      <td>-0.603117</td>\n",
              "      <td>0.954896</td>\n",
              "      <td>-0.667006</td>\n",
              "      <td>0.947015</td>\n",
              "      <td>-0.711138</td>\n",
              "      <td>0.852245</td>\n",
              "      <td>-0.750225</td>\n",
              "      <td>0.883382</td>\n",
              "      <td>-0.549016</td>\n",
              "      <td>0.926833</td>\n",
              "      <td>-0.686616</td>\n",
              "      <td>0.891224</td>\n",
              "      <td>-0.649276</td>\n",
              "      <td>0.816839</td>\n",
              "      <td>-0.708196</td>\n",
              "      <td>0.556874</td>\n",
              "      <td>-0.644773</td>\n",
              "      <td>0.767380</td>\n",
              "      <td>-0.793941</td>\n",
              "      <td>0.732578</td>\n",
              "      <td>-0.921523</td>\n",
              "      <td>0.753242</td>\n",
              "      <td>-1.072466</td>\n",
              "    </tr>\n",
              "    <tr>\n",
              "      <th>136</th>\n",
              "      <td>0.331666</td>\n",
              "      <td>NaN</td>\n",
              "      <td>-3.325875</td>\n",
              "      <td>0.519555</td>\n",
              "      <td>-0.757156</td>\n",
              "      <td>0.034658</td>\n",
              "      <td>-2.705479</td>\n",
              "      <td>-1.503041</td>\n",
              "      <td>-1.659668</td>\n",
              "      <td>0.998399</td>\n",
              "      <td>-2.567424</td>\n",
              "      <td>1.633134</td>\n",
              "      <td>-1.850856</td>\n",
              "      <td>0.432390</td>\n",
              "      <td>-1.620660</td>\n",
              "      <td>-0.249459</td>\n",
              "      <td>-2.157993</td>\n",
              "      <td>-1.726951</td>\n",
              "      <td>-1.462578</td>\n",
              "      <td>-0.966759</td>\n",
              "      <td>-0.560797</td>\n",
              "      <td>-1.579132</td>\n",
              "      <td>0.992096</td>\n",
              "      <td>-1.733135</td>\n",
              "      <td>-2.436780</td>\n",
              "      <td>-0.711090</td>\n",
              "      <td>0.394510</td>\n",
              "      <td>0.279111</td>\n",
              "      <td>-2.381372</td>\n",
              "      <td>0.178444</td>\n",
              "      <td>-0.285747</td>\n",
              "      <td>0.069878</td>\n",
              "      <td>-1.353104</td>\n",
              "      <td>-1.032551</td>\n",
              "    </tr>\n",
              "  </tbody>\n",
              "</table>\n",
              "</div>"
            ],
            "text/plain": [
              "     feature1  feature2  feature3  ...  feature32  feature33  feature34\n",
              "197  0.331666       NaN  0.697387  ...  -0.250248   1.144277  -0.269669\n",
              "189  0.331666       NaN  0.697387  ...   1.978294   1.207788   2.063779\n",
              "7   -3.000790       NaN -1.314244  ...   1.978294  -0.618798  -0.024935\n",
              "46   0.331666       NaN  0.697387  ...  -0.921523   0.753242  -1.072466\n",
              "136  0.331666       NaN -3.325875  ...   0.069878  -1.353104  -1.032551\n",
              "\n",
              "[5 rows x 34 columns]"
            ]
          },
          "metadata": {
            "tags": []
          },
          "execution_count": 46
        }
      ]
    },
    {
      "cell_type": "code",
      "metadata": {
        "colab": {
          "base_uri": "https://localhost:8080/"
        },
        "id": "bMtZJN_CA5gt",
        "outputId": "75b86445-7743-405b-9863-a8b6ed49c6f6"
      },
      "source": [
        "normed_train_dataset.info()"
      ],
      "execution_count": 47,
      "outputs": [
        {
          "output_type": "stream",
          "text": [
            "<class 'pandas.core.frame.DataFrame'>\n",
            "Int64Index: 211 entries, 197 to 195\n",
            "Data columns (total 34 columns):\n",
            " #   Column     Non-Null Count  Dtype  \n",
            "---  ------     --------------  -----  \n",
            " 0   feature1   211 non-null    float64\n",
            " 1   feature2   0 non-null      float64\n",
            " 2   feature3   211 non-null    float64\n",
            " 3   feature4   211 non-null    float64\n",
            " 4   feature5   211 non-null    float64\n",
            " 5   feature6   211 non-null    float64\n",
            " 6   feature7   211 non-null    float64\n",
            " 7   feature8   211 non-null    float64\n",
            " 8   feature9   211 non-null    float64\n",
            " 9   feature10  211 non-null    float64\n",
            " 10  feature11  211 non-null    float64\n",
            " 11  feature12  211 non-null    float64\n",
            " 12  feature13  211 non-null    float64\n",
            " 13  feature14  211 non-null    float64\n",
            " 14  feature15  211 non-null    float64\n",
            " 15  feature16  211 non-null    float64\n",
            " 16  feature17  211 non-null    float64\n",
            " 17  feature18  211 non-null    float64\n",
            " 18  feature19  211 non-null    float64\n",
            " 19  feature20  211 non-null    float64\n",
            " 20  feature21  211 non-null    float64\n",
            " 21  feature22  211 non-null    float64\n",
            " 22  feature23  211 non-null    float64\n",
            " 23  feature24  211 non-null    float64\n",
            " 24  feature25  211 non-null    float64\n",
            " 25  feature26  211 non-null    float64\n",
            " 26  feature27  211 non-null    float64\n",
            " 27  feature28  211 non-null    float64\n",
            " 28  feature29  211 non-null    float64\n",
            " 29  feature30  211 non-null    float64\n",
            " 30  feature31  211 non-null    float64\n",
            " 31  feature32  211 non-null    float64\n",
            " 32  feature33  211 non-null    float64\n",
            " 33  feature34  211 non-null    float64\n",
            "dtypes: float64(34)\n",
            "memory usage: 57.7 KB\n"
          ],
          "name": "stdout"
        }
      ]
    },
    {
      "cell_type": "code",
      "metadata": {
        "id": "5Ktzar1LAGq8"
      },
      "source": [
        "normed_test_dataset = norm(test_dataset)"
      ],
      "execution_count": 48,
      "outputs": []
    },
    {
      "cell_type": "code",
      "metadata": {
        "colab": {
          "base_uri": "https://localhost:8080/"
        },
        "id": "1ct9YfUABQKJ",
        "outputId": "fdce22c5-98bc-415c-b1a1-8a86675edfb3"
      },
      "source": [
        "normed_test_dataset.info()"
      ],
      "execution_count": 49,
      "outputs": [
        {
          "output_type": "stream",
          "text": [
            "<class 'pandas.core.frame.DataFrame'>\n",
            "Int64Index: 140 entries, 0 to 350\n",
            "Data columns (total 34 columns):\n",
            " #   Column     Non-Null Count  Dtype  \n",
            "---  ------     --------------  -----  \n",
            " 0   feature1   140 non-null    float64\n",
            " 1   feature2   0 non-null      float64\n",
            " 2   feature3   140 non-null    float64\n",
            " 3   feature4   140 non-null    float64\n",
            " 4   feature5   140 non-null    float64\n",
            " 5   feature6   140 non-null    float64\n",
            " 6   feature7   140 non-null    float64\n",
            " 7   feature8   140 non-null    float64\n",
            " 8   feature9   140 non-null    float64\n",
            " 9   feature10  140 non-null    float64\n",
            " 10  feature11  140 non-null    float64\n",
            " 11  feature12  140 non-null    float64\n",
            " 12  feature13  140 non-null    float64\n",
            " 13  feature14  140 non-null    float64\n",
            " 14  feature15  140 non-null    float64\n",
            " 15  feature16  140 non-null    float64\n",
            " 16  feature17  140 non-null    float64\n",
            " 17  feature18  140 non-null    float64\n",
            " 18  feature19  140 non-null    float64\n",
            " 19  feature20  140 non-null    float64\n",
            " 20  feature21  140 non-null    float64\n",
            " 21  feature22  140 non-null    float64\n",
            " 22  feature23  140 non-null    float64\n",
            " 23  feature24  140 non-null    float64\n",
            " 24  feature25  140 non-null    float64\n",
            " 25  feature26  140 non-null    float64\n",
            " 26  feature27  140 non-null    float64\n",
            " 27  feature28  140 non-null    float64\n",
            " 28  feature29  140 non-null    float64\n",
            " 29  feature30  140 non-null    float64\n",
            " 30  feature31  140 non-null    float64\n",
            " 31  feature32  140 non-null    float64\n",
            " 32  feature33  140 non-null    float64\n",
            " 33  feature34  140 non-null    float64\n",
            "dtypes: float64(34)\n",
            "memory usage: 38.3 KB\n"
          ],
          "name": "stdout"
        }
      ]
    },
    {
      "cell_type": "code",
      "metadata": {
        "colab": {
          "base_uri": "https://localhost:8080/",
          "height": 224
        },
        "id": "O3CLTGhxBQOJ",
        "outputId": "6f333ee6-83fb-4ff6-9f68-83e3850f97af"
      },
      "source": [
        "normed_test_dataset.head()"
      ],
      "execution_count": 50,
      "outputs": [
        {
          "output_type": "execute_result",
          "data": {
            "text/html": [
              "<div>\n",
              "<style scoped>\n",
              "    .dataframe tbody tr th:only-of-type {\n",
              "        vertical-align: middle;\n",
              "    }\n",
              "\n",
              "    .dataframe tbody tr th {\n",
              "        vertical-align: top;\n",
              "    }\n",
              "\n",
              "    .dataframe thead th {\n",
              "        text-align: right;\n",
              "    }\n",
              "</style>\n",
              "<table border=\"1\" class=\"dataframe\">\n",
              "  <thead>\n",
              "    <tr style=\"text-align: right;\">\n",
              "      <th></th>\n",
              "      <th>feature1</th>\n",
              "      <th>feature2</th>\n",
              "      <th>feature3</th>\n",
              "      <th>feature4</th>\n",
              "      <th>feature5</th>\n",
              "      <th>feature6</th>\n",
              "      <th>feature7</th>\n",
              "      <th>feature8</th>\n",
              "      <th>feature9</th>\n",
              "      <th>feature10</th>\n",
              "      <th>feature11</th>\n",
              "      <th>feature12</th>\n",
              "      <th>feature13</th>\n",
              "      <th>feature14</th>\n",
              "      <th>feature15</th>\n",
              "      <th>feature16</th>\n",
              "      <th>feature17</th>\n",
              "      <th>feature18</th>\n",
              "      <th>feature19</th>\n",
              "      <th>feature20</th>\n",
              "      <th>feature21</th>\n",
              "      <th>feature22</th>\n",
              "      <th>feature23</th>\n",
              "      <th>feature24</th>\n",
              "      <th>feature25</th>\n",
              "      <th>feature26</th>\n",
              "      <th>feature27</th>\n",
              "      <th>feature28</th>\n",
              "      <th>feature29</th>\n",
              "      <th>feature30</th>\n",
              "      <th>feature31</th>\n",
              "      <th>feature32</th>\n",
              "      <th>feature33</th>\n",
              "      <th>feature34</th>\n",
              "    </tr>\n",
              "  </thead>\n",
              "  <tbody>\n",
              "    <tr>\n",
              "      <th>0</th>\n",
              "      <td>0.331666</td>\n",
              "      <td>NaN</td>\n",
              "      <td>0.688114</td>\n",
              "      <td>-0.244058</td>\n",
              "      <td>0.468193</td>\n",
              "      <td>-0.242529</td>\n",
              "      <td>0.582213</td>\n",
              "      <td>-0.894295</td>\n",
              "      <td>0.970163</td>\n",
              "      <td>-0.376528</td>\n",
              "      <td>0.685065</td>\n",
              "      <td>-0.680551</td>\n",
              "      <td>0.374172</td>\n",
              "      <td>-1.126058</td>\n",
              "      <td>0.435285</td>\n",
              "      <td>-0.980610</td>\n",
              "      <td>0.742825</td>\n",
              "      <td>-0.833456</td>\n",
              "      <td>0.379531</td>\n",
              "      <td>-0.549772</td>\n",
              "      <td>0.407391</td>\n",
              "      <td>-0.593940</td>\n",
              "      <td>0.068482</td>\n",
              "      <td>-0.835706</td>\n",
              "      <td>0.303111</td>\n",
              "      <td>-0.869283</td>\n",
              "      <td>-0.220931</td>\n",
              "      <td>-0.698583</td>\n",
              "      <td>-0.276813</td>\n",
              "      <td>-0.621046</td>\n",
              "      <td>0.123612</td>\n",
              "      <td>-1.049096</td>\n",
              "      <td>-0.278304</td>\n",
              "      <td>-0.971122</td>\n",
              "    </tr>\n",
              "    <tr>\n",
              "      <th>2</th>\n",
              "      <td>0.331666</td>\n",
              "      <td>NaN</td>\n",
              "      <td>0.697387</td>\n",
              "      <td>-0.187361</td>\n",
              "      <td>0.755121</td>\n",
              "      <td>-0.282189</td>\n",
              "      <td>0.925302</td>\n",
              "      <td>-0.425131</td>\n",
              "      <td>0.748158</td>\n",
              "      <td>-0.428728</td>\n",
              "      <td>0.471543</td>\n",
              "      <td>-0.226656</td>\n",
              "      <td>0.778236</td>\n",
              "      <td>-0.222327</td>\n",
              "      <td>0.347744</td>\n",
              "      <td>-0.189647</td>\n",
              "      <td>0.733585</td>\n",
              "      <td>-0.333147</td>\n",
              "      <td>0.649178</td>\n",
              "      <td>-0.102611</td>\n",
              "      <td>0.626306</td>\n",
              "      <td>-0.553818</td>\n",
              "      <td>0.172504</td>\n",
              "      <td>-0.158330</td>\n",
              "      <td>0.315638</td>\n",
              "      <td>-0.653653</td>\n",
              "      <td>0.109933</td>\n",
              "      <td>-0.274199</td>\n",
              "      <td>0.102114</td>\n",
              "      <td>-0.280969</td>\n",
              "      <td>0.433954</td>\n",
              "      <td>-0.455188</td>\n",
              "      <td>0.404912</td>\n",
              "      <td>-0.823617</td>\n",
              "    </tr>\n",
              "    <tr>\n",
              "      <th>4</th>\n",
              "      <td>0.331666</td>\n",
              "      <td>NaN</td>\n",
              "      <td>0.697387</td>\n",
              "      <td>-0.165706</td>\n",
              "      <td>0.641182</td>\n",
              "      <td>-0.150511</td>\n",
              "      <td>0.762168</td>\n",
              "      <td>-0.629894</td>\n",
              "      <td>0.510502</td>\n",
              "      <td>-0.787262</td>\n",
              "      <td>0.115397</td>\n",
              "      <td>-0.730064</td>\n",
              "      <td>0.321540</td>\n",
              "      <td>-0.252713</td>\n",
              "      <td>0.050354</td>\n",
              "      <td>-0.759554</td>\n",
              "      <td>0.243184</td>\n",
              "      <td>-0.496635</td>\n",
              "      <td>0.175540</td>\n",
              "      <td>-0.277925</td>\n",
              "      <td>-0.394724</td>\n",
              "      <td>-0.702946</td>\n",
              "      <td>-0.491079</td>\n",
              "      <td>-0.941683</td>\n",
              "      <td>-0.632109</td>\n",
              "      <td>-1.144693</td>\n",
              "      <td>-0.734392</td>\n",
              "      <td>-0.822915</td>\n",
              "      <td>-0.603692</td>\n",
              "      <td>-1.192557</td>\n",
              "      <td>-0.695823</td>\n",
              "      <td>-1.148763</td>\n",
              "      <td>-0.702967</td>\n",
              "      <td>-1.397157</td>\n",
              "    </tr>\n",
              "    <tr>\n",
              "      <th>8</th>\n",
              "      <td>0.331666</td>\n",
              "      <td>NaN</td>\n",
              "      <td>0.624064</td>\n",
              "      <td>-0.273462</td>\n",
              "      <td>0.755121</td>\n",
              "      <td>-0.604918</td>\n",
              "      <td>0.925302</td>\n",
              "      <td>-0.594367</td>\n",
              "      <td>0.970163</td>\n",
              "      <td>-1.190172</td>\n",
              "      <td>0.813713</td>\n",
              "      <td>-1.187752</td>\n",
              "      <td>0.920857</td>\n",
              "      <td>-1.041612</td>\n",
              "      <td>0.874920</td>\n",
              "      <td>-1.148117</td>\n",
              "      <td>0.964671</td>\n",
              "      <td>-0.767446</td>\n",
              "      <td>0.789302</td>\n",
              "      <td>-1.189318</td>\n",
              "      <td>0.696451</td>\n",
              "      <td>-1.165016</td>\n",
              "      <td>0.596605</td>\n",
              "      <td>-1.159434</td>\n",
              "      <td>0.797497</td>\n",
              "      <td>-1.150246</td>\n",
              "      <td>0.083935</td>\n",
              "      <td>-1.114506</td>\n",
              "      <td>-0.204460</td>\n",
              "      <td>-1.227571</td>\n",
              "      <td>0.172241</td>\n",
              "      <td>-1.407553</td>\n",
              "      <td>0.091652</td>\n",
              "      <td>-1.558468</td>\n",
              "    </tr>\n",
              "    <tr>\n",
              "      <th>9</th>\n",
              "      <td>0.331666</td>\n",
              "      <td>NaN</td>\n",
              "      <td>-1.351741</td>\n",
              "      <td>-0.301788</td>\n",
              "      <td>-1.189229</td>\n",
              "      <td>-0.292753</td>\n",
              "      <td>-1.141247</td>\n",
              "      <td>-0.204471</td>\n",
              "      <td>-0.810901</td>\n",
              "      <td>-0.999383</td>\n",
              "      <td>-1.613377</td>\n",
              "      <td>-1.081710</td>\n",
              "      <td>-0.565756</td>\n",
              "      <td>-0.238656</td>\n",
              "      <td>-0.951710</td>\n",
              "      <td>0.596820</td>\n",
              "      <td>-1.189341</td>\n",
              "      <td>0.242797</td>\n",
              "      <td>0.465392</td>\n",
              "      <td>0.476947</td>\n",
              "      <td>-0.488827</td>\n",
              "      <td>-0.045788</td>\n",
              "      <td>-0.528381</td>\n",
              "      <td>0.073162</td>\n",
              "      <td>-0.948170</td>\n",
              "      <td>0.112187</td>\n",
              "      <td>-0.598488</td>\n",
              "      <td>0.076484</td>\n",
              "      <td>-0.645882</td>\n",
              "      <td>0.072120</td>\n",
              "      <td>-0.314887</td>\n",
              "      <td>0.490652</td>\n",
              "      <td>-0.768724</td>\n",
              "      <td>0.770134</td>\n",
              "    </tr>\n",
              "  </tbody>\n",
              "</table>\n",
              "</div>"
            ],
            "text/plain": [
              "   feature1  feature2  feature3  ...  feature32  feature33  feature34\n",
              "0  0.331666       NaN  0.688114  ...  -1.049096  -0.278304  -0.971122\n",
              "2  0.331666       NaN  0.697387  ...  -0.455188   0.404912  -0.823617\n",
              "4  0.331666       NaN  0.697387  ...  -1.148763  -0.702967  -1.397157\n",
              "8  0.331666       NaN  0.624064  ...  -1.407553   0.091652  -1.558468\n",
              "9  0.331666       NaN -1.351741  ...   0.490652  -0.768724   0.770134\n",
              "\n",
              "[5 rows x 34 columns]"
            ]
          },
          "metadata": {
            "tags": []
          },
          "execution_count": 50
        }
      ]
    },
    {
      "cell_type": "code",
      "metadata": {
        "id": "O6181yE4ruB9"
      },
      "source": [
        "normed_train_dataset = normed_train_dataset.drop(['feature2'], axis =1)"
      ],
      "execution_count": 52,
      "outputs": []
    },
    {
      "cell_type": "code",
      "metadata": {
        "colab": {
          "base_uri": "https://localhost:8080/"
        },
        "id": "gCFhV_Wcr_iF",
        "outputId": "91054afe-1bcd-423a-9803-5f0f4d6a7b71"
      },
      "source": [
        "normed_train_dataset.info()"
      ],
      "execution_count": 53,
      "outputs": [
        {
          "output_type": "stream",
          "text": [
            "<class 'pandas.core.frame.DataFrame'>\n",
            "Int64Index: 211 entries, 197 to 195\n",
            "Data columns (total 33 columns):\n",
            " #   Column     Non-Null Count  Dtype  \n",
            "---  ------     --------------  -----  \n",
            " 0   feature1   211 non-null    float64\n",
            " 1   feature3   211 non-null    float64\n",
            " 2   feature4   211 non-null    float64\n",
            " 3   feature5   211 non-null    float64\n",
            " 4   feature6   211 non-null    float64\n",
            " 5   feature7   211 non-null    float64\n",
            " 6   feature8   211 non-null    float64\n",
            " 7   feature9   211 non-null    float64\n",
            " 8   feature10  211 non-null    float64\n",
            " 9   feature11  211 non-null    float64\n",
            " 10  feature12  211 non-null    float64\n",
            " 11  feature13  211 non-null    float64\n",
            " 12  feature14  211 non-null    float64\n",
            " 13  feature15  211 non-null    float64\n",
            " 14  feature16  211 non-null    float64\n",
            " 15  feature17  211 non-null    float64\n",
            " 16  feature18  211 non-null    float64\n",
            " 17  feature19  211 non-null    float64\n",
            " 18  feature20  211 non-null    float64\n",
            " 19  feature21  211 non-null    float64\n",
            " 20  feature22  211 non-null    float64\n",
            " 21  feature23  211 non-null    float64\n",
            " 22  feature24  211 non-null    float64\n",
            " 23  feature25  211 non-null    float64\n",
            " 24  feature26  211 non-null    float64\n",
            " 25  feature27  211 non-null    float64\n",
            " 26  feature28  211 non-null    float64\n",
            " 27  feature29  211 non-null    float64\n",
            " 28  feature30  211 non-null    float64\n",
            " 29  feature31  211 non-null    float64\n",
            " 30  feature32  211 non-null    float64\n",
            " 31  feature33  211 non-null    float64\n",
            " 32  feature34  211 non-null    float64\n",
            "dtypes: float64(33)\n",
            "memory usage: 66.0 KB\n"
          ],
          "name": "stdout"
        }
      ]
    },
    {
      "cell_type": "code",
      "metadata": {
        "id": "Lw_Yf_NAr_ak"
      },
      "source": [
        "normed_test_dataset = normed_test_dataset.drop(['feature2'], axis =1)"
      ],
      "execution_count": 54,
      "outputs": []
    },
    {
      "cell_type": "code",
      "metadata": {
        "colab": {
          "base_uri": "https://localhost:8080/"
        },
        "id": "Hxn4IA4Mr_R5",
        "outputId": "bd267653-68b7-4b15-84b6-3b1c92460820"
      },
      "source": [
        "normed_test_dataset.info()"
      ],
      "execution_count": 55,
      "outputs": [
        {
          "output_type": "stream",
          "text": [
            "<class 'pandas.core.frame.DataFrame'>\n",
            "Int64Index: 140 entries, 0 to 350\n",
            "Data columns (total 33 columns):\n",
            " #   Column     Non-Null Count  Dtype  \n",
            "---  ------     --------------  -----  \n",
            " 0   feature1   140 non-null    float64\n",
            " 1   feature3   140 non-null    float64\n",
            " 2   feature4   140 non-null    float64\n",
            " 3   feature5   140 non-null    float64\n",
            " 4   feature6   140 non-null    float64\n",
            " 5   feature7   140 non-null    float64\n",
            " 6   feature8   140 non-null    float64\n",
            " 7   feature9   140 non-null    float64\n",
            " 8   feature10  140 non-null    float64\n",
            " 9   feature11  140 non-null    float64\n",
            " 10  feature12  140 non-null    float64\n",
            " 11  feature13  140 non-null    float64\n",
            " 12  feature14  140 non-null    float64\n",
            " 13  feature15  140 non-null    float64\n",
            " 14  feature16  140 non-null    float64\n",
            " 15  feature17  140 non-null    float64\n",
            " 16  feature18  140 non-null    float64\n",
            " 17  feature19  140 non-null    float64\n",
            " 18  feature20  140 non-null    float64\n",
            " 19  feature21  140 non-null    float64\n",
            " 20  feature22  140 non-null    float64\n",
            " 21  feature23  140 non-null    float64\n",
            " 22  feature24  140 non-null    float64\n",
            " 23  feature25  140 non-null    float64\n",
            " 24  feature26  140 non-null    float64\n",
            " 25  feature27  140 non-null    float64\n",
            " 26  feature28  140 non-null    float64\n",
            " 27  feature29  140 non-null    float64\n",
            " 28  feature30  140 non-null    float64\n",
            " 29  feature31  140 non-null    float64\n",
            " 30  feature32  140 non-null    float64\n",
            " 31  feature33  140 non-null    float64\n",
            " 32  feature34  140 non-null    float64\n",
            "dtypes: float64(33)\n",
            "memory usage: 37.2 KB\n"
          ],
          "name": "stdout"
        }
      ]
    },
    {
      "cell_type": "code",
      "metadata": {
        "colab": {
          "base_uri": "https://localhost:8080/",
          "height": 357
        },
        "id": "asmdSbmgr_E7",
        "outputId": "33f33abd-77eb-4fb9-cd63-a8fc8a9ee0d8"
      },
      "source": [
        "def tonumber(x):\n",
        "    return x.map({'g':1, 'b': 0})\n",
        "    \n",
        "train_labels = train_labels.apply(tonumber)"
      ],
      "execution_count": 60,
      "outputs": [
        {
          "output_type": "error",
          "ename": "AttributeError",
          "evalue": "ignored",
          "traceback": [
            "\u001b[0;31m---------------------------------------------------------------------------\u001b[0m",
            "\u001b[0;31mAttributeError\u001b[0m                            Traceback (most recent call last)",
            "\u001b[0;32m<ipython-input-60-523a8fd49e33>\u001b[0m in \u001b[0;36m<module>\u001b[0;34m()\u001b[0m\n\u001b[1;32m      2\u001b[0m     \u001b[0;32mreturn\u001b[0m \u001b[0mx\u001b[0m\u001b[0;34m.\u001b[0m\u001b[0mmap\u001b[0m\u001b[0;34m(\u001b[0m\u001b[0;34m{\u001b[0m\u001b[0;34m'g'\u001b[0m\u001b[0;34m:\u001b[0m\u001b[0;36m1\u001b[0m\u001b[0;34m,\u001b[0m \u001b[0;34m'b'\u001b[0m\u001b[0;34m:\u001b[0m \u001b[0;36m0\u001b[0m\u001b[0;34m}\u001b[0m\u001b[0;34m)\u001b[0m\u001b[0;34m\u001b[0m\u001b[0;34m\u001b[0m\u001b[0m\n\u001b[1;32m      3\u001b[0m \u001b[0;34m\u001b[0m\u001b[0m\n\u001b[0;32m----> 4\u001b[0;31m \u001b[0mtrain_labels\u001b[0m \u001b[0;34m=\u001b[0m \u001b[0mtrain_labels\u001b[0m\u001b[0;34m.\u001b[0m\u001b[0mapply\u001b[0m\u001b[0;34m(\u001b[0m\u001b[0mtonumber\u001b[0m\u001b[0;34m)\u001b[0m\u001b[0;34m\u001b[0m\u001b[0;34m\u001b[0m\u001b[0m\n\u001b[0m",
            "\u001b[0;32m/usr/local/lib/python3.7/dist-packages/pandas/core/series.py\u001b[0m in \u001b[0;36mapply\u001b[0;34m(self, func, convert_dtype, args, **kwds)\u001b[0m\n\u001b[1;32m   4211\u001b[0m             \u001b[0;32melse\u001b[0m\u001b[0;34m:\u001b[0m\u001b[0;34m\u001b[0m\u001b[0;34m\u001b[0m\u001b[0m\n\u001b[1;32m   4212\u001b[0m                 \u001b[0mvalues\u001b[0m \u001b[0;34m=\u001b[0m \u001b[0mself\u001b[0m\u001b[0;34m.\u001b[0m\u001b[0mastype\u001b[0m\u001b[0;34m(\u001b[0m\u001b[0mobject\u001b[0m\u001b[0;34m)\u001b[0m\u001b[0;34m.\u001b[0m\u001b[0m_values\u001b[0m\u001b[0;34m\u001b[0m\u001b[0;34m\u001b[0m\u001b[0m\n\u001b[0;32m-> 4213\u001b[0;31m                 \u001b[0mmapped\u001b[0m \u001b[0;34m=\u001b[0m \u001b[0mlib\u001b[0m\u001b[0;34m.\u001b[0m\u001b[0mmap_infer\u001b[0m\u001b[0;34m(\u001b[0m\u001b[0mvalues\u001b[0m\u001b[0;34m,\u001b[0m \u001b[0mf\u001b[0m\u001b[0;34m,\u001b[0m \u001b[0mconvert\u001b[0m\u001b[0;34m=\u001b[0m\u001b[0mconvert_dtype\u001b[0m\u001b[0;34m)\u001b[0m\u001b[0;34m\u001b[0m\u001b[0;34m\u001b[0m\u001b[0m\n\u001b[0m\u001b[1;32m   4214\u001b[0m \u001b[0;34m\u001b[0m\u001b[0m\n\u001b[1;32m   4215\u001b[0m         \u001b[0;32mif\u001b[0m \u001b[0mlen\u001b[0m\u001b[0;34m(\u001b[0m\u001b[0mmapped\u001b[0m\u001b[0;34m)\u001b[0m \u001b[0;32mand\u001b[0m \u001b[0misinstance\u001b[0m\u001b[0;34m(\u001b[0m\u001b[0mmapped\u001b[0m\u001b[0;34m[\u001b[0m\u001b[0;36m0\u001b[0m\u001b[0;34m]\u001b[0m\u001b[0;34m,\u001b[0m \u001b[0mSeries\u001b[0m\u001b[0;34m)\u001b[0m\u001b[0;34m:\u001b[0m\u001b[0;34m\u001b[0m\u001b[0;34m\u001b[0m\u001b[0m\n",
            "\u001b[0;32mpandas/_libs/lib.pyx\u001b[0m in \u001b[0;36mpandas._libs.lib.map_infer\u001b[0;34m()\u001b[0m\n",
            "\u001b[0;32m<ipython-input-60-523a8fd49e33>\u001b[0m in \u001b[0;36mtonumber\u001b[0;34m(x)\u001b[0m\n\u001b[1;32m      1\u001b[0m \u001b[0;32mdef\u001b[0m \u001b[0mtonumber\u001b[0m\u001b[0;34m(\u001b[0m\u001b[0mx\u001b[0m\u001b[0;34m)\u001b[0m\u001b[0;34m:\u001b[0m\u001b[0;34m\u001b[0m\u001b[0;34m\u001b[0m\u001b[0m\n\u001b[0;32m----> 2\u001b[0;31m     \u001b[0;32mreturn\u001b[0m \u001b[0mx\u001b[0m\u001b[0;34m.\u001b[0m\u001b[0mmap\u001b[0m\u001b[0;34m(\u001b[0m\u001b[0;34m{\u001b[0m\u001b[0;34m'g'\u001b[0m\u001b[0;34m:\u001b[0m\u001b[0;36m1\u001b[0m\u001b[0;34m,\u001b[0m \u001b[0;34m'b'\u001b[0m\u001b[0;34m:\u001b[0m \u001b[0;36m0\u001b[0m\u001b[0;34m}\u001b[0m\u001b[0;34m)\u001b[0m\u001b[0;34m\u001b[0m\u001b[0;34m\u001b[0m\u001b[0m\n\u001b[0m\u001b[1;32m      3\u001b[0m \u001b[0;34m\u001b[0m\u001b[0m\n\u001b[1;32m      4\u001b[0m \u001b[0mtrain_labels\u001b[0m \u001b[0;34m=\u001b[0m \u001b[0mtrain_labels\u001b[0m\u001b[0;34m.\u001b[0m\u001b[0mapply\u001b[0m\u001b[0;34m(\u001b[0m\u001b[0mtonumber\u001b[0m\u001b[0;34m)\u001b[0m\u001b[0;34m\u001b[0m\u001b[0;34m\u001b[0m\u001b[0m\n",
            "\u001b[0;31mAttributeError\u001b[0m: 'str' object has no attribute 'map'"
          ]
        }
      ]
    },
    {
      "cell_type": "code",
      "metadata": {
        "colab": {
          "base_uri": "https://localhost:8080/"
        },
        "id": "YyNWb37evnmK",
        "outputId": "75d52cc9-e6fd-491b-bfb0-ca56bba16046"
      },
      "source": [
        "train_labels"
      ],
      "execution_count": 57,
      "outputs": [
        {
          "output_type": "execute_result",
          "data": {
            "text/plain": [
              "197    g\n",
              "189    g\n",
              "7      b\n",
              "46     g\n",
              "136    b\n",
              "      ..\n",
              "77     b\n",
              "230    b\n",
              "206    b\n",
              "278    g\n",
              "195    g\n",
              "Name: label, Length: 211, dtype: object"
            ]
          },
          "metadata": {
            "tags": []
          },
          "execution_count": 57
        }
      ]
    },
    {
      "cell_type": "code",
      "metadata": {
        "id": "vyHZmb2gr-5g"
      },
      "source": [
        ""
      ],
      "execution_count": null,
      "outputs": []
    },
    {
      "cell_type": "code",
      "metadata": {
        "id": "0OLZ_goNuQ8Y"
      },
      "source": [
        ""
      ],
      "execution_count": null,
      "outputs": []
    },
    {
      "cell_type": "code",
      "metadata": {
        "id": "D0jQBfv5uRAO"
      },
      "source": [
        ""
      ],
      "execution_count": null,
      "outputs": []
    },
    {
      "cell_type": "code",
      "metadata": {
        "id": "7FB7jjoRuRDP"
      },
      "source": [
        ""
      ],
      "execution_count": null,
      "outputs": []
    },
    {
      "cell_type": "code",
      "metadata": {
        "id": "t6c14RofuRIa"
      },
      "source": [
        ""
      ],
      "execution_count": null,
      "outputs": []
    },
    {
      "cell_type": "code",
      "metadata": {
        "id": "mokFcScguRa5"
      },
      "source": [
        ""
      ],
      "execution_count": null,
      "outputs": []
    },
    {
      "cell_type": "code",
      "metadata": {
        "id": "f-n7-VXhuRgi"
      },
      "source": [
        ""
      ],
      "execution_count": null,
      "outputs": []
    },
    {
      "cell_type": "code",
      "metadata": {
        "id": "8xaD-BLcBQSX"
      },
      "source": [
        "# As per Assignment instructions\n",
        "def build_model():\n",
        "  model = models.Sequential()\n",
        "  model.add(layers.Dense(10, activation='relu',input_shape=(normed_train_dataset.shape[1],)))\n",
        "  model.add(layers.Dense(8, activation='relu'))\n",
        "  model.add(layers.Dense(6, activation='relu'))\n",
        "  model.add(layers.Dense(1))\n",
        "  model.compile(optimizer='rmsprop', loss='mse', metrics=['mae'])\n",
        "  return model"
      ],
      "execution_count": null,
      "outputs": []
    },
    {
      "cell_type": "code",
      "metadata": {
        "id": "EV8iqktFBQYf"
      },
      "source": [
        "model = build_model()"
      ],
      "execution_count": null,
      "outputs": []
    },
    {
      "cell_type": "code",
      "metadata": {
        "colab": {
          "base_uri": "https://localhost:8080/"
        },
        "id": "DrxNfNdlCAKC",
        "outputId": "f79362a0-5a9e-4760-f94c-d21df52a758e"
      },
      "source": [
        "model.summary()"
      ],
      "execution_count": null,
      "outputs": [
        {
          "output_type": "stream",
          "text": [
            "Model: \"sequential_2\"\n",
            "_________________________________________________________________\n",
            "Layer (type)                 Output Shape              Param #   \n",
            "=================================================================\n",
            "dense_8 (Dense)              (None, 10)                90        \n",
            "_________________________________________________________________\n",
            "dense_9 (Dense)              (None, 8)                 88        \n",
            "_________________________________________________________________\n",
            "dense_10 (Dense)             (None, 6)                 54        \n",
            "_________________________________________________________________\n",
            "dense_11 (Dense)             (None, 1)                 7         \n",
            "=================================================================\n",
            "Total params: 239\n",
            "Trainable params: 239\n",
            "Non-trainable params: 0\n",
            "_________________________________________________________________\n"
          ],
          "name": "stdout"
        }
      ]
    },
    {
      "cell_type": "code",
      "metadata": {
        "id": "8xXMFyVcCAQT"
      },
      "source": [
        "# As per Assignment Epochs\n",
        "history = model.fit(normed_train_dataset, train_labels, epochs=200, batch_size=8, validation_split=0.2, verbose=0)"
      ],
      "execution_count": null,
      "outputs": []
    },
    {
      "cell_type": "code",
      "metadata": {
        "colab": {
          "base_uri": "https://localhost:8080/",
          "height": 204
        },
        "id": "XVN6cyfUCF1F",
        "outputId": "746f6cc1-0d6b-4534-b3c2-837f61b8b6f7"
      },
      "source": [
        "hist = pd.DataFrame(history.history)\n",
        "hist['epoch'] = history.epoch\n",
        "hist.tail()"
      ],
      "execution_count": null,
      "outputs": [
        {
          "output_type": "execute_result",
          "data": {
            "text/html": [
              "<div>\n",
              "<style scoped>\n",
              "    .dataframe tbody tr th:only-of-type {\n",
              "        vertical-align: middle;\n",
              "    }\n",
              "\n",
              "    .dataframe tbody tr th {\n",
              "        vertical-align: top;\n",
              "    }\n",
              "\n",
              "    .dataframe thead th {\n",
              "        text-align: right;\n",
              "    }\n",
              "</style>\n",
              "<table border=\"1\" class=\"dataframe\">\n",
              "  <thead>\n",
              "    <tr style=\"text-align: right;\">\n",
              "      <th></th>\n",
              "      <th>loss</th>\n",
              "      <th>mae</th>\n",
              "      <th>val_loss</th>\n",
              "      <th>val_mae</th>\n",
              "      <th>epoch</th>\n",
              "    </tr>\n",
              "  </thead>\n",
              "  <tbody>\n",
              "    <tr>\n",
              "      <th>195</th>\n",
              "      <td>34.099751</td>\n",
              "      <td>4.506894</td>\n",
              "      <td>42.157440</td>\n",
              "      <td>5.197068</td>\n",
              "      <td>195</td>\n",
              "    </tr>\n",
              "    <tr>\n",
              "      <th>196</th>\n",
              "      <td>33.913940</td>\n",
              "      <td>4.503933</td>\n",
              "      <td>44.239761</td>\n",
              "      <td>5.218402</td>\n",
              "      <td>196</td>\n",
              "    </tr>\n",
              "    <tr>\n",
              "      <th>197</th>\n",
              "      <td>34.089790</td>\n",
              "      <td>4.478327</td>\n",
              "      <td>42.651104</td>\n",
              "      <td>5.187805</td>\n",
              "      <td>197</td>\n",
              "    </tr>\n",
              "    <tr>\n",
              "      <th>198</th>\n",
              "      <td>33.788200</td>\n",
              "      <td>4.495978</td>\n",
              "      <td>41.666996</td>\n",
              "      <td>5.196627</td>\n",
              "      <td>198</td>\n",
              "    </tr>\n",
              "    <tr>\n",
              "      <th>199</th>\n",
              "      <td>34.135216</td>\n",
              "      <td>4.528048</td>\n",
              "      <td>42.015781</td>\n",
              "      <td>5.163747</td>\n",
              "      <td>199</td>\n",
              "    </tr>\n",
              "  </tbody>\n",
              "</table>\n",
              "</div>"
            ],
            "text/plain": [
              "          loss       mae   val_loss   val_mae  epoch\n",
              "195  34.099751  4.506894  42.157440  5.197068    195\n",
              "196  33.913940  4.503933  44.239761  5.218402    196\n",
              "197  34.089790  4.478327  42.651104  5.187805    197\n",
              "198  33.788200  4.495978  41.666996  5.196627    198\n",
              "199  34.135216  4.528048  42.015781  5.163747    199"
            ]
          },
          "metadata": {
            "tags": []
          },
          "execution_count": 57
        }
      ]
    },
    {
      "cell_type": "code",
      "metadata": {
        "colab": {
          "base_uri": "https://localhost:8080/",
          "height": 295
        },
        "id": "gBvRIrsLCF45",
        "outputId": "3aa670fb-f5a1-48ae-c551-d483713f1301"
      },
      "source": [
        "mae = history.history['mae']\n",
        "val_mae = history.history['val_mae']\n",
        "epochs = range(1, len(mae) + 1)\n",
        "plt.plot(epochs, mae, 'bo', label='Training mae')\n",
        "plt.plot(epochs, val_mae, 'b', label='Validation mae')\n",
        "plt.title('Training and validation mae')\n",
        "plt.xlabel('Epochs')\n",
        "plt.ylabel('mae')\n",
        "plt.legend()\n",
        "plt.show()"
      ],
      "execution_count": null,
      "outputs": [
        {
          "output_type": "display_data",
          "data": {
            "image/png": "[encoded data removed]",
            "text/plain": [
              "<Figure size 432x288 with 1 Axes>"
            ]
          },
          "metadata": {
            "tags": [],
            "needs_background": "light"
          }
        }
      ]
    },
    {
      "cell_type": "code",
      "metadata": {
        "colab": {
          "base_uri": "https://localhost:8080/",
          "height": 295
        },
        "id": "dVksU7VHDeij",
        "outputId": "5bca6440-8acf-4d7c-ee8f-de943417b7a7"
      },
      "source": [
        "loss = history.history['loss']\n",
        "val_loss = history.history['val_loss']\n",
        "epochs = range(1, len(loss) + 1)\n",
        "plt.plot(epochs, mae, 'bo', label='Training loss')\n",
        "plt.plot(epochs, val_mae, 'b', label='Validation loss')\n",
        "plt.title('Training and validation loss')\n",
        "plt.xlabel('Epochs')\n",
        "plt.ylabel('loss')\n",
        "plt.legend()\n",
        "plt.show()"
      ],
      "execution_count": null,
      "outputs": [
        {
          "output_type": "display_data",
          "data": {
            "image/png": "[encoded data removed]",
            "text/plain": [
              "<Figure size 432x288 with 1 Axes>"
            ]
          },
          "metadata": {
            "tags": [],
            "needs_background": "light"
          }
        }
      ]
    },
    {
      "cell_type": "code",
      "metadata": {
        "id": "PjKjCqw_Q9r0"
      },
      "source": [
        "# Readjusting\n",
        "def build_model():\n",
        "  model = models.Sequential()\n",
        "  model.add(layers.Dense(32, activation='relu',input_shape=(normed_train_dataset.shape[1],)))\n",
        "  model.add(layers.Dense(32, activation='relu'))\n",
        "  model.add(layers.Dense(16, activation='relu'))\n",
        "  model.add(layers.Dense(1))\n",
        "  model.compile(optimizer='rmsprop', loss='mse', metrics=['mae'])\n",
        "  return model"
      ],
      "execution_count": null,
      "outputs": []
    },
    {
      "cell_type": "code",
      "metadata": {
        "id": "Zu5UdH-SQ9wC"
      },
      "source": [
        "model = build_model()"
      ],
      "execution_count": null,
      "outputs": []
    },
    {
      "cell_type": "code",
      "metadata": {
        "colab": {
          "base_uri": "https://localhost:8080/"
        },
        "id": "TRQrRypgQ90L",
        "outputId": "37c860e8-f9d9-42ef-eb50-f1567492ce15"
      },
      "source": [
        "model.summary()"
      ],
      "execution_count": null,
      "outputs": [
        {
          "output_type": "stream",
          "text": [
            "Model: \"sequential_5\"\n",
            "_________________________________________________________________\n",
            "Layer (type)                 Output Shape              Param #   \n",
            "=================================================================\n",
            "dense_20 (Dense)             (None, 32)                288       \n",
            "_________________________________________________________________\n",
            "dense_21 (Dense)             (None, 32)                1056      \n",
            "_________________________________________________________________\n",
            "dense_22 (Dense)             (None, 16)                528       \n",
            "_________________________________________________________________\n",
            "dense_23 (Dense)             (None, 1)                 17        \n",
            "=================================================================\n",
            "Total params: 1,889\n",
            "Trainable params: 1,889\n",
            "Non-trainable params: 0\n",
            "_________________________________________________________________\n"
          ],
          "name": "stdout"
        }
      ]
    },
    {
      "cell_type": "code",
      "metadata": {
        "id": "6aEi3ffGQ93R"
      },
      "source": [
        "# Adjusting Epochs\n",
        "history = model.fit(normed_train_dataset, train_labels, epochs=500, batch_size=8, validation_split=0.2, verbose=0)"
      ],
      "execution_count": null,
      "outputs": []
    },
    {
      "cell_type": "code",
      "metadata": {
        "colab": {
          "base_uri": "https://localhost:8080/",
          "height": 204
        },
        "id": "u14LNJezQ98K",
        "outputId": "0cb63c95-d613-4515-ae00-34c4562ab8d8"
      },
      "source": [
        "hist = pd.DataFrame(history.history)\n",
        "hist['epoch'] = history.epoch\n",
        "hist.tail()"
      ],
      "execution_count": null,
      "outputs": [
        {
          "output_type": "execute_result",
          "data": {
            "text/html": [
              "<div>\n",
              "<style scoped>\n",
              "    .dataframe tbody tr th:only-of-type {\n",
              "        vertical-align: middle;\n",
              "    }\n",
              "\n",
              "    .dataframe tbody tr th {\n",
              "        vertical-align: top;\n",
              "    }\n",
              "\n",
              "    .dataframe thead th {\n",
              "        text-align: right;\n",
              "    }\n",
              "</style>\n",
              "<table border=\"1\" class=\"dataframe\">\n",
              "  <thead>\n",
              "    <tr style=\"text-align: right;\">\n",
              "      <th></th>\n",
              "      <th>loss</th>\n",
              "      <th>mae</th>\n",
              "      <th>val_loss</th>\n",
              "      <th>val_mae</th>\n",
              "      <th>epoch</th>\n",
              "    </tr>\n",
              "  </thead>\n",
              "  <tbody>\n",
              "    <tr>\n",
              "      <th>495</th>\n",
              "      <td>12.425515</td>\n",
              "      <td>2.568680</td>\n",
              "      <td>23.110163</td>\n",
              "      <td>3.687423</td>\n",
              "      <td>495</td>\n",
              "    </tr>\n",
              "    <tr>\n",
              "      <th>496</th>\n",
              "      <td>11.552792</td>\n",
              "      <td>2.426978</td>\n",
              "      <td>26.693930</td>\n",
              "      <td>4.043894</td>\n",
              "      <td>496</td>\n",
              "    </tr>\n",
              "    <tr>\n",
              "      <th>497</th>\n",
              "      <td>12.521665</td>\n",
              "      <td>2.573584</td>\n",
              "      <td>26.114862</td>\n",
              "      <td>3.979903</td>\n",
              "      <td>497</td>\n",
              "    </tr>\n",
              "    <tr>\n",
              "      <th>498</th>\n",
              "      <td>12.350956</td>\n",
              "      <td>2.553720</td>\n",
              "      <td>21.538210</td>\n",
              "      <td>3.590041</td>\n",
              "      <td>498</td>\n",
              "    </tr>\n",
              "    <tr>\n",
              "      <th>499</th>\n",
              "      <td>11.738581</td>\n",
              "      <td>2.499622</td>\n",
              "      <td>24.369249</td>\n",
              "      <td>3.781035</td>\n",
              "      <td>499</td>\n",
              "    </tr>\n",
              "  </tbody>\n",
              "</table>\n",
              "</div>"
            ],
            "text/plain": [
              "          loss       mae   val_loss   val_mae  epoch\n",
              "495  12.425515  2.568680  23.110163  3.687423    495\n",
              "496  11.552792  2.426978  26.693930  4.043894    496\n",
              "497  12.521665  2.573584  26.114862  3.979903    497\n",
              "498  12.350956  2.553720  21.538210  3.590041    498\n",
              "499  11.738581  2.499622  24.369249  3.781035    499"
            ]
          },
          "metadata": {
            "tags": []
          },
          "execution_count": 74
        }
      ]
    },
    {
      "cell_type": "code",
      "metadata": {
        "colab": {
          "base_uri": "https://localhost:8080/",
          "height": 295
        },
        "id": "WL9KDVk3Q9_S",
        "outputId": "e7bf5d38-1852-4194-aaa3-6edced2c3006"
      },
      "source": [
        "mae = history.history['mae']\n",
        "val_mae = history.history['val_mae']\n",
        "epochs = range(1, len(mae) + 1)\n",
        "plt.plot(epochs, mae, 'bo', label='Training mae')\n",
        "plt.plot(epochs, val_mae, 'b', label='Validation mae')\n",
        "plt.title('Training and validation mae')\n",
        "plt.xlabel('Epochs')\n",
        "plt.ylabel('mae')\n",
        "plt.legend()\n",
        "plt.show()"
      ],
      "execution_count": null,
      "outputs": [
        {
          "output_type": "display_data",
          "data": {
            "image/png": "[encoded data removed]",
            "text/plain": [
              "<Figure size 432x288 with 1 Axes>"
            ]
          },
          "metadata": {
            "tags": [],
            "needs_background": "light"
          }
        }
      ]
    },
    {
      "cell_type": "code",
      "metadata": {
        "colab": {
          "base_uri": "https://localhost:8080/",
          "height": 295
        },
        "id": "nF5H1LVTRZF_",
        "outputId": "aff965ef-4f39-49c5-dbd9-9ad1a932f64c"
      },
      "source": [
        "loss = history.history['loss']\n",
        "val_loss = history.history['val_loss']\n",
        "epochs = range(1, len(loss) + 1)\n",
        "plt.plot(epochs, mae, 'bo', label='Training loss')\n",
        "plt.plot(epochs, val_mae, 'b', label='Validation loss')\n",
        "plt.title('Training and validation loss')\n",
        "plt.xlabel('Epochs')\n",
        "plt.ylabel('loss')\n",
        "plt.legend()\n",
        "plt.show()"
      ],
      "execution_count": null,
      "outputs": [
        {
          "output_type": "display_data",
          "data": {
            "image/png": "[encoded data removed]",
            "text/plain": [
              "<Figure size 432x288 with 1 Axes>"
            ]
          },
          "metadata": {
            "tags": [],
            "needs_background": "light"
          }
        }
      ]
    },
    {
      "cell_type": "code",
      "metadata": {
        "id": "RgU9H6Vdoc2f"
      },
      "source": [
        "evaluate = model.evaluate(normed_test_dataset, test_labels, verbose=0)"
      ],
      "execution_count": null,
      "outputs": []
    },
    {
      "cell_type": "code",
      "metadata": {
        "colab": {
          "base_uri": "https://localhost:8080/"
        },
        "id": "X9J5BSdySzIe",
        "outputId": "11188c46-af0b-43e4-8ad2-61c492c1e4b1"
      },
      "source": [
        "evaluate"
      ],
      "execution_count": null,
      "outputs": [
        {
          "output_type": "execute_result",
          "data": {
            "text/plain": [
              "[43.552734375, 4.5777740478515625]"
            ]
          },
          "metadata": {
            "tags": []
          },
          "execution_count": 78
        }
      ]
    },
    {
      "cell_type": "code",
      "metadata": {
        "id": "ncywtKRkSzBJ"
      },
      "source": [
        "test_predictions = model.predict(normed_test_dataset)"
      ],
      "execution_count": null,
      "outputs": []
    },
    {
      "cell_type": "code",
      "metadata": {
        "colab": {
          "base_uri": "https://localhost:8080/"
        },
        "id": "fQULoApBSy9N",
        "outputId": "adb39ea3-70b2-4eec-d604-e6891ad7d18b"
      },
      "source": [
        "test_predictions[:10]"
      ],
      "execution_count": null,
      "outputs": [
        {
          "output_type": "execute_result",
          "data": {
            "text/plain": [
              "array([[58.88801 ],\n",
              "       [46.267773],\n",
              "       [28.922884],\n",
              "       [28.72124 ],\n",
              "       [48.373543],\n",
              "       [30.730053],\n",
              "       [51.69705 ],\n",
              "       [51.198254],\n",
              "       [50.038605],\n",
              "       [43.111313]], dtype=float32)"
            ]
          },
          "metadata": {
            "tags": []
          },
          "execution_count": 81
        }
      ]
    },
    {
      "cell_type": "code",
      "metadata": {
        "colab": {
          "base_uri": "https://localhost:8080/"
        },
        "id": "YLJs94IBSy1m",
        "outputId": "5089a3d4-839f-48a7-cb73-8558a46fa3bb"
      },
      "source": [
        "test_labels[:10]"
      ],
      "execution_count": null,
      "outputs": [
        {
          "output_type": "execute_result",
          "data": {
            "text/plain": [
              "0     79.99\n",
              "2     40.27\n",
              "4     44.30\n",
              "11    28.02\n",
              "13    42.33\n",
              "14    47.81\n",
              "16    39.36\n",
              "17    56.14\n",
              "30    55.26\n",
              "34    53.69\n",
              "Name: Concrete compressive strength(MPa, megapascals) , dtype: float64"
            ]
          },
          "metadata": {
            "tags": []
          },
          "execution_count": 82
        }
      ]
    },
    {
      "cell_type": "code",
      "metadata": {
        "id": "8IlhbGlZSywV"
      },
      "source": [
        ""
      ],
      "execution_count": null,
      "outputs": []
    },
    {
      "cell_type": "code",
      "metadata": {
        "id": "CZwUeTGpSypa"
      },
      "source": [
        ""
      ],
      "execution_count": null,
      "outputs": []
    }
  ]
}